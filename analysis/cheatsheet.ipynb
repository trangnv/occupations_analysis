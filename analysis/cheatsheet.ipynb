{
 "cells": [
  {
   "cell_type": "code",
   "execution_count": 1,
   "metadata": {},
   "outputs": [],
   "source": [
    "import glob\n",
    "from pathlib import Path\n",
    "import pandas as pd\n",
    "import numpy as np\n",
    "\n",
    "import warnings\n",
    "warnings.filterwarnings('ignore')"
   ]
  },
  {
   "cell_type": "markdown",
   "metadata": {},
   "source": [
    "# Utils"
   ]
  },
  {
   "cell_type": "markdown",
   "metadata": {},
   "source": [
    "# Job requirement"
   ]
  },
  {
   "cell_type": "markdown",
   "metadata": {},
   "source": [
    "## Analyze requirement keywords"
   ]
  },
  {
   "cell_type": "code",
   "execution_count": 26,
   "metadata": {},
   "outputs": [
    {
     "name": "stdout",
     "output_type": "stream",
     "text": [
      "(90997,)\n"
     ]
    },
    {
     "data": {
      "text/plain": [
       "553875"
      ]
     },
     "execution_count": 26,
     "metadata": {},
     "output_type": "execute_result"
    }
   ],
   "source": [
    "print(df.requirement_list_cleaned.shape)\n",
    "df.requirement_list_cleaned.apply(len).sum()\n"
   ]
  },
  {
   "cell_type": "code",
   "execution_count": 50,
   "metadata": {},
   "outputs": [],
   "source": [
    "import itertools\n",
    "from collections import Counter"
   ]
  },
  {
   "cell_type": "code",
   "execution_count": null,
   "metadata": {},
   "outputs": [],
   "source": [
    "query_column = 'blue_or_white'\n",
    "query_word = 'blue'\n",
    "querydf = df.loc[df[query_column] == query_word]\n",
    "\n",
    "keywords = list(itertools.chain(*querydf.loc[:,'tokenized_requirement']))\n",
    "counts = Counter(keywords)"
   ]
  },
  {
   "cell_type": "code",
   "execution_count": null,
   "metadata": {},
   "outputs": [],
   "source": [
    "query_words_degree = ['trung cấp', 'trung học',  \n",
    "'không yêu cầu',\n",
    "                    'chứng chỉ', 'trung học phổ thông','trung cấp - nghề', \n",
    "                    'chứng chỉ chuyên ngành', 'lao động phổ thông', 'chứng chỉ - sơ cấp nghề',\n",
    "                    ]"
   ]
  },
  {
   "cell_type": "code",
   "execution_count": null,
   "metadata": {},
   "outputs": [],
   "source": [
    "keywords = {\n",
    "    'kn1-giaotiep': ['giao tiếp', 'đàm phán', 'thuyết phục', 'thuyết trình', 'thân thiện', 'rõ ràng',\n",
    "                    'trình bày', 'tác phong', 'lắng nghe', 'truyền đạt', 'cởi mở', 'khéo léo',\n",
    "                    'tương tác', 'tiếp thu', 'phản biện', 'hoạt ngôn', 'hòa nhã', 'thương thảo',\n",
    "                    'ứng xử', 'thương thuyết', 'tự nhiên', 'trôi chảy', 'rành mạch',\n",
    "                    'linh hoạt', 'hợp tác', 'ứng biến'],\n",
    "    'kn2-xahoi': ['nhóm', 'đàm phán', 'thuyết phục', 'thuyết trình', 'chăm sóc', 'khách hàng',\n",
    "                    'lãnh đạo', 'trình bày', 'thương lượng', 'phản biện'     ],\n",
    "    'kn3': [],\n",
    "    'kn4': [],\n",
    "    'kn5': [],\n",
    "    'kn6': [],\n",
    "    'kn7': []\n",
    "}"
   ]
  },
  {
   "cell_type": "code",
   "execution_count": 101,
   "metadata": {},
   "outputs": [],
   "source": [
    "keywords2 = {\n",
    "'giaotiep': ['giao_tiếp',  'thân_thiện', 'rõ_ràng', 'trình_bày','tác_phong','lắng_nghe', 'truyền_đạt', 'cởi_mở', 'khéo_léo', \n",
    "                'tương_tác', 'tiếp_thu', 'phản_biện', 'hoạt_ngôn','hòa_nhã', 'giao_tiếp_ứng_xử',  'tự_nhiên','trôi_chảy','rành_mạch', \n",
    "                'giao_tiếp_linh_hoạt', 'giao_tiếp_hợp_tác', 'giao_tiếp_ứng_biến'\n",
    "                    ],\n",
    "'xahoi': ['làm_việc nhóm', 'đàm_phán', 'thuyết_phục', 'thuyết_trình', 'chăm_sóc','thương_thảo', 'thương_thuyết',\n",
    "                    'khách_hàng', 'lãnh_đạo', 'trình_bày', 'thương_lượng', 'phản_biện', 'quản_lý', 'thời_gian', \n",
    "                    'quản_lý thời_gian', ],\n",
    "        \n",
    "'phantich': ['phân_tích', 'giải_quyết vấn_đề', 'nhạy_bén', 'tư_duy logic', 'quyết_đoán', 'xử_lý vấn_đề', \n",
    "                'problem solving', 'ứng_biến', 'lập_luận', 'xử_lý_giải_quyết', 'nhìn_nhận', 'vấn_đề', 'đào_sâu'],\n",
    "\n",
    "'congnghe': ['excel', 'tin_học văn_phòng', 'word', 'vi_tính', 'vi_tính văn_phòng', 'ms office', 'microsoft office', \n",
    "        'microsoft word', 'microsoft excel'],\n",
    "\n",
    "\n",
    "'thaido': ['trung_thực', 'năng_động', 'nhanh_nhẹn', 'nhiệt_tình', 'cẩn_thận', 'tinh_thần trách_nhiệm', \n",
    "            'chủ_động', 'linh_hoạt', 'thái_độ', 'tự_tin', 'hòa_đồng', \n",
    "            'tác_phong chuyên_nghiệp'],\n",
    "\n",
    "\n",
    "'kn6': ['độc_lập','kỹ_năng lập_kế_hoạch', 'áp_lực'],\n",
    "\n",
    "'ngoaingu': ['ngoại_ngữ','tiếng_anh giao_tiếp','tiếng anh giao_tiếp','tiếng anh tốt',\n",
    "                'tiếng anh cơ_bản','tiếng anh thành_thạo','giao_tiếp tiếng anh cơ_bản']\n",
    "}"
   ]
  },
  {
   "cell_type": "code",
   "execution_count": 84,
   "metadata": {},
   "outputs": [],
   "source": [
    "def remove_underscore(text):    \n",
    "    # remove html markup\n",
    "    text=re.sub(\"_\",\" \",text)\n",
    "    return text\n",
    "\n",
    "removeUnderscore = lambda x: remove_underscore(x)"
   ]
  },
  {
   "cell_type": "code",
   "execution_count": 110,
   "metadata": {},
   "outputs": [],
   "source": [
    "def count_keyword_frequency_vi(df,query_column, query_value, path, save=False, ):\n",
    "    counts_df = pd.DataFrame()\n",
    "    for key in list(keywords2.keys()):\n",
    "        keywords = keywords2[key]\n",
    "        querydf = df.loc[df[query_column] == query_value]\n",
    "        querydf = querydf.loc[~df['tokenized_requirement_2'].isnull()]\n",
    "        \n",
    "        words = list(itertools.chain(*querydf.loc[:,'tokenized_requirement_2']))\n",
    "        counts = Counter(words)\n",
    "\n",
    "        counts_df_ = pd.DataFrame.from_dict(counts, orient='index').reset_index()\n",
    "        counts_df_.columns = [f'{key}','count']\n",
    "\n",
    "        counts_df_ = counts_df_.loc[counts_df_[f'{key}'].isin(keywords)]\n",
    "        counts_df_ = counts_df_.sort_values('count',ascending=False).reset_index(drop=True)\n",
    "\n",
    "        counts_df_[f'{key}'] = counts_df_[f'{key}'].apply(removeUnderscore)\n",
    "\n",
    "        counts_df = pd.concat([counts_df,counts_df_],axis=1)\n",
    "        # counts_df.to_excel(f\"counters/{query_column} - {query_value}.xlsx\", engine='xlsxwriter')\n",
    "\n",
    "        if save == True:\n",
    "            # writer = pd.ExcelWriter(path, engine='openpyxl', if_sheet_exists='replace', mode='a')\n",
    "            writer = pd.ExcelWriter(path, engine='openpyxl', )\n",
    "            counts_df.to_excel(writer, sheet_name = f\"{query_column}-{query_value}\",index=False)\n",
    "            writer.save()\n",
    "            writer.close()\n",
    "\n",
    "        \n",
    "    return counts_df"
   ]
  },
  {
   "cell_type": "code",
   "execution_count": null,
   "metadata": {},
   "outputs": [],
   "source": [
    "for d in query_words_degree:\n",
    "    count_keyword_frequency_vi(df,'degree',d,path = 'counters/vi.xlsx', save=True)"
   ]
  },
  {
   "cell_type": "code",
   "execution_count": 116,
   "metadata": {},
   "outputs": [
    {
     "data": {
      "text/html": [
       "<div>\n",
       "<style scoped>\n",
       "    .dataframe tbody tr th:only-of-type {\n",
       "        vertical-align: middle;\n",
       "    }\n",
       "\n",
       "    .dataframe tbody tr th {\n",
       "        vertical-align: top;\n",
       "    }\n",
       "\n",
       "    .dataframe thead th {\n",
       "        text-align: right;\n",
       "    }\n",
       "</style>\n",
       "<table border=\"1\" class=\"dataframe\">\n",
       "  <thead>\n",
       "    <tr style=\"text-align: right;\">\n",
       "      <th></th>\n",
       "      <th>giaotiep</th>\n",
       "      <th>count</th>\n",
       "      <th>xahoi</th>\n",
       "      <th>count</th>\n",
       "      <th>phantich</th>\n",
       "      <th>count</th>\n",
       "      <th>congnghe</th>\n",
       "      <th>count</th>\n",
       "      <th>thaido</th>\n",
       "      <th>count</th>\n",
       "      <th>kn6</th>\n",
       "      <th>count</th>\n",
       "      <th>ngoaingu</th>\n",
       "      <th>count</th>\n",
       "    </tr>\n",
       "  </thead>\n",
       "  <tbody>\n",
       "    <tr>\n",
       "      <th>0</th>\n",
       "      <td>giao tiếp</td>\n",
       "      <td>29304</td>\n",
       "      <td>quản lý</td>\n",
       "      <td>18673.0</td>\n",
       "      <td>phân tích</td>\n",
       "      <td>9305.0</td>\n",
       "      <td>excel</td>\n",
       "      <td>8517.0</td>\n",
       "      <td>trung thực</td>\n",
       "      <td>10660.0</td>\n",
       "      <td>áp lực</td>\n",
       "      <td>13879.0</td>\n",
       "      <td>ngoại ngữ</td>\n",
       "      <td>3741.0</td>\n",
       "    </tr>\n",
       "    <tr>\n",
       "      <th>1</th>\n",
       "      <td>thân thiện</td>\n",
       "      <td>2192</td>\n",
       "      <td>khách hàng</td>\n",
       "      <td>11182.0</td>\n",
       "      <td>vấn đề</td>\n",
       "      <td>7040.0</td>\n",
       "      <td>word</td>\n",
       "      <td>5964.0</td>\n",
       "      <td>năng động</td>\n",
       "      <td>8906.0</td>\n",
       "      <td>độc lập</td>\n",
       "      <td>9233.0</td>\n",
       "      <td>NaN</td>\n",
       "      <td>NaN</td>\n",
       "    </tr>\n",
       "    <tr>\n",
       "      <th>2</th>\n",
       "      <td>rõ ràng</td>\n",
       "      <td>2088</td>\n",
       "      <td>thời gian</td>\n",
       "      <td>6370.0</td>\n",
       "      <td>nhạy bén</td>\n",
       "      <td>2101.0</td>\n",
       "      <td>vi tính</td>\n",
       "      <td>5252.0</td>\n",
       "      <td>nhanh nhẹn</td>\n",
       "      <td>8845.0</td>\n",
       "      <td>NaN</td>\n",
       "      <td>NaN</td>\n",
       "      <td>NaN</td>\n",
       "      <td>NaN</td>\n",
       "    </tr>\n",
       "    <tr>\n",
       "      <th>3</th>\n",
       "      <td>trình bày</td>\n",
       "      <td>2026</td>\n",
       "      <td>đàm phán</td>\n",
       "      <td>5740.0</td>\n",
       "      <td>quyết đoán</td>\n",
       "      <td>741.0</td>\n",
       "      <td>NaN</td>\n",
       "      <td>NaN</td>\n",
       "      <td>nhiệt tình</td>\n",
       "      <td>7454.0</td>\n",
       "      <td>NaN</td>\n",
       "      <td>NaN</td>\n",
       "      <td>NaN</td>\n",
       "      <td>NaN</td>\n",
       "    </tr>\n",
       "    <tr>\n",
       "      <th>4</th>\n",
       "      <td>tác phong</td>\n",
       "      <td>1552</td>\n",
       "      <td>thuyết phục</td>\n",
       "      <td>4889.0</td>\n",
       "      <td>nhìn nhận</td>\n",
       "      <td>159.0</td>\n",
       "      <td>NaN</td>\n",
       "      <td>NaN</td>\n",
       "      <td>cẩn thận</td>\n",
       "      <td>7266.0</td>\n",
       "      <td>NaN</td>\n",
       "      <td>NaN</td>\n",
       "      <td>NaN</td>\n",
       "      <td>NaN</td>\n",
       "    </tr>\n",
       "    <tr>\n",
       "      <th>5</th>\n",
       "      <td>lắng nghe</td>\n",
       "      <td>1199</td>\n",
       "      <td>chăm sóc</td>\n",
       "      <td>3765.0</td>\n",
       "      <td>ứng biến</td>\n",
       "      <td>81.0</td>\n",
       "      <td>NaN</td>\n",
       "      <td>NaN</td>\n",
       "      <td>chủ động</td>\n",
       "      <td>6274.0</td>\n",
       "      <td>NaN</td>\n",
       "      <td>NaN</td>\n",
       "      <td>NaN</td>\n",
       "      <td>NaN</td>\n",
       "    </tr>\n",
       "    <tr>\n",
       "      <th>6</th>\n",
       "      <td>truyền đạt</td>\n",
       "      <td>1019</td>\n",
       "      <td>thuyết trình</td>\n",
       "      <td>3447.0</td>\n",
       "      <td>lập luận</td>\n",
       "      <td>38.0</td>\n",
       "      <td>NaN</td>\n",
       "      <td>NaN</td>\n",
       "      <td>linh hoạt</td>\n",
       "      <td>3002.0</td>\n",
       "      <td>NaN</td>\n",
       "      <td>NaN</td>\n",
       "      <td>NaN</td>\n",
       "      <td>NaN</td>\n",
       "    </tr>\n",
       "    <tr>\n",
       "      <th>7</th>\n",
       "      <td>khéo léo</td>\n",
       "      <td>815</td>\n",
       "      <td>lãnh đạo</td>\n",
       "      <td>2057.0</td>\n",
       "      <td>xử lý giải quyết</td>\n",
       "      <td>24.0</td>\n",
       "      <td>NaN</td>\n",
       "      <td>NaN</td>\n",
       "      <td>thái độ</td>\n",
       "      <td>2790.0</td>\n",
       "      <td>NaN</td>\n",
       "      <td>NaN</td>\n",
       "      <td>NaN</td>\n",
       "      <td>NaN</td>\n",
       "    </tr>\n",
       "    <tr>\n",
       "      <th>8</th>\n",
       "      <td>cởi mở</td>\n",
       "      <td>725</td>\n",
       "      <td>trình bày</td>\n",
       "      <td>2026.0</td>\n",
       "      <td>đào sâu</td>\n",
       "      <td>5.0</td>\n",
       "      <td>NaN</td>\n",
       "      <td>NaN</td>\n",
       "      <td>tự tin</td>\n",
       "      <td>2098.0</td>\n",
       "      <td>NaN</td>\n",
       "      <td>NaN</td>\n",
       "      <td>NaN</td>\n",
       "      <td>NaN</td>\n",
       "    </tr>\n",
       "    <tr>\n",
       "      <th>9</th>\n",
       "      <td>tiếp thu</td>\n",
       "      <td>645</td>\n",
       "      <td>thương lượng</td>\n",
       "      <td>1403.0</td>\n",
       "      <td>NaN</td>\n",
       "      <td>NaN</td>\n",
       "      <td>NaN</td>\n",
       "      <td>NaN</td>\n",
       "      <td>hòa đồng</td>\n",
       "      <td>969.0</td>\n",
       "      <td>NaN</td>\n",
       "      <td>NaN</td>\n",
       "      <td>NaN</td>\n",
       "      <td>NaN</td>\n",
       "    </tr>\n",
       "    <tr>\n",
       "      <th>10</th>\n",
       "      <td>tương tác</td>\n",
       "      <td>597</td>\n",
       "      <td>phản biện</td>\n",
       "      <td>277.0</td>\n",
       "      <td>NaN</td>\n",
       "      <td>NaN</td>\n",
       "      <td>NaN</td>\n",
       "      <td>NaN</td>\n",
       "      <td>NaN</td>\n",
       "      <td>NaN</td>\n",
       "      <td>NaN</td>\n",
       "      <td>NaN</td>\n",
       "      <td>NaN</td>\n",
       "      <td>NaN</td>\n",
       "    </tr>\n",
       "    <tr>\n",
       "      <th>11</th>\n",
       "      <td>phản biện</td>\n",
       "      <td>277</td>\n",
       "      <td>thương thảo</td>\n",
       "      <td>175.0</td>\n",
       "      <td>NaN</td>\n",
       "      <td>NaN</td>\n",
       "      <td>NaN</td>\n",
       "      <td>NaN</td>\n",
       "      <td>NaN</td>\n",
       "      <td>NaN</td>\n",
       "      <td>NaN</td>\n",
       "      <td>NaN</td>\n",
       "      <td>NaN</td>\n",
       "      <td>NaN</td>\n",
       "    </tr>\n",
       "    <tr>\n",
       "      <th>12</th>\n",
       "      <td>hòa nhã</td>\n",
       "      <td>193</td>\n",
       "      <td>thương thuyết</td>\n",
       "      <td>156.0</td>\n",
       "      <td>NaN</td>\n",
       "      <td>NaN</td>\n",
       "      <td>NaN</td>\n",
       "      <td>NaN</td>\n",
       "      <td>NaN</td>\n",
       "      <td>NaN</td>\n",
       "      <td>NaN</td>\n",
       "      <td>NaN</td>\n",
       "      <td>NaN</td>\n",
       "      <td>NaN</td>\n",
       "    </tr>\n",
       "    <tr>\n",
       "      <th>13</th>\n",
       "      <td>giao tiếp ứng xử</td>\n",
       "      <td>193</td>\n",
       "      <td>NaN</td>\n",
       "      <td>NaN</td>\n",
       "      <td>NaN</td>\n",
       "      <td>NaN</td>\n",
       "      <td>NaN</td>\n",
       "      <td>NaN</td>\n",
       "      <td>NaN</td>\n",
       "      <td>NaN</td>\n",
       "      <td>NaN</td>\n",
       "      <td>NaN</td>\n",
       "      <td>NaN</td>\n",
       "      <td>NaN</td>\n",
       "    </tr>\n",
       "    <tr>\n",
       "      <th>14</th>\n",
       "      <td>trôi chảy</td>\n",
       "      <td>101</td>\n",
       "      <td>NaN</td>\n",
       "      <td>NaN</td>\n",
       "      <td>NaN</td>\n",
       "      <td>NaN</td>\n",
       "      <td>NaN</td>\n",
       "      <td>NaN</td>\n",
       "      <td>NaN</td>\n",
       "      <td>NaN</td>\n",
       "      <td>NaN</td>\n",
       "      <td>NaN</td>\n",
       "      <td>NaN</td>\n",
       "      <td>NaN</td>\n",
       "    </tr>\n",
       "    <tr>\n",
       "      <th>15</th>\n",
       "      <td>tự nhiên</td>\n",
       "      <td>72</td>\n",
       "      <td>NaN</td>\n",
       "      <td>NaN</td>\n",
       "      <td>NaN</td>\n",
       "      <td>NaN</td>\n",
       "      <td>NaN</td>\n",
       "      <td>NaN</td>\n",
       "      <td>NaN</td>\n",
       "      <td>NaN</td>\n",
       "      <td>NaN</td>\n",
       "      <td>NaN</td>\n",
       "      <td>NaN</td>\n",
       "      <td>NaN</td>\n",
       "    </tr>\n",
       "    <tr>\n",
       "      <th>16</th>\n",
       "      <td>giao tiếp linh hoạt</td>\n",
       "      <td>56</td>\n",
       "      <td>NaN</td>\n",
       "      <td>NaN</td>\n",
       "      <td>NaN</td>\n",
       "      <td>NaN</td>\n",
       "      <td>NaN</td>\n",
       "      <td>NaN</td>\n",
       "      <td>NaN</td>\n",
       "      <td>NaN</td>\n",
       "      <td>NaN</td>\n",
       "      <td>NaN</td>\n",
       "      <td>NaN</td>\n",
       "      <td>NaN</td>\n",
       "    </tr>\n",
       "    <tr>\n",
       "      <th>17</th>\n",
       "      <td>rành mạch</td>\n",
       "      <td>42</td>\n",
       "      <td>NaN</td>\n",
       "      <td>NaN</td>\n",
       "      <td>NaN</td>\n",
       "      <td>NaN</td>\n",
       "      <td>NaN</td>\n",
       "      <td>NaN</td>\n",
       "      <td>NaN</td>\n",
       "      <td>NaN</td>\n",
       "      <td>NaN</td>\n",
       "      <td>NaN</td>\n",
       "      <td>NaN</td>\n",
       "      <td>NaN</td>\n",
       "    </tr>\n",
       "    <tr>\n",
       "      <th>18</th>\n",
       "      <td>giao tiếp hợp tác</td>\n",
       "      <td>18</td>\n",
       "      <td>NaN</td>\n",
       "      <td>NaN</td>\n",
       "      <td>NaN</td>\n",
       "      <td>NaN</td>\n",
       "      <td>NaN</td>\n",
       "      <td>NaN</td>\n",
       "      <td>NaN</td>\n",
       "      <td>NaN</td>\n",
       "      <td>NaN</td>\n",
       "      <td>NaN</td>\n",
       "      <td>NaN</td>\n",
       "      <td>NaN</td>\n",
       "    </tr>\n",
       "    <tr>\n",
       "      <th>19</th>\n",
       "      <td>giao tiếp ứng biến</td>\n",
       "      <td>1</td>\n",
       "      <td>NaN</td>\n",
       "      <td>NaN</td>\n",
       "      <td>NaN</td>\n",
       "      <td>NaN</td>\n",
       "      <td>NaN</td>\n",
       "      <td>NaN</td>\n",
       "      <td>NaN</td>\n",
       "      <td>NaN</td>\n",
       "      <td>NaN</td>\n",
       "      <td>NaN</td>\n",
       "      <td>NaN</td>\n",
       "      <td>NaN</td>\n",
       "    </tr>\n",
       "  </tbody>\n",
       "</table>\n",
       "</div>"
      ],
      "text/plain": [
       "               giaotiep  count          xahoi    count          phantich  \\\n",
       "0             giao tiếp  29304        quản lý  18673.0         phân tích   \n",
       "1            thân thiện   2192     khách hàng  11182.0            vấn đề   \n",
       "2               rõ ràng   2088      thời gian   6370.0          nhạy bén   \n",
       "3             trình bày   2026       đàm phán   5740.0        quyết đoán   \n",
       "4             tác phong   1552    thuyết phục   4889.0         nhìn nhận   \n",
       "5             lắng nghe   1199       chăm sóc   3765.0          ứng biến   \n",
       "6            truyền đạt   1019   thuyết trình   3447.0          lập luận   \n",
       "7              khéo léo    815       lãnh đạo   2057.0  xử lý giải quyết   \n",
       "8                cởi mở    725      trình bày   2026.0           đào sâu   \n",
       "9              tiếp thu    645   thương lượng   1403.0               NaN   \n",
       "10            tương tác    597      phản biện    277.0               NaN   \n",
       "11            phản biện    277    thương thảo    175.0               NaN   \n",
       "12              hòa nhã    193  thương thuyết    156.0               NaN   \n",
       "13     giao tiếp ứng xử    193            NaN      NaN               NaN   \n",
       "14            trôi chảy    101            NaN      NaN               NaN   \n",
       "15             tự nhiên     72            NaN      NaN               NaN   \n",
       "16  giao tiếp linh hoạt     56            NaN      NaN               NaN   \n",
       "17            rành mạch     42            NaN      NaN               NaN   \n",
       "18    giao tiếp hợp tác     18            NaN      NaN               NaN   \n",
       "19   giao tiếp ứng biến      1            NaN      NaN               NaN   \n",
       "\n",
       "     count congnghe   count      thaido    count      kn6    count   ngoaingu  \\\n",
       "0   9305.0    excel  8517.0  trung thực  10660.0   áp lực  13879.0  ngoại ngữ   \n",
       "1   7040.0     word  5964.0   năng động   8906.0  độc lập   9233.0        NaN   \n",
       "2   2101.0  vi tính  5252.0  nhanh nhẹn   8845.0      NaN      NaN        NaN   \n",
       "3    741.0      NaN     NaN  nhiệt tình   7454.0      NaN      NaN        NaN   \n",
       "4    159.0      NaN     NaN    cẩn thận   7266.0      NaN      NaN        NaN   \n",
       "5     81.0      NaN     NaN    chủ động   6274.0      NaN      NaN        NaN   \n",
       "6     38.0      NaN     NaN   linh hoạt   3002.0      NaN      NaN        NaN   \n",
       "7     24.0      NaN     NaN     thái độ   2790.0      NaN      NaN        NaN   \n",
       "8      5.0      NaN     NaN      tự tin   2098.0      NaN      NaN        NaN   \n",
       "9      NaN      NaN     NaN    hòa đồng    969.0      NaN      NaN        NaN   \n",
       "10     NaN      NaN     NaN         NaN      NaN      NaN      NaN        NaN   \n",
       "11     NaN      NaN     NaN         NaN      NaN      NaN      NaN        NaN   \n",
       "12     NaN      NaN     NaN         NaN      NaN      NaN      NaN        NaN   \n",
       "13     NaN      NaN     NaN         NaN      NaN      NaN      NaN        NaN   \n",
       "14     NaN      NaN     NaN         NaN      NaN      NaN      NaN        NaN   \n",
       "15     NaN      NaN     NaN         NaN      NaN      NaN      NaN        NaN   \n",
       "16     NaN      NaN     NaN         NaN      NaN      NaN      NaN        NaN   \n",
       "17     NaN      NaN     NaN         NaN      NaN      NaN      NaN        NaN   \n",
       "18     NaN      NaN     NaN         NaN      NaN      NaN      NaN        NaN   \n",
       "19     NaN      NaN     NaN         NaN      NaN      NaN      NaN        NaN   \n",
       "\n",
       "     count  \n",
       "0   3741.0  \n",
       "1      NaN  \n",
       "2      NaN  \n",
       "3      NaN  \n",
       "4      NaN  \n",
       "5      NaN  \n",
       "6      NaN  \n",
       "7      NaN  \n",
       "8      NaN  \n",
       "9      NaN  \n",
       "10     NaN  \n",
       "11     NaN  \n",
       "12     NaN  \n",
       "13     NaN  \n",
       "14     NaN  \n",
       "15     NaN  \n",
       "16     NaN  \n",
       "17     NaN  \n",
       "18     NaN  \n",
       "19     NaN  "
      ]
     },
     "execution_count": 116,
     "metadata": {},
     "output_type": "execute_result"
    }
   ],
   "source": [
    "count_keyword_frequency_vi(dfvi,'blue_or_white','white',path = 'counters/vi.xlsx', save=True)"
   ]
  },
  {
   "cell_type": "code",
   "execution_count": 151,
   "metadata": {},
   "outputs": [
    {
     "data": {
      "text/plain": [
       "(12474, 19)"
      ]
     },
     "execution_count": 151,
     "metadata": {},
     "output_type": "execute_result"
    }
   ],
   "source": [
    "df.loc[(df.language =='en') & (df.blue_or_white == 'white')].shape\n",
    "df.loc[(df.language =='en') ].shape"
   ]
  },
  {
   "cell_type": "code",
   "execution_count": null,
   "metadata": {},
   "outputs": [],
   "source": [
    "def cleaner(text):\n",
    "    texts = text.split()\n",
    "    l = []\n",
    "    for t in texts:\n",
    "        l.append(re.sub('_',' ',t))\n",
    "    return l\n",
    "\n",
    "def cleaner_2(text):\n",
    "    texts = text.split()\n",
    "    return texts"
   ]
  },
  {
   "cell_type": "code",
   "execution_count": 154,
   "metadata": {},
   "outputs": [],
   "source": [
    "skills = {\n",
    "    'communication': ['commun', 'written','verbal','present','write','oral','speak','spoken','japanes','korean','chines'],\n",
    "    'social': ['interperson','leadership','teamwork','coordin','custom','negoti','manag'],\n",
    "    'problem-solving': ['solv','analyt','creativ'],\n",
    "    'computer': ['microsoft' ,'offic', 'ms offic','comput'],\n",
    "    'attitude': ['independ','pressur','attitud'],\n",
    "    'others': ['detail','english', ]    \n",
    "}"
   ]
  },
  {
   "cell_type": "code",
   "execution_count": 144,
   "metadata": {},
   "outputs": [],
   "source": [
    "def count_keyword_frequency_en(df,query_column, query_value, path, save=False, ):\n",
    "    counts_df = pd.DataFrame()\n",
    "    for key in list(skills.keys()):\n",
    "        keywords = skills[key]\n",
    "        querydf = df.loc[df[query_column] == query_value]\n",
    "        querydf = querydf.loc[~df['tokenized_requirement'].isnull()]\n",
    "        \n",
    "        words = list(itertools.chain(*querydf.loc[:,'tokenized_requirement']))\n",
    "        counts = Counter(words)\n",
    "\n",
    "        counts_df_ = pd.DataFrame.from_dict(counts, orient='index').reset_index()\n",
    "        counts_df_.columns = [f'{key}','count']\n",
    "\n",
    "        counts_df_ = counts_df_.loc[counts_df_[f'{key}'].isin(keywords)]\n",
    "        counts_df_ = counts_df_.sort_values('count',ascending=False).reset_index(drop=True)\n",
    "\n",
    "        counts_df_[f'{key}'] = counts_df_[f'{key}'].apply(removeUnderscore)\n",
    "\n",
    "        counts_df = pd.concat([counts_df,counts_df_],axis=1)\n",
    "        # counts_df.to_excel(f\"counters/{query_column} - {query_value}.xlsx\", engine='xlsxwriter')\n",
    "\n",
    "        if save == True:\n",
    "            # writer = pd.ExcelWriter(path, engine='openpyxl', if_sheet_exists='replace', mode='a')\n",
    "            writer = pd.ExcelWriter(path, engine='openpyxl', )\n",
    "            counts_df.to_excel(writer, sheet_name = f\"{query_column}-{query_value}\",index=False)\n",
    "            writer.save()\n",
    "            writer.close()\n",
    "\n",
    "        \n",
    "    return counts_df"
   ]
  },
  {
   "cell_type": "code",
   "execution_count": 155,
   "metadata": {},
   "outputs": [
    {
     "data": {
      "text/html": [
       "<div>\n",
       "<style scoped>\n",
       "    .dataframe tbody tr th:only-of-type {\n",
       "        vertical-align: middle;\n",
       "    }\n",
       "\n",
       "    .dataframe tbody tr th {\n",
       "        vertical-align: top;\n",
       "    }\n",
       "\n",
       "    .dataframe thead th {\n",
       "        text-align: right;\n",
       "    }\n",
       "</style>\n",
       "<table border=\"1\" class=\"dataframe\">\n",
       "  <thead>\n",
       "    <tr style=\"text-align: right;\">\n",
       "      <th></th>\n",
       "      <th>communication</th>\n",
       "      <th>count</th>\n",
       "      <th>social</th>\n",
       "      <th>count</th>\n",
       "      <th>problem-solving</th>\n",
       "      <th>count</th>\n",
       "      <th>computer</th>\n",
       "      <th>count</th>\n",
       "      <th>attitude</th>\n",
       "      <th>count</th>\n",
       "      <th>others</th>\n",
       "      <th>count</th>\n",
       "    </tr>\n",
       "  </thead>\n",
       "  <tbody>\n",
       "    <tr>\n",
       "      <th>0</th>\n",
       "      <td>commun</td>\n",
       "      <td>9363</td>\n",
       "      <td>manag</td>\n",
       "      <td>8789.0</td>\n",
       "      <td>solv</td>\n",
       "      <td>2683.0</td>\n",
       "      <td>offic</td>\n",
       "      <td>3073.0</td>\n",
       "      <td>pressur</td>\n",
       "      <td>1860.0</td>\n",
       "      <td>english</td>\n",
       "      <td>9723.0</td>\n",
       "    </tr>\n",
       "    <tr>\n",
       "      <th>1</th>\n",
       "      <td>written</td>\n",
       "      <td>2827</td>\n",
       "      <td>custom</td>\n",
       "      <td>2507.0</td>\n",
       "      <td>analyt</td>\n",
       "      <td>2355.0</td>\n",
       "      <td>comput</td>\n",
       "      <td>2827.0</td>\n",
       "      <td>independ</td>\n",
       "      <td>1810.0</td>\n",
       "      <td>detail</td>\n",
       "      <td>1836.0</td>\n",
       "    </tr>\n",
       "    <tr>\n",
       "      <th>2</th>\n",
       "      <td>write</td>\n",
       "      <td>2225</td>\n",
       "      <td>interperson</td>\n",
       "      <td>1767.0</td>\n",
       "      <td>creativ</td>\n",
       "      <td>1236.0</td>\n",
       "      <td>microsoft</td>\n",
       "      <td>1726.0</td>\n",
       "      <td>attitud</td>\n",
       "      <td>1145.0</td>\n",
       "      <td>NaN</td>\n",
       "      <td>NaN</td>\n",
       "    </tr>\n",
       "    <tr>\n",
       "      <th>3</th>\n",
       "      <td>present</td>\n",
       "      <td>1635</td>\n",
       "      <td>negoti</td>\n",
       "      <td>1440.0</td>\n",
       "      <td>NaN</td>\n",
       "      <td>NaN</td>\n",
       "      <td>NaN</td>\n",
       "      <td>NaN</td>\n",
       "      <td>NaN</td>\n",
       "      <td>NaN</td>\n",
       "      <td>NaN</td>\n",
       "      <td>NaN</td>\n",
       "    </tr>\n",
       "    <tr>\n",
       "      <th>4</th>\n",
       "      <td>verbal</td>\n",
       "      <td>1506</td>\n",
       "      <td>leadership</td>\n",
       "      <td>1175.0</td>\n",
       "      <td>NaN</td>\n",
       "      <td>NaN</td>\n",
       "      <td>NaN</td>\n",
       "      <td>NaN</td>\n",
       "      <td>NaN</td>\n",
       "      <td>NaN</td>\n",
       "      <td>NaN</td>\n",
       "      <td>NaN</td>\n",
       "    </tr>\n",
       "    <tr>\n",
       "      <th>5</th>\n",
       "      <td>speak</td>\n",
       "      <td>1249</td>\n",
       "      <td>teamwork</td>\n",
       "      <td>1111.0</td>\n",
       "      <td>NaN</td>\n",
       "      <td>NaN</td>\n",
       "      <td>NaN</td>\n",
       "      <td>NaN</td>\n",
       "      <td>NaN</td>\n",
       "      <td>NaN</td>\n",
       "      <td>NaN</td>\n",
       "      <td>NaN</td>\n",
       "    </tr>\n",
       "    <tr>\n",
       "      <th>6</th>\n",
       "      <td>spoken</td>\n",
       "      <td>950</td>\n",
       "      <td>coordin</td>\n",
       "      <td>312.0</td>\n",
       "      <td>NaN</td>\n",
       "      <td>NaN</td>\n",
       "      <td>NaN</td>\n",
       "      <td>NaN</td>\n",
       "      <td>NaN</td>\n",
       "      <td>NaN</td>\n",
       "      <td>NaN</td>\n",
       "      <td>NaN</td>\n",
       "    </tr>\n",
       "    <tr>\n",
       "      <th>7</th>\n",
       "      <td>japanes</td>\n",
       "      <td>840</td>\n",
       "      <td>NaN</td>\n",
       "      <td>NaN</td>\n",
       "      <td>NaN</td>\n",
       "      <td>NaN</td>\n",
       "      <td>NaN</td>\n",
       "      <td>NaN</td>\n",
       "      <td>NaN</td>\n",
       "      <td>NaN</td>\n",
       "      <td>NaN</td>\n",
       "      <td>NaN</td>\n",
       "    </tr>\n",
       "    <tr>\n",
       "      <th>8</th>\n",
       "      <td>oral</td>\n",
       "      <td>595</td>\n",
       "      <td>NaN</td>\n",
       "      <td>NaN</td>\n",
       "      <td>NaN</td>\n",
       "      <td>NaN</td>\n",
       "      <td>NaN</td>\n",
       "      <td>NaN</td>\n",
       "      <td>NaN</td>\n",
       "      <td>NaN</td>\n",
       "      <td>NaN</td>\n",
       "      <td>NaN</td>\n",
       "    </tr>\n",
       "    <tr>\n",
       "      <th>9</th>\n",
       "      <td>chines</td>\n",
       "      <td>371</td>\n",
       "      <td>NaN</td>\n",
       "      <td>NaN</td>\n",
       "      <td>NaN</td>\n",
       "      <td>NaN</td>\n",
       "      <td>NaN</td>\n",
       "      <td>NaN</td>\n",
       "      <td>NaN</td>\n",
       "      <td>NaN</td>\n",
       "      <td>NaN</td>\n",
       "      <td>NaN</td>\n",
       "    </tr>\n",
       "    <tr>\n",
       "      <th>10</th>\n",
       "      <td>korean</td>\n",
       "      <td>224</td>\n",
       "      <td>NaN</td>\n",
       "      <td>NaN</td>\n",
       "      <td>NaN</td>\n",
       "      <td>NaN</td>\n",
       "      <td>NaN</td>\n",
       "      <td>NaN</td>\n",
       "      <td>NaN</td>\n",
       "      <td>NaN</td>\n",
       "      <td>NaN</td>\n",
       "      <td>NaN</td>\n",
       "    </tr>\n",
       "  </tbody>\n",
       "</table>\n",
       "</div>"
      ],
      "text/plain": [
       "   communication  count       social   count problem-solving   count  \\\n",
       "0         commun   9363        manag  8789.0            solv  2683.0   \n",
       "1        written   2827       custom  2507.0          analyt  2355.0   \n",
       "2          write   2225  interperson  1767.0         creativ  1236.0   \n",
       "3        present   1635       negoti  1440.0             NaN     NaN   \n",
       "4         verbal   1506   leadership  1175.0             NaN     NaN   \n",
       "5          speak   1249     teamwork  1111.0             NaN     NaN   \n",
       "6         spoken    950      coordin   312.0             NaN     NaN   \n",
       "7        japanes    840          NaN     NaN             NaN     NaN   \n",
       "8           oral    595          NaN     NaN             NaN     NaN   \n",
       "9         chines    371          NaN     NaN             NaN     NaN   \n",
       "10        korean    224          NaN     NaN             NaN     NaN   \n",
       "\n",
       "     computer   count  attitude   count   others   count  \n",
       "0       offic  3073.0   pressur  1860.0  english  9723.0  \n",
       "1      comput  2827.0  independ  1810.0   detail  1836.0  \n",
       "2   microsoft  1726.0   attitud  1145.0      NaN     NaN  \n",
       "3         NaN     NaN       NaN     NaN      NaN     NaN  \n",
       "4         NaN     NaN       NaN     NaN      NaN     NaN  \n",
       "5         NaN     NaN       NaN     NaN      NaN     NaN  \n",
       "6         NaN     NaN       NaN     NaN      NaN     NaN  \n",
       "7         NaN     NaN       NaN     NaN      NaN     NaN  \n",
       "8         NaN     NaN       NaN     NaN      NaN     NaN  \n",
       "9         NaN     NaN       NaN     NaN      NaN     NaN  \n",
       "10        NaN     NaN       NaN     NaN      NaN     NaN  "
      ]
     },
     "execution_count": 155,
     "metadata": {},
     "output_type": "execute_result"
    }
   ],
   "source": [
    "count_keyword_frequency_en(df,'language','en', path ='en.xlsx', save=True)"
   ]
  },
  {
   "cell_type": "markdown",
   "metadata": {},
   "source": [
    "# Statistics"
   ]
  },
  {
   "cell_type": "code",
   "execution_count": 49,
   "metadata": {},
   "outputs": [
    {
     "data": {
      "text/plain": [
       "careerBuilder     23922\n",
       "topCV             23603\n",
       "jobsGo            18397\n",
       "sieuthivieclam    13964\n",
       "vietnamworks       7947\n",
       "vieclam24h         1102\n",
       "tuyencongnhan      1082\n",
       "timviecnhanh        980\n",
       "Name: source, dtype: int64"
      ]
     },
     "execution_count": 49,
     "metadata": {},
     "output_type": "execute_result"
    }
   ],
   "source": [
    "df.source.value_counts()\n",
    "# df.loc[df.language=='en'].source.value_counts()\n",
    "# df.shape"
   ]
  },
  {
   "cell_type": "code",
   "execution_count": 29,
   "metadata": {},
   "outputs": [
    {
     "name": "stdout",
     "output_type": "stream",
     "text": [
      "(78523, 19)\n",
      "434893\n"
     ]
    }
   ],
   "source": [
    "dfvi = df.loc[df.language=='vi'].reset_index(drop=True)\n",
    "print(dfvi.shape)\n",
    "print(dfvi.requirement_list_cleaned.apply(len).sum())"
   ]
  },
  {
   "cell_type": "code",
   "execution_count": 48,
   "metadata": {},
   "outputs": [
    {
     "name": "stdout",
     "output_type": "stream",
     "text": [
      "(12474, 19)\n",
      "118982\n"
     ]
    }
   ],
   "source": [
    "dfen = df.loc[df.language=='en'].reset_index(drop=True)\n",
    "print(dfen.shape)\n",
    "print(dfen.requirement_list_cleaned.apply(len).sum())"
   ]
  },
  {
   "cell_type": "code",
   "execution_count": 32,
   "metadata": {},
   "outputs": [
    {
     "data": {
      "text/plain": [
       "553875"
      ]
     },
     "execution_count": 32,
     "metadata": {},
     "output_type": "execute_result"
    }
   ],
   "source": [
    "434893 + 118982"
   ]
  },
  {
   "cell_type": "markdown",
   "metadata": {},
   "source": [
    "## giao_tiep - commnunication both `en` and `vi`"
   ]
  },
  {
   "cell_type": "code",
   "execution_count": 44,
   "metadata": {},
   "outputs": [
    {
     "data": {
      "text/html": [
       "<div>\n",
       "<style scoped>\n",
       "    .dataframe tbody tr th:only-of-type {\n",
       "        vertical-align: middle;\n",
       "    }\n",
       "\n",
       "    .dataframe tbody tr th {\n",
       "        vertical-align: top;\n",
       "    }\n",
       "\n",
       "    .dataframe thead th {\n",
       "        text-align: right;\n",
       "    }\n",
       "</style>\n",
       "<table border=\"1\" class=\"dataframe\">\n",
       "  <thead>\n",
       "    <tr style=\"text-align: right;\">\n",
       "      <th></th>\n",
       "      <th>url</th>\n",
       "      <th>title</th>\n",
       "      <th>salary</th>\n",
       "      <th>experiment</th>\n",
       "      <th>degree</th>\n",
       "      <th>so_luong</th>\n",
       "      <th>industry</th>\n",
       "      <th>location</th>\n",
       "      <th>level</th>\n",
       "      <th>jd</th>\n",
       "      <th>benefit</th>\n",
       "      <th>requirement</th>\n",
       "      <th>source</th>\n",
       "      <th>language</th>\n",
       "      <th>blue_or_white</th>\n",
       "      <th>requirement_list</th>\n",
       "      <th>requirement_list_cleaned</th>\n",
       "      <th>tokenized_requirement</th>\n",
       "      <th>tokenized_requirement_2</th>\n",
       "    </tr>\n",
       "  </thead>\n",
       "  <tbody>\n",
       "    <tr>\n",
       "      <th>0</th>\n",
       "      <td>https://vieclam24h.vn/ke-toan-kiem-toan/ar-acc...</td>\n",
       "      <td>Ar Accountant - Intern</td>\n",
       "      <td>3 - 5 triệu</td>\n",
       "      <td>Chưa có kinh nghiệm</td>\n",
       "      <td>đại học</td>\n",
       "      <td>1.0</td>\n",
       "      <td>Kế toán - Kiểm toánLàm bán thời gianThực tập</td>\n",
       "      <td>TP.HCM</td>\n",
       "      <td>Chuyên viên- nhân viên</td>\n",
       "      <td>- Be responsible for day to day finance and ac...</td>\n",
       "      <td>- Monthly salary- Good environment for enrich ...</td>\n",
       "      <td>- Either a last year student or a fresh gradua...</td>\n",
       "      <td>vieclam24h</td>\n",
       "      <td>en</td>\n",
       "      <td>white</td>\n",
       "      <td>[Either a last year student or a fresh graduat...</td>\n",
       "      <td>[either last year student fresh graduat, well,...</td>\n",
       "      <td>NaN</td>\n",
       "      <td>NaN</td>\n",
       "    </tr>\n",
       "    <tr>\n",
       "      <th>1</th>\n",
       "      <td>https://vieclam24h.vn/det-may-da-giay/nhan-vie...</td>\n",
       "      <td>Nhân Viên Mua Hàng (Purchansing Staff)</td>\n",
       "      <td>10 - 15 triệu</td>\n",
       "      <td>1 năm</td>\n",
       "      <td>cao đẳng</td>\n",
       "      <td>10.0</td>\n",
       "      <td>Dệt may - Da giày</td>\n",
       "      <td>Hà NộiBắc NinhBắc Giang</td>\n",
       "      <td>Chuyên viên- nhân viên</td>\n",
       "      <td>- Understand the specifications &amp; familiar wit...</td>\n",
       "      <td>- Annual bonus- Annual health check-up- 14 day...</td>\n",
       "      <td>- Have working experience in purchasing area 1...</td>\n",
       "      <td>vieclam24h</td>\n",
       "      <td>en</td>\n",
       "      <td>white</td>\n",
       "      <td>[Have working experience in purchasing area 1 ...</td>\n",
       "      <td>[work experi purchas area year kinh nghiệm mua...</td>\n",
       "      <td>NaN</td>\n",
       "      <td>NaN</td>\n",
       "    </tr>\n",
       "    <tr>\n",
       "      <th>2</th>\n",
       "      <td>https://vieclam24h.vn/it-phan-cung-mang/it-inf...</td>\n",
       "      <td>IT Infrastructure Internship</td>\n",
       "      <td>7 - 10 triệu</td>\n",
       "      <td>1 năm</td>\n",
       "      <td>cao đẳng</td>\n",
       "      <td>2.0</td>\n",
       "      <td>IT phần cứng/mạngIT phần mềmThực tập</td>\n",
       "      <td>TP.HCM</td>\n",
       "      <td>Cộng tác viên</td>\n",
       "      <td>-\\tKnowledge of Desktop, Servers &amp; Network [LA...</td>\n",
       "      <td>- Mức lương từ 6 đến 8 triệu.- Làm việc từ thứ...</td>\n",
       "      <td>-\\tKnowledge of Desktop, Servers &amp; Network [LA...</td>\n",
       "      <td>vieclam24h</td>\n",
       "      <td>en</td>\n",
       "      <td>white</td>\n",
       "      <td>[Knowledge of Desktop, Servers &amp; Network [LAN ...</td>\n",
       "      <td>[knowledg desktop server network lan wan switc...</td>\n",
       "      <td>NaN</td>\n",
       "      <td>NaN</td>\n",
       "    </tr>\n",
       "    <tr>\n",
       "      <th>3</th>\n",
       "      <td>https://vieclam24h.vn/ngoai-thuong-xuat-nhap-k...</td>\n",
       "      <td>Customer Service Executive</td>\n",
       "      <td>10 - 15 triệu</td>\n",
       "      <td>1 năm</td>\n",
       "      <td>cao đẳng</td>\n",
       "      <td>2.0</td>\n",
       "      <td>Dịch vụNgoại thương - Xuất nhập khẩuTư vấn</td>\n",
       "      <td>TP.HCM</td>\n",
       "      <td>Chuyên viên- nhân viên</td>\n",
       "      <td>- Monitoring shipping documents and customer s...</td>\n",
       "      <td>- Training Opportunities: Advance level of ski...</td>\n",
       "      <td>- From 22 years old- University or college gra...</td>\n",
       "      <td>vieclam24h</td>\n",
       "      <td>en</td>\n",
       "      <td>white</td>\n",
       "      <td>[From 22 years old, University or college grad...</td>\n",
       "      <td>[year old, univers colleg graduat relat econom...</td>\n",
       "      <td>NaN</td>\n",
       "      <td>NaN</td>\n",
       "    </tr>\n",
       "    <tr>\n",
       "      <th>4</th>\n",
       "      <td>https://vieclam24h.vn/det-may-da-giay/producti...</td>\n",
       "      <td>Production Team Leader</td>\n",
       "      <td>10 - 15 triệu</td>\n",
       "      <td>3 năm</td>\n",
       "      <td>cao đẳng</td>\n",
       "      <td>5.0</td>\n",
       "      <td>Cơ khí - Chế tạoDệt may - Da giàyĐiện - Điện t...</td>\n",
       "      <td>TP.HCMLong AnBình Dương</td>\n",
       "      <td>Quản lý nhóm- giám sát</td>\n",
       "      <td>- Shift handover meeting, morning shift and ev...</td>\n",
       "      <td>- Yearly performance review.- 13th month payme...</td>\n",
       "      <td>- Vocational, College or Bachelor degree relat...</td>\n",
       "      <td>vieclam24h</td>\n",
       "      <td>en</td>\n",
       "      <td>white</td>\n",
       "      <td>[Vocational, College or Bachelor degree relate...</td>\n",
       "      <td>[vocat colleg bachelor degre relat technic, ye...</td>\n",
       "      <td>NaN</td>\n",
       "      <td>NaN</td>\n",
       "    </tr>\n",
       "    <tr>\n",
       "      <th>...</th>\n",
       "      <td>...</td>\n",
       "      <td>...</td>\n",
       "      <td>...</td>\n",
       "      <td>...</td>\n",
       "      <td>...</td>\n",
       "      <td>...</td>\n",
       "      <td>...</td>\n",
       "      <td>...</td>\n",
       "      <td>...</td>\n",
       "      <td>...</td>\n",
       "      <td>...</td>\n",
       "      <td>...</td>\n",
       "      <td>...</td>\n",
       "      <td>...</td>\n",
       "      <td>...</td>\n",
       "      <td>...</td>\n",
       "      <td>...</td>\n",
       "      <td>...</td>\n",
       "      <td>...</td>\n",
       "    </tr>\n",
       "    <tr>\n",
       "      <th>12469</th>\n",
       "      <td>https://sieuthivieclam.vn/viec-lam/receptionis...</td>\n",
       "      <td>RECEPTIONIST - RESTAURANHT WAITRESS(Mã:CV2016-...</td>\n",
       "      <td>\\nThoả thuận\\n</td>\n",
       "      <td>\\nKhông yêu cầu\\n</td>\n",
       "      <td>lao động phổ thông</td>\n",
       "      <td>\\n10\\n</td>\n",
       "      <td>\\nDu lịch nhà hàng - Khách sạn - Ăn uống\\n</td>\n",
       "      <td>\\nNơi làm việc:\\nQuận 10\\n</td>\n",
       "      <td>\\nNhân viên\\n</td>\n",
       "      <td>\\nRecruitment information:\\r\\n- Receptionist\\r...</td>\n",
       "      <td>\\nPhúc lợi\\nThỏa thuận\\n</td>\n",
       "      <td>\\nRequirements:\\r\\n- Good appearance\\r\\n- Engl...</td>\n",
       "      <td>sieuthivieclam</td>\n",
       "      <td>en</td>\n",
       "      <td>blue</td>\n",
       "      <td>[Requirements:, Good appearance, English commu...</td>\n",
       "      <td>[requir, good appear, english commun, custom o...</td>\n",
       "      <td>NaN</td>\n",
       "      <td>NaN</td>\n",
       "    </tr>\n",
       "    <tr>\n",
       "      <th>12470</th>\n",
       "      <td>https://sieuthivieclam.vn/viec-lam/nhan-vien-d...</td>\n",
       "      <td>NHÂN VIÊN ĐỒ HỌA(Mã:CV2016-A2435)</td>\n",
       "      <td>\\nThoả thuận\\n</td>\n",
       "      <td>\\nKhông yêu cầu\\n</td>\n",
       "      <td>lao động phổ thông</td>\n",
       "      <td>\\n1\\n</td>\n",
       "      <td>\\nThiết kế - Xây dựng\\n</td>\n",
       "      <td>\\nNơi làm việc:\\nQuận 1\\n</td>\n",
       "      <td>\\nNhân viên\\n</td>\n",
       "      <td>\\n\\r\\n- Thử việc 1 tháng: 5.000.000 d0/tháng+p...</td>\n",
       "      <td>\\nPhúc lợi\\nThỏa thuận\\n</td>\n",
       "      <td>\\n\\r\\n- Rành Corel, photoshop\\r\\n- Illustrante...</td>\n",
       "      <td>sieuthivieclam</td>\n",
       "      <td>en</td>\n",
       "      <td>blue</td>\n",
       "      <td>[Rành Corel, photoshop, Illustranter, fast...]</td>\n",
       "      <td>[rành corel photoshop, illustrant fast]</td>\n",
       "      <td>NaN</td>\n",
       "      <td>NaN</td>\n",
       "    </tr>\n",
       "    <tr>\n",
       "      <th>12471</th>\n",
       "      <td>https://sieuthivieclam.vn/viec-lam/customer-se...</td>\n",
       "      <td>Customer Service Night Shift(Mã:CV2016-A0493)</td>\n",
       "      <td>\\n7.000.000VNĐ\\n</td>\n",
       "      <td>\\n1\\n</td>\n",
       "      <td>trung cấp</td>\n",
       "      <td>\\n2\\n</td>\n",
       "      <td>\\nChăm sóc khách hàng - Điện thoại viên - Quản...</td>\n",
       "      <td>\\nNơi làm việc:\\nQuận Tân Bình\\n</td>\n",
       "      <td>\\nNhân viên\\n</td>\n",
       "      <td>\\n- Conduct oversea call to consult products f...</td>\n",
       "      <td>\\nPhụ cấp\\n-10,000,000\\nPhúc lợi\\nThỏa thuận\\n</td>\n",
       "      <td>\\n- Good at communication and negotiation skil...</td>\n",
       "      <td>sieuthivieclam</td>\n",
       "      <td>en</td>\n",
       "      <td>blue</td>\n",
       "      <td>[Good at communication and negotiation skills,...</td>\n",
       "      <td>[good commun negoti skill, nice voic lisp stut...</td>\n",
       "      <td>NaN</td>\n",
       "      <td>NaN</td>\n",
       "    </tr>\n",
       "    <tr>\n",
       "      <th>12472</th>\n",
       "      <td>https://sieuthivieclam.vn/viec-lam/sales-repre...</td>\n",
       "      <td>SALES REPRESENTATIVE(Mã:CV2016-0150)</td>\n",
       "      <td>\\nThoả thuận\\n</td>\n",
       "      <td>\\nKhông yêu cầu\\n</td>\n",
       "      <td>lao động phổ thông</td>\n",
       "      <td>\\n2\\n</td>\n",
       "      <td>\\nKinh doanh - Tiếp thị - Bán hàng\\n</td>\n",
       "      <td>\\nNơi làm việc:\\nQ.Hải Châu\\n</td>\n",
       "      <td>\\nNhân viên\\n</td>\n",
       "      <td>\\n•\\nLooking for and recruit distributors/sale...</td>\n",
       "      <td>\\nPhúc lợi\\nThỏa thuận\\n</td>\n",
       "      <td>\\n•\\nMale from 24 years old.\\r\\n\\r\\n•\\nGraduat...</td>\n",
       "      <td>sieuthivieclam</td>\n",
       "      <td>en</td>\n",
       "      <td>blue</td>\n",
       "      <td>[Male from 24 years old., Graduated Bachelor D...</td>\n",
       "      <td>[male year old, graduat bachelor degre busi re...</td>\n",
       "      <td>NaN</td>\n",
       "      <td>NaN</td>\n",
       "    </tr>\n",
       "    <tr>\n",
       "      <th>12473</th>\n",
       "      <td>https://sieuthivieclam.vn/viec-lam/officer-CV2...</td>\n",
       "      <td>Officer(Mã:CV2015-A3653)</td>\n",
       "      <td>\\nThoả thuận\\n</td>\n",
       "      <td>\\nKhông yêu cầu\\n</td>\n",
       "      <td>cao đẳng</td>\n",
       "      <td>\\n0\\n(1 nữ)\\n</td>\n",
       "      <td>\\nHành chánh nhân sự\\n</td>\n",
       "      <td>\\nNơi làm việc:\\nQuận 7\\n</td>\n",
       "      <td>\\nNhân viên\\n</td>\n",
       "      <td>\\n-\\nHandling inquiries; Caring customers via ...</td>\n",
       "      <td>\\nPhúc lợi\\nThỏa thuận\\n</td>\n",
       "      <td>\\n-\\nFluent in English, both 4 skills: Listeni...</td>\n",
       "      <td>sieuthivieclam</td>\n",
       "      <td>en</td>\n",
       "      <td>white</td>\n",
       "      <td>[Fluent in English, both 4 skills: Listening, ...</td>\n",
       "      <td>[fluent english skill listen write read speak,...</td>\n",
       "      <td>NaN</td>\n",
       "      <td>NaN</td>\n",
       "    </tr>\n",
       "  </tbody>\n",
       "</table>\n",
       "<p>12474 rows × 19 columns</p>\n",
       "</div>"
      ],
      "text/plain": [
       "                                                     url  \\\n",
       "0      https://vieclam24h.vn/ke-toan-kiem-toan/ar-acc...   \n",
       "1      https://vieclam24h.vn/det-may-da-giay/nhan-vie...   \n",
       "2      https://vieclam24h.vn/it-phan-cung-mang/it-inf...   \n",
       "3      https://vieclam24h.vn/ngoai-thuong-xuat-nhap-k...   \n",
       "4      https://vieclam24h.vn/det-may-da-giay/producti...   \n",
       "...                                                  ...   \n",
       "12469  https://sieuthivieclam.vn/viec-lam/receptionis...   \n",
       "12470  https://sieuthivieclam.vn/viec-lam/nhan-vien-d...   \n",
       "12471  https://sieuthivieclam.vn/viec-lam/customer-se...   \n",
       "12472  https://sieuthivieclam.vn/viec-lam/sales-repre...   \n",
       "12473  https://sieuthivieclam.vn/viec-lam/officer-CV2...   \n",
       "\n",
       "                                                   title            salary  \\\n",
       "0                                 Ar Accountant - Intern       3 - 5 triệu   \n",
       "1                 Nhân Viên Mua Hàng (Purchansing Staff)     10 - 15 triệu   \n",
       "2                           IT Infrastructure Internship      7 - 10 triệu   \n",
       "3                             Customer Service Executive     10 - 15 triệu   \n",
       "4                                 Production Team Leader     10 - 15 triệu   \n",
       "...                                                  ...               ...   \n",
       "12469  RECEPTIONIST - RESTAURANHT WAITRESS(Mã:CV2016-...    \\nThoả thuận\\n   \n",
       "12470                 NHÂN VIÊN ĐỒ HỌA(Mã:CV2016-A2435)     \\nThoả thuận\\n   \n",
       "12471     Customer Service Night Shift(Mã:CV2016-A0493)   \\n7.000.000VNĐ\\n   \n",
       "12472              SALES REPRESENTATIVE(Mã:CV2016-0150)     \\nThoả thuận\\n   \n",
       "12473                          Officer(Mã:CV2015-A3653)     \\nThoả thuận\\n   \n",
       "\n",
       "                experiment              degree       so_luong  \\\n",
       "0      Chưa có kinh nghiệm             đại học            1.0   \n",
       "1                    1 năm            cao đẳng           10.0   \n",
       "2                    1 năm            cao đẳng            2.0   \n",
       "3                    1 năm            cao đẳng            2.0   \n",
       "4                    3 năm            cao đẳng            5.0   \n",
       "...                    ...                 ...            ...   \n",
       "12469    \\nKhông yêu cầu\\n  lao động phổ thông         \\n10\\n   \n",
       "12470    \\nKhông yêu cầu\\n  lao động phổ thông          \\n1\\n   \n",
       "12471                \\n1\\n           trung cấp          \\n2\\n   \n",
       "12472    \\nKhông yêu cầu\\n  lao động phổ thông          \\n2\\n   \n",
       "12473    \\nKhông yêu cầu\\n            cao đẳng  \\n0\\n(1 nữ)\\n   \n",
       "\n",
       "                                                industry  \\\n",
       "0           Kế toán - Kiểm toánLàm bán thời gianThực tập   \n",
       "1                                      Dệt may - Da giày   \n",
       "2                   IT phần cứng/mạngIT phần mềmThực tập   \n",
       "3             Dịch vụNgoại thương - Xuất nhập khẩuTư vấn   \n",
       "4      Cơ khí - Chế tạoDệt may - Da giàyĐiện - Điện t...   \n",
       "...                                                  ...   \n",
       "12469         \\nDu lịch nhà hàng - Khách sạn - Ăn uống\\n   \n",
       "12470                            \\nThiết kế - Xây dựng\\n   \n",
       "12471  \\nChăm sóc khách hàng - Điện thoại viên - Quản...   \n",
       "12472               \\nKinh doanh - Tiếp thị - Bán hàng\\n   \n",
       "12473                             \\nHành chánh nhân sự\\n   \n",
       "\n",
       "                               location                   level  \\\n",
       "0                                TP.HCM  Chuyên viên- nhân viên   \n",
       "1               Hà NộiBắc NinhBắc Giang  Chuyên viên- nhân viên   \n",
       "2                                TP.HCM           Cộng tác viên   \n",
       "3                                TP.HCM  Chuyên viên- nhân viên   \n",
       "4               TP.HCMLong AnBình Dương  Quản lý nhóm- giám sát   \n",
       "...                                 ...                     ...   \n",
       "12469        \\nNơi làm việc:\\nQuận 10\\n           \\nNhân viên\\n   \n",
       "12470         \\nNơi làm việc:\\nQuận 1\\n           \\nNhân viên\\n   \n",
       "12471  \\nNơi làm việc:\\nQuận Tân Bình\\n           \\nNhân viên\\n   \n",
       "12472     \\nNơi làm việc:\\nQ.Hải Châu\\n           \\nNhân viên\\n   \n",
       "12473         \\nNơi làm việc:\\nQuận 7\\n           \\nNhân viên\\n   \n",
       "\n",
       "                                                      jd  \\\n",
       "0      - Be responsible for day to day finance and ac...   \n",
       "1      - Understand the specifications & familiar wit...   \n",
       "2      -\\tKnowledge of Desktop, Servers & Network [LA...   \n",
       "3      - Monitoring shipping documents and customer s...   \n",
       "4      - Shift handover meeting, morning shift and ev...   \n",
       "...                                                  ...   \n",
       "12469  \\nRecruitment information:\\r\\n- Receptionist\\r...   \n",
       "12470  \\n\\r\\n- Thử việc 1 tháng: 5.000.000 d0/tháng+p...   \n",
       "12471  \\n- Conduct oversea call to consult products f...   \n",
       "12472  \\n•\\nLooking for and recruit distributors/sale...   \n",
       "12473  \\n-\\nHandling inquiries; Caring customers via ...   \n",
       "\n",
       "                                                 benefit  \\\n",
       "0      - Monthly salary- Good environment for enrich ...   \n",
       "1      - Annual bonus- Annual health check-up- 14 day...   \n",
       "2      - Mức lương từ 6 đến 8 triệu.- Làm việc từ thứ...   \n",
       "3      - Training Opportunities: Advance level of ski...   \n",
       "4      - Yearly performance review.- 13th month payme...   \n",
       "...                                                  ...   \n",
       "12469                           \\nPhúc lợi\\nThỏa thuận\\n   \n",
       "12470                           \\nPhúc lợi\\nThỏa thuận\\n   \n",
       "12471     \\nPhụ cấp\\n-10,000,000\\nPhúc lợi\\nThỏa thuận\\n   \n",
       "12472                           \\nPhúc lợi\\nThỏa thuận\\n   \n",
       "12473                           \\nPhúc lợi\\nThỏa thuận\\n   \n",
       "\n",
       "                                             requirement          source  \\\n",
       "0      - Either a last year student or a fresh gradua...      vieclam24h   \n",
       "1      - Have working experience in purchasing area 1...      vieclam24h   \n",
       "2      -\\tKnowledge of Desktop, Servers & Network [LA...      vieclam24h   \n",
       "3      - From 22 years old- University or college gra...      vieclam24h   \n",
       "4      - Vocational, College or Bachelor degree relat...      vieclam24h   \n",
       "...                                                  ...             ...   \n",
       "12469  \\nRequirements:\\r\\n- Good appearance\\r\\n- Engl...  sieuthivieclam   \n",
       "12470  \\n\\r\\n- Rành Corel, photoshop\\r\\n- Illustrante...  sieuthivieclam   \n",
       "12471  \\n- Good at communication and negotiation skil...  sieuthivieclam   \n",
       "12472  \\n•\\nMale from 24 years old.\\r\\n\\r\\n•\\nGraduat...  sieuthivieclam   \n",
       "12473  \\n-\\nFluent in English, both 4 skills: Listeni...  sieuthivieclam   \n",
       "\n",
       "      language blue_or_white  \\\n",
       "0           en         white   \n",
       "1           en         white   \n",
       "2           en         white   \n",
       "3           en         white   \n",
       "4           en         white   \n",
       "...        ...           ...   \n",
       "12469       en          blue   \n",
       "12470       en          blue   \n",
       "12471       en          blue   \n",
       "12472       en          blue   \n",
       "12473       en         white   \n",
       "\n",
       "                                        requirement_list  \\\n",
       "0      [Either a last year student or a fresh graduat...   \n",
       "1      [Have working experience in purchasing area 1 ...   \n",
       "2      [Knowledge of Desktop, Servers & Network [LAN ...   \n",
       "3      [From 22 years old, University or college grad...   \n",
       "4      [Vocational, College or Bachelor degree relate...   \n",
       "...                                                  ...   \n",
       "12469  [Requirements:, Good appearance, English commu...   \n",
       "12470     [Rành Corel, photoshop, Illustranter, fast...]   \n",
       "12471  [Good at communication and negotiation skills,...   \n",
       "12472  [Male from 24 years old., Graduated Bachelor D...   \n",
       "12473  [Fluent in English, both 4 skills: Listening, ...   \n",
       "\n",
       "                                requirement_list_cleaned  \\\n",
       "0      [either last year student fresh graduat, well,...   \n",
       "1      [work experi purchas area year kinh nghiệm mua...   \n",
       "2      [knowledg desktop server network lan wan switc...   \n",
       "3      [year old, univers colleg graduat relat econom...   \n",
       "4      [vocat colleg bachelor degre relat technic, ye...   \n",
       "...                                                  ...   \n",
       "12469  [requir, good appear, english commun, custom o...   \n",
       "12470            [rành corel photoshop, illustrant fast]   \n",
       "12471  [good commun negoti skill, nice voic lisp stut...   \n",
       "12472  [male year old, graduat bachelor degre busi re...   \n",
       "12473  [fluent english skill listen write read speak,...   \n",
       "\n",
       "      tokenized_requirement tokenized_requirement_2  \n",
       "0                       NaN                     NaN  \n",
       "1                       NaN                     NaN  \n",
       "2                       NaN                     NaN  \n",
       "3                       NaN                     NaN  \n",
       "4                       NaN                     NaN  \n",
       "...                     ...                     ...  \n",
       "12469                   NaN                     NaN  \n",
       "12470                   NaN                     NaN  \n",
       "12471                   NaN                     NaN  \n",
       "12472                   NaN                     NaN  \n",
       "12473                   NaN                     NaN  \n",
       "\n",
       "[12474 rows x 19 columns]"
      ]
     },
     "execution_count": 44,
     "metadata": {},
     "output_type": "execute_result"
    }
   ],
   "source": [
    "dfen"
   ]
  },
  {
   "cell_type": "code",
   "execution_count": 54,
   "metadata": {},
   "outputs": [
    {
     "data": {
      "text/html": [
       "<div>\n",
       "<style scoped>\n",
       "    .dataframe tbody tr th:only-of-type {\n",
       "        vertical-align: middle;\n",
       "    }\n",
       "\n",
       "    .dataframe tbody tr th {\n",
       "        vertical-align: top;\n",
       "    }\n",
       "\n",
       "    .dataframe thead th {\n",
       "        text-align: right;\n",
       "    }\n",
       "</style>\n",
       "<table border=\"1\" class=\"dataframe\">\n",
       "  <thead>\n",
       "    <tr style=\"text-align: right;\">\n",
       "      <th></th>\n",
       "      <th>keywords</th>\n",
       "      <th>count</th>\n",
       "    </tr>\n",
       "  </thead>\n",
       "  <tbody>\n",
       "    <tr>\n",
       "      <th>0</th>\n",
       "      <td>commun</td>\n",
       "      <td>9363</td>\n",
       "    </tr>\n",
       "    <tr>\n",
       "      <th>1</th>\n",
       "      <td>communication</td>\n",
       "      <td>2</td>\n",
       "    </tr>\n",
       "  </tbody>\n",
       "</table>\n",
       "</div>"
      ],
      "text/plain": [
       "        keywords  count\n",
       "0         commun   9363\n",
       "1  communication      2"
      ]
     },
     "execution_count": 54,
     "metadata": {},
     "output_type": "execute_result"
    }
   ],
   "source": [
    "# query_column = 'language'\n",
    "# query_word = 'vi'\n",
    "# querydf = df.loc[df[query_column] == query_word]\n",
    "# keywords = list(itertools.chain(*dfvi.loc[:,'tokenized_requirement_2']))\n",
    "keywords = list(itertools.chain(*dfen.loc[:,'tokenized_requirement']))\n",
    "counts = Counter(keywords)\n",
    "\n",
    "counts_df_ = pd.DataFrame.from_dict(counts, orient='index').reset_index()\n",
    "counts_df_.columns = ['keywords','count']\n",
    "\n",
    "# keywords = ['giao_tiếp']\n",
    "keywords = ['commun','communication','communi']\n",
    "counts_df_ = counts_df_.loc[counts_df_['keywords'].isin(keywords)]\n",
    "counts_df_ = counts_df_.sort_values('count',ascending=False).reset_index(drop=True)\n",
    "counts_df_"
   ]
  },
  {
   "cell_type": "code",
   "execution_count": 61,
   "metadata": {},
   "outputs": [
    {
     "data": {
      "text/plain": [
       "vi    78523\n",
       "en    12474\n",
       "Name: language, dtype: int64"
      ]
     },
     "execution_count": 61,
     "metadata": {},
     "output_type": "execute_result"
    }
   ],
   "source": [
    "df.language.value_counts()\n",
    "# df.shape"
   ]
  },
  {
   "cell_type": "code",
   "execution_count": 152,
   "metadata": {},
   "outputs": [
    {
     "data": {
      "application/vnd.plotly.v1+json": {
       "config": {
        "plotlyServerURL": "https://plot.ly"
       },
       "data": [
        {
         "branchvalues": "total",
         "domain": {
          "x": [
           0,
           1
          ],
          "y": [
           0,
           1
          ]
         },
         "hovertemplate": "character=%{label}<br>value=%{value}<br>parent=%{parent}<extra></extra>",
         "labels": [
          "Total 90997 jobs",
          "78523 Vietnamese",
          "12474 English",
          "33226 Giao tiếp",
          "9365 Communication"
         ],
         "name": "",
         "parents": [
          "",
          "Total 90997 jobs",
          "Total 90997 jobs",
          "78523 Vietnamese",
          "12474 English"
         ],
         "type": "sunburst",
         "values": [
          90997,
          78523,
          12474,
          33226,
          9365
         ]
        }
       ],
       "layout": {
        "grid": {
         "columns": 2,
         "rows": 1
        },
        "height": 600,
        "legend": {
         "tracegroupgap": 0
        },
        "margin": {
         "b": 1,
         "l": 30,
         "r": 30,
         "t": 1
        },
        "template": {
         "data": {
          "bar": [
           {
            "error_x": {
             "color": "#2a3f5f"
            },
            "error_y": {
             "color": "#2a3f5f"
            },
            "marker": {
             "line": {
              "color": "#E5ECF6",
              "width": 0.5
             },
             "pattern": {
              "fillmode": "overlay",
              "size": 10,
              "solidity": 0.2
             }
            },
            "type": "bar"
           }
          ],
          "barpolar": [
           {
            "marker": {
             "line": {
              "color": "#E5ECF6",
              "width": 0.5
             },
             "pattern": {
              "fillmode": "overlay",
              "size": 10,
              "solidity": 0.2
             }
            },
            "type": "barpolar"
           }
          ],
          "carpet": [
           {
            "aaxis": {
             "endlinecolor": "#2a3f5f",
             "gridcolor": "white",
             "linecolor": "white",
             "minorgridcolor": "white",
             "startlinecolor": "#2a3f5f"
            },
            "baxis": {
             "endlinecolor": "#2a3f5f",
             "gridcolor": "white",
             "linecolor": "white",
             "minorgridcolor": "white",
             "startlinecolor": "#2a3f5f"
            },
            "type": "carpet"
           }
          ],
          "choropleth": [
           {
            "colorbar": {
             "outlinewidth": 0,
             "ticks": ""
            },
            "type": "choropleth"
           }
          ],
          "contour": [
           {
            "colorbar": {
             "outlinewidth": 0,
             "ticks": ""
            },
            "colorscale": [
             [
              0,
              "#0d0887"
             ],
             [
              0.1111111111111111,
              "#46039f"
             ],
             [
              0.2222222222222222,
              "#7201a8"
             ],
             [
              0.3333333333333333,
              "#9c179e"
             ],
             [
              0.4444444444444444,
              "#bd3786"
             ],
             [
              0.5555555555555556,
              "#d8576b"
             ],
             [
              0.6666666666666666,
              "#ed7953"
             ],
             [
              0.7777777777777778,
              "#fb9f3a"
             ],
             [
              0.8888888888888888,
              "#fdca26"
             ],
             [
              1,
              "#f0f921"
             ]
            ],
            "type": "contour"
           }
          ],
          "contourcarpet": [
           {
            "colorbar": {
             "outlinewidth": 0,
             "ticks": ""
            },
            "type": "contourcarpet"
           }
          ],
          "heatmap": [
           {
            "colorbar": {
             "outlinewidth": 0,
             "ticks": ""
            },
            "colorscale": [
             [
              0,
              "#0d0887"
             ],
             [
              0.1111111111111111,
              "#46039f"
             ],
             [
              0.2222222222222222,
              "#7201a8"
             ],
             [
              0.3333333333333333,
              "#9c179e"
             ],
             [
              0.4444444444444444,
              "#bd3786"
             ],
             [
              0.5555555555555556,
              "#d8576b"
             ],
             [
              0.6666666666666666,
              "#ed7953"
             ],
             [
              0.7777777777777778,
              "#fb9f3a"
             ],
             [
              0.8888888888888888,
              "#fdca26"
             ],
             [
              1,
              "#f0f921"
             ]
            ],
            "type": "heatmap"
           }
          ],
          "heatmapgl": [
           {
            "colorbar": {
             "outlinewidth": 0,
             "ticks": ""
            },
            "colorscale": [
             [
              0,
              "#0d0887"
             ],
             [
              0.1111111111111111,
              "#46039f"
             ],
             [
              0.2222222222222222,
              "#7201a8"
             ],
             [
              0.3333333333333333,
              "#9c179e"
             ],
             [
              0.4444444444444444,
              "#bd3786"
             ],
             [
              0.5555555555555556,
              "#d8576b"
             ],
             [
              0.6666666666666666,
              "#ed7953"
             ],
             [
              0.7777777777777778,
              "#fb9f3a"
             ],
             [
              0.8888888888888888,
              "#fdca26"
             ],
             [
              1,
              "#f0f921"
             ]
            ],
            "type": "heatmapgl"
           }
          ],
          "histogram": [
           {
            "marker": {
             "pattern": {
              "fillmode": "overlay",
              "size": 10,
              "solidity": 0.2
             }
            },
            "type": "histogram"
           }
          ],
          "histogram2d": [
           {
            "colorbar": {
             "outlinewidth": 0,
             "ticks": ""
            },
            "colorscale": [
             [
              0,
              "#0d0887"
             ],
             [
              0.1111111111111111,
              "#46039f"
             ],
             [
              0.2222222222222222,
              "#7201a8"
             ],
             [
              0.3333333333333333,
              "#9c179e"
             ],
             [
              0.4444444444444444,
              "#bd3786"
             ],
             [
              0.5555555555555556,
              "#d8576b"
             ],
             [
              0.6666666666666666,
              "#ed7953"
             ],
             [
              0.7777777777777778,
              "#fb9f3a"
             ],
             [
              0.8888888888888888,
              "#fdca26"
             ],
             [
              1,
              "#f0f921"
             ]
            ],
            "type": "histogram2d"
           }
          ],
          "histogram2dcontour": [
           {
            "colorbar": {
             "outlinewidth": 0,
             "ticks": ""
            },
            "colorscale": [
             [
              0,
              "#0d0887"
             ],
             [
              0.1111111111111111,
              "#46039f"
             ],
             [
              0.2222222222222222,
              "#7201a8"
             ],
             [
              0.3333333333333333,
              "#9c179e"
             ],
             [
              0.4444444444444444,
              "#bd3786"
             ],
             [
              0.5555555555555556,
              "#d8576b"
             ],
             [
              0.6666666666666666,
              "#ed7953"
             ],
             [
              0.7777777777777778,
              "#fb9f3a"
             ],
             [
              0.8888888888888888,
              "#fdca26"
             ],
             [
              1,
              "#f0f921"
             ]
            ],
            "type": "histogram2dcontour"
           }
          ],
          "mesh3d": [
           {
            "colorbar": {
             "outlinewidth": 0,
             "ticks": ""
            },
            "type": "mesh3d"
           }
          ],
          "parcoords": [
           {
            "line": {
             "colorbar": {
              "outlinewidth": 0,
              "ticks": ""
             }
            },
            "type": "parcoords"
           }
          ],
          "pie": [
           {
            "automargin": true,
            "type": "pie"
           }
          ],
          "scatter": [
           {
            "marker": {
             "colorbar": {
              "outlinewidth": 0,
              "ticks": ""
             }
            },
            "type": "scatter"
           }
          ],
          "scatter3d": [
           {
            "line": {
             "colorbar": {
              "outlinewidth": 0,
              "ticks": ""
             }
            },
            "marker": {
             "colorbar": {
              "outlinewidth": 0,
              "ticks": ""
             }
            },
            "type": "scatter3d"
           }
          ],
          "scattercarpet": [
           {
            "marker": {
             "colorbar": {
              "outlinewidth": 0,
              "ticks": ""
             }
            },
            "type": "scattercarpet"
           }
          ],
          "scattergeo": [
           {
            "marker": {
             "colorbar": {
              "outlinewidth": 0,
              "ticks": ""
             }
            },
            "type": "scattergeo"
           }
          ],
          "scattergl": [
           {
            "marker": {
             "colorbar": {
              "outlinewidth": 0,
              "ticks": ""
             }
            },
            "type": "scattergl"
           }
          ],
          "scattermapbox": [
           {
            "marker": {
             "colorbar": {
              "outlinewidth": 0,
              "ticks": ""
             }
            },
            "type": "scattermapbox"
           }
          ],
          "scatterpolar": [
           {
            "marker": {
             "colorbar": {
              "outlinewidth": 0,
              "ticks": ""
             }
            },
            "type": "scatterpolar"
           }
          ],
          "scatterpolargl": [
           {
            "marker": {
             "colorbar": {
              "outlinewidth": 0,
              "ticks": ""
             }
            },
            "type": "scatterpolargl"
           }
          ],
          "scatterternary": [
           {
            "marker": {
             "colorbar": {
              "outlinewidth": 0,
              "ticks": ""
             }
            },
            "type": "scatterternary"
           }
          ],
          "surface": [
           {
            "colorbar": {
             "outlinewidth": 0,
             "ticks": ""
            },
            "colorscale": [
             [
              0,
              "#0d0887"
             ],
             [
              0.1111111111111111,
              "#46039f"
             ],
             [
              0.2222222222222222,
              "#7201a8"
             ],
             [
              0.3333333333333333,
              "#9c179e"
             ],
             [
              0.4444444444444444,
              "#bd3786"
             ],
             [
              0.5555555555555556,
              "#d8576b"
             ],
             [
              0.6666666666666666,
              "#ed7953"
             ],
             [
              0.7777777777777778,
              "#fb9f3a"
             ],
             [
              0.8888888888888888,
              "#fdca26"
             ],
             [
              1,
              "#f0f921"
             ]
            ],
            "type": "surface"
           }
          ],
          "table": [
           {
            "cells": {
             "fill": {
              "color": "#EBF0F8"
             },
             "line": {
              "color": "white"
             }
            },
            "header": {
             "fill": {
              "color": "#C8D4E3"
             },
             "line": {
              "color": "white"
             }
            },
            "type": "table"
           }
          ]
         },
         "layout": {
          "annotationdefaults": {
           "arrowcolor": "#2a3f5f",
           "arrowhead": 0,
           "arrowwidth": 1
          },
          "autotypenumbers": "strict",
          "coloraxis": {
           "colorbar": {
            "outlinewidth": 0,
            "ticks": ""
           }
          },
          "colorscale": {
           "diverging": [
            [
             0,
             "#8e0152"
            ],
            [
             0.1,
             "#c51b7d"
            ],
            [
             0.2,
             "#de77ae"
            ],
            [
             0.3,
             "#f1b6da"
            ],
            [
             0.4,
             "#fde0ef"
            ],
            [
             0.5,
             "#f7f7f7"
            ],
            [
             0.6,
             "#e6f5d0"
            ],
            [
             0.7,
             "#b8e186"
            ],
            [
             0.8,
             "#7fbc41"
            ],
            [
             0.9,
             "#4d9221"
            ],
            [
             1,
             "#276419"
            ]
           ],
           "sequential": [
            [
             0,
             "#0d0887"
            ],
            [
             0.1111111111111111,
             "#46039f"
            ],
            [
             0.2222222222222222,
             "#7201a8"
            ],
            [
             0.3333333333333333,
             "#9c179e"
            ],
            [
             0.4444444444444444,
             "#bd3786"
            ],
            [
             0.5555555555555556,
             "#d8576b"
            ],
            [
             0.6666666666666666,
             "#ed7953"
            ],
            [
             0.7777777777777778,
             "#fb9f3a"
            ],
            [
             0.8888888888888888,
             "#fdca26"
            ],
            [
             1,
             "#f0f921"
            ]
           ],
           "sequentialminus": [
            [
             0,
             "#0d0887"
            ],
            [
             0.1111111111111111,
             "#46039f"
            ],
            [
             0.2222222222222222,
             "#7201a8"
            ],
            [
             0.3333333333333333,
             "#9c179e"
            ],
            [
             0.4444444444444444,
             "#bd3786"
            ],
            [
             0.5555555555555556,
             "#d8576b"
            ],
            [
             0.6666666666666666,
             "#ed7953"
            ],
            [
             0.7777777777777778,
             "#fb9f3a"
            ],
            [
             0.8888888888888888,
             "#fdca26"
            ],
            [
             1,
             "#f0f921"
            ]
           ]
          },
          "colorway": [
           "#636efa",
           "#EF553B",
           "#00cc96",
           "#ab63fa",
           "#FFA15A",
           "#19d3f3",
           "#FF6692",
           "#B6E880",
           "#FF97FF",
           "#FECB52"
          ],
          "font": {
           "color": "#2a3f5f"
          },
          "geo": {
           "bgcolor": "white",
           "lakecolor": "white",
           "landcolor": "#E5ECF6",
           "showlakes": true,
           "showland": true,
           "subunitcolor": "white"
          },
          "hoverlabel": {
           "align": "left"
          },
          "hovermode": "closest",
          "mapbox": {
           "style": "light"
          },
          "paper_bgcolor": "white",
          "plot_bgcolor": "#E5ECF6",
          "polar": {
           "angularaxis": {
            "gridcolor": "white",
            "linecolor": "white",
            "ticks": ""
           },
           "bgcolor": "#E5ECF6",
           "radialaxis": {
            "gridcolor": "white",
            "linecolor": "white",
            "ticks": ""
           }
          },
          "scene": {
           "xaxis": {
            "backgroundcolor": "#E5ECF6",
            "gridcolor": "white",
            "gridwidth": 2,
            "linecolor": "white",
            "showbackground": true,
            "ticks": "",
            "zerolinecolor": "white"
           },
           "yaxis": {
            "backgroundcolor": "#E5ECF6",
            "gridcolor": "white",
            "gridwidth": 2,
            "linecolor": "white",
            "showbackground": true,
            "ticks": "",
            "zerolinecolor": "white"
           },
           "zaxis": {
            "backgroundcolor": "#E5ECF6",
            "gridcolor": "white",
            "gridwidth": 2,
            "linecolor": "white",
            "showbackground": true,
            "ticks": "",
            "zerolinecolor": "white"
           }
          },
          "shapedefaults": {
           "line": {
            "color": "#2a3f5f"
           }
          },
          "ternary": {
           "aaxis": {
            "gridcolor": "white",
            "linecolor": "white",
            "ticks": ""
           },
           "baxis": {
            "gridcolor": "white",
            "linecolor": "white",
            "ticks": ""
           },
           "bgcolor": "#E5ECF6",
           "caxis": {
            "gridcolor": "white",
            "linecolor": "white",
            "ticks": ""
           }
          },
          "title": {
           "x": 0.05
          },
          "xaxis": {
           "automargin": true,
           "gridcolor": "white",
           "linecolor": "white",
           "ticks": "",
           "title": {
            "standoff": 15
           },
           "zerolinecolor": "white",
           "zerolinewidth": 2
          },
          "yaxis": {
           "automargin": true,
           "gridcolor": "white",
           "linecolor": "white",
           "ticks": "",
           "title": {
            "standoff": 15
           },
           "zerolinecolor": "white",
           "zerolinewidth": 2
          }
         }
        },
        "width": 600
       }
      }
     },
     "metadata": {},
     "output_type": "display_data"
    }
   ],
   "source": [
    "import plotly.express as px\n",
    "data = dict(\n",
    "    character=[\"Total 90997 jobs\",  \"78523 Vietnamese\", \"12474 English\", \"33226 Giao tiếp\",\"9365 Communication\" ],\n",
    "    parent=[\"\", \"Total 90997 jobs\", \"Total 90997 jobs\",  \"78523 Vietnamese\" ,\"12474 English\"],\n",
    "    value=[90997, 78523,12474, 33226,9365, ])\n",
    "\n",
    "fig =px.sunburst(\n",
    "    data,\n",
    "    names='character',\n",
    "    parents='parent',\n",
    "    values='value',\n",
    "    branchvalues=\"total\",\n",
    ")\n",
    "fig.update_layout(\n",
    "    grid= dict(columns=2, rows=1),\n",
    "    margin = dict(t=1, l=30, r=30, b=1),\n",
    "    width=600, height=600\n",
    ")\n",
    "fig.show()"
   ]
  },
  {
   "cell_type": "code",
   "execution_count": 69,
   "metadata": {},
   "outputs": [
    {
     "data": {
      "application/vnd.plotly.v1+json": {
       "config": {
        "plotlyServerURL": "https://plot.ly"
       },
       "data": [
        {
         "branchvalues": "total",
         "domain": {
          "x": [
           0,
           1
          ],
          "y": [
           0,
           1
          ]
         },
         "hovertemplate": "character=%{label}<br>value=%{value}<br>parent=%{parent}<extra></extra>",
         "labels": [
          "Total 553875",
          "118982 English",
          "434893 Vietnamese",
          "Communication",
          "Giao tiếp"
         ],
         "name": "",
         "parents": [
          "",
          "Total 553875",
          "Total 553875",
          "118982 English",
          "434893 Vietnamese"
         ],
         "type": "sunburst",
         "values": [
          553875,
          118982,
          434893,
          9365,
          33226
         ]
        }
       ],
       "layout": {
        "grid": {
         "columns": 2,
         "rows": 1
        },
        "height": 300,
        "legend": {
         "tracegroupgap": 0
        },
        "margin": {
         "b": 1,
         "l": 30,
         "r": 30,
         "t": 1
        },
        "template": {
         "data": {
          "bar": [
           {
            "error_x": {
             "color": "#2a3f5f"
            },
            "error_y": {
             "color": "#2a3f5f"
            },
            "marker": {
             "line": {
              "color": "#E5ECF6",
              "width": 0.5
             },
             "pattern": {
              "fillmode": "overlay",
              "size": 10,
              "solidity": 0.2
             }
            },
            "type": "bar"
           }
          ],
          "barpolar": [
           {
            "marker": {
             "line": {
              "color": "#E5ECF6",
              "width": 0.5
             },
             "pattern": {
              "fillmode": "overlay",
              "size": 10,
              "solidity": 0.2
             }
            },
            "type": "barpolar"
           }
          ],
          "carpet": [
           {
            "aaxis": {
             "endlinecolor": "#2a3f5f",
             "gridcolor": "white",
             "linecolor": "white",
             "minorgridcolor": "white",
             "startlinecolor": "#2a3f5f"
            },
            "baxis": {
             "endlinecolor": "#2a3f5f",
             "gridcolor": "white",
             "linecolor": "white",
             "minorgridcolor": "white",
             "startlinecolor": "#2a3f5f"
            },
            "type": "carpet"
           }
          ],
          "choropleth": [
           {
            "colorbar": {
             "outlinewidth": 0,
             "ticks": ""
            },
            "type": "choropleth"
           }
          ],
          "contour": [
           {
            "colorbar": {
             "outlinewidth": 0,
             "ticks": ""
            },
            "colorscale": [
             [
              0,
              "#0d0887"
             ],
             [
              0.1111111111111111,
              "#46039f"
             ],
             [
              0.2222222222222222,
              "#7201a8"
             ],
             [
              0.3333333333333333,
              "#9c179e"
             ],
             [
              0.4444444444444444,
              "#bd3786"
             ],
             [
              0.5555555555555556,
              "#d8576b"
             ],
             [
              0.6666666666666666,
              "#ed7953"
             ],
             [
              0.7777777777777778,
              "#fb9f3a"
             ],
             [
              0.8888888888888888,
              "#fdca26"
             ],
             [
              1,
              "#f0f921"
             ]
            ],
            "type": "contour"
           }
          ],
          "contourcarpet": [
           {
            "colorbar": {
             "outlinewidth": 0,
             "ticks": ""
            },
            "type": "contourcarpet"
           }
          ],
          "heatmap": [
           {
            "colorbar": {
             "outlinewidth": 0,
             "ticks": ""
            },
            "colorscale": [
             [
              0,
              "#0d0887"
             ],
             [
              0.1111111111111111,
              "#46039f"
             ],
             [
              0.2222222222222222,
              "#7201a8"
             ],
             [
              0.3333333333333333,
              "#9c179e"
             ],
             [
              0.4444444444444444,
              "#bd3786"
             ],
             [
              0.5555555555555556,
              "#d8576b"
             ],
             [
              0.6666666666666666,
              "#ed7953"
             ],
             [
              0.7777777777777778,
              "#fb9f3a"
             ],
             [
              0.8888888888888888,
              "#fdca26"
             ],
             [
              1,
              "#f0f921"
             ]
            ],
            "type": "heatmap"
           }
          ],
          "heatmapgl": [
           {
            "colorbar": {
             "outlinewidth": 0,
             "ticks": ""
            },
            "colorscale": [
             [
              0,
              "#0d0887"
             ],
             [
              0.1111111111111111,
              "#46039f"
             ],
             [
              0.2222222222222222,
              "#7201a8"
             ],
             [
              0.3333333333333333,
              "#9c179e"
             ],
             [
              0.4444444444444444,
              "#bd3786"
             ],
             [
              0.5555555555555556,
              "#d8576b"
             ],
             [
              0.6666666666666666,
              "#ed7953"
             ],
             [
              0.7777777777777778,
              "#fb9f3a"
             ],
             [
              0.8888888888888888,
              "#fdca26"
             ],
             [
              1,
              "#f0f921"
             ]
            ],
            "type": "heatmapgl"
           }
          ],
          "histogram": [
           {
            "marker": {
             "pattern": {
              "fillmode": "overlay",
              "size": 10,
              "solidity": 0.2
             }
            },
            "type": "histogram"
           }
          ],
          "histogram2d": [
           {
            "colorbar": {
             "outlinewidth": 0,
             "ticks": ""
            },
            "colorscale": [
             [
              0,
              "#0d0887"
             ],
             [
              0.1111111111111111,
              "#46039f"
             ],
             [
              0.2222222222222222,
              "#7201a8"
             ],
             [
              0.3333333333333333,
              "#9c179e"
             ],
             [
              0.4444444444444444,
              "#bd3786"
             ],
             [
              0.5555555555555556,
              "#d8576b"
             ],
             [
              0.6666666666666666,
              "#ed7953"
             ],
             [
              0.7777777777777778,
              "#fb9f3a"
             ],
             [
              0.8888888888888888,
              "#fdca26"
             ],
             [
              1,
              "#f0f921"
             ]
            ],
            "type": "histogram2d"
           }
          ],
          "histogram2dcontour": [
           {
            "colorbar": {
             "outlinewidth": 0,
             "ticks": ""
            },
            "colorscale": [
             [
              0,
              "#0d0887"
             ],
             [
              0.1111111111111111,
              "#46039f"
             ],
             [
              0.2222222222222222,
              "#7201a8"
             ],
             [
              0.3333333333333333,
              "#9c179e"
             ],
             [
              0.4444444444444444,
              "#bd3786"
             ],
             [
              0.5555555555555556,
              "#d8576b"
             ],
             [
              0.6666666666666666,
              "#ed7953"
             ],
             [
              0.7777777777777778,
              "#fb9f3a"
             ],
             [
              0.8888888888888888,
              "#fdca26"
             ],
             [
              1,
              "#f0f921"
             ]
            ],
            "type": "histogram2dcontour"
           }
          ],
          "mesh3d": [
           {
            "colorbar": {
             "outlinewidth": 0,
             "ticks": ""
            },
            "type": "mesh3d"
           }
          ],
          "parcoords": [
           {
            "line": {
             "colorbar": {
              "outlinewidth": 0,
              "ticks": ""
             }
            },
            "type": "parcoords"
           }
          ],
          "pie": [
           {
            "automargin": true,
            "type": "pie"
           }
          ],
          "scatter": [
           {
            "marker": {
             "colorbar": {
              "outlinewidth": 0,
              "ticks": ""
             }
            },
            "type": "scatter"
           }
          ],
          "scatter3d": [
           {
            "line": {
             "colorbar": {
              "outlinewidth": 0,
              "ticks": ""
             }
            },
            "marker": {
             "colorbar": {
              "outlinewidth": 0,
              "ticks": ""
             }
            },
            "type": "scatter3d"
           }
          ],
          "scattercarpet": [
           {
            "marker": {
             "colorbar": {
              "outlinewidth": 0,
              "ticks": ""
             }
            },
            "type": "scattercarpet"
           }
          ],
          "scattergeo": [
           {
            "marker": {
             "colorbar": {
              "outlinewidth": 0,
              "ticks": ""
             }
            },
            "type": "scattergeo"
           }
          ],
          "scattergl": [
           {
            "marker": {
             "colorbar": {
              "outlinewidth": 0,
              "ticks": ""
             }
            },
            "type": "scattergl"
           }
          ],
          "scattermapbox": [
           {
            "marker": {
             "colorbar": {
              "outlinewidth": 0,
              "ticks": ""
             }
            },
            "type": "scattermapbox"
           }
          ],
          "scatterpolar": [
           {
            "marker": {
             "colorbar": {
              "outlinewidth": 0,
              "ticks": ""
             }
            },
            "type": "scatterpolar"
           }
          ],
          "scatterpolargl": [
           {
            "marker": {
             "colorbar": {
              "outlinewidth": 0,
              "ticks": ""
             }
            },
            "type": "scatterpolargl"
           }
          ],
          "scatterternary": [
           {
            "marker": {
             "colorbar": {
              "outlinewidth": 0,
              "ticks": ""
             }
            },
            "type": "scatterternary"
           }
          ],
          "surface": [
           {
            "colorbar": {
             "outlinewidth": 0,
             "ticks": ""
            },
            "colorscale": [
             [
              0,
              "#0d0887"
             ],
             [
              0.1111111111111111,
              "#46039f"
             ],
             [
              0.2222222222222222,
              "#7201a8"
             ],
             [
              0.3333333333333333,
              "#9c179e"
             ],
             [
              0.4444444444444444,
              "#bd3786"
             ],
             [
              0.5555555555555556,
              "#d8576b"
             ],
             [
              0.6666666666666666,
              "#ed7953"
             ],
             [
              0.7777777777777778,
              "#fb9f3a"
             ],
             [
              0.8888888888888888,
              "#fdca26"
             ],
             [
              1,
              "#f0f921"
             ]
            ],
            "type": "surface"
           }
          ],
          "table": [
           {
            "cells": {
             "fill": {
              "color": "#EBF0F8"
             },
             "line": {
              "color": "white"
             }
            },
            "header": {
             "fill": {
              "color": "#C8D4E3"
             },
             "line": {
              "color": "white"
             }
            },
            "type": "table"
           }
          ]
         },
         "layout": {
          "annotationdefaults": {
           "arrowcolor": "#2a3f5f",
           "arrowhead": 0,
           "arrowwidth": 1
          },
          "autotypenumbers": "strict",
          "coloraxis": {
           "colorbar": {
            "outlinewidth": 0,
            "ticks": ""
           }
          },
          "colorscale": {
           "diverging": [
            [
             0,
             "#8e0152"
            ],
            [
             0.1,
             "#c51b7d"
            ],
            [
             0.2,
             "#de77ae"
            ],
            [
             0.3,
             "#f1b6da"
            ],
            [
             0.4,
             "#fde0ef"
            ],
            [
             0.5,
             "#f7f7f7"
            ],
            [
             0.6,
             "#e6f5d0"
            ],
            [
             0.7,
             "#b8e186"
            ],
            [
             0.8,
             "#7fbc41"
            ],
            [
             0.9,
             "#4d9221"
            ],
            [
             1,
             "#276419"
            ]
           ],
           "sequential": [
            [
             0,
             "#0d0887"
            ],
            [
             0.1111111111111111,
             "#46039f"
            ],
            [
             0.2222222222222222,
             "#7201a8"
            ],
            [
             0.3333333333333333,
             "#9c179e"
            ],
            [
             0.4444444444444444,
             "#bd3786"
            ],
            [
             0.5555555555555556,
             "#d8576b"
            ],
            [
             0.6666666666666666,
             "#ed7953"
            ],
            [
             0.7777777777777778,
             "#fb9f3a"
            ],
            [
             0.8888888888888888,
             "#fdca26"
            ],
            [
             1,
             "#f0f921"
            ]
           ],
           "sequentialminus": [
            [
             0,
             "#0d0887"
            ],
            [
             0.1111111111111111,
             "#46039f"
            ],
            [
             0.2222222222222222,
             "#7201a8"
            ],
            [
             0.3333333333333333,
             "#9c179e"
            ],
            [
             0.4444444444444444,
             "#bd3786"
            ],
            [
             0.5555555555555556,
             "#d8576b"
            ],
            [
             0.6666666666666666,
             "#ed7953"
            ],
            [
             0.7777777777777778,
             "#fb9f3a"
            ],
            [
             0.8888888888888888,
             "#fdca26"
            ],
            [
             1,
             "#f0f921"
            ]
           ]
          },
          "colorway": [
           "#636efa",
           "#EF553B",
           "#00cc96",
           "#ab63fa",
           "#FFA15A",
           "#19d3f3",
           "#FF6692",
           "#B6E880",
           "#FF97FF",
           "#FECB52"
          ],
          "font": {
           "color": "#2a3f5f"
          },
          "geo": {
           "bgcolor": "white",
           "lakecolor": "white",
           "landcolor": "#E5ECF6",
           "showlakes": true,
           "showland": true,
           "subunitcolor": "white"
          },
          "hoverlabel": {
           "align": "left"
          },
          "hovermode": "closest",
          "mapbox": {
           "style": "light"
          },
          "paper_bgcolor": "white",
          "plot_bgcolor": "#E5ECF6",
          "polar": {
           "angularaxis": {
            "gridcolor": "white",
            "linecolor": "white",
            "ticks": ""
           },
           "bgcolor": "#E5ECF6",
           "radialaxis": {
            "gridcolor": "white",
            "linecolor": "white",
            "ticks": ""
           }
          },
          "scene": {
           "xaxis": {
            "backgroundcolor": "#E5ECF6",
            "gridcolor": "white",
            "gridwidth": 2,
            "linecolor": "white",
            "showbackground": true,
            "ticks": "",
            "zerolinecolor": "white"
           },
           "yaxis": {
            "backgroundcolor": "#E5ECF6",
            "gridcolor": "white",
            "gridwidth": 2,
            "linecolor": "white",
            "showbackground": true,
            "ticks": "",
            "zerolinecolor": "white"
           },
           "zaxis": {
            "backgroundcolor": "#E5ECF6",
            "gridcolor": "white",
            "gridwidth": 2,
            "linecolor": "white",
            "showbackground": true,
            "ticks": "",
            "zerolinecolor": "white"
           }
          },
          "shapedefaults": {
           "line": {
            "color": "#2a3f5f"
           }
          },
          "ternary": {
           "aaxis": {
            "gridcolor": "white",
            "linecolor": "white",
            "ticks": ""
           },
           "baxis": {
            "gridcolor": "white",
            "linecolor": "white",
            "ticks": ""
           },
           "bgcolor": "#E5ECF6",
           "caxis": {
            "gridcolor": "white",
            "linecolor": "white",
            "ticks": ""
           }
          },
          "title": {
           "x": 0.05
          },
          "xaxis": {
           "automargin": true,
           "gridcolor": "white",
           "linecolor": "white",
           "ticks": "",
           "title": {
            "standoff": 15
           },
           "zerolinecolor": "white",
           "zerolinewidth": 2
          },
          "yaxis": {
           "automargin": true,
           "gridcolor": "white",
           "linecolor": "white",
           "ticks": "",
           "title": {
            "standoff": 15
           },
           "zerolinecolor": "white",
           "zerolinewidth": 2
          }
         }
        },
        "width": 300
       }
      }
     },
     "metadata": {},
     "output_type": "display_data"
    }
   ],
   "source": [
    "import plotly.express as px\n",
    "data = dict(\n",
    "    character=[\"Total 553875\", \"118982 English\", \"434893 Vietnamese\", \"Communication\",\"Giao tiếp\" ],\n",
    "    parent=[\"\", \"Total 553875\", \"Total 553875\", \"118982 English\", \"434893 Vietnamese\" ],\n",
    "    value=[553875, 118982, 434893, 9365, 33226,])\n",
    "\n",
    "fig =px.sunburst(\n",
    "    data,\n",
    "    names='character',\n",
    "    parents='parent',\n",
    "    values='value',\n",
    "    branchvalues=\"total\",\n",
    ")\n",
    "fig.update_layout(\n",
    "    grid= dict(columns=2, rows=1),\n",
    "    margin = dict(t=1, l=30, r=30, b=1),\n",
    "    width=300, height=300\n",
    ")\n",
    "fig.show()"
   ]
  },
  {
   "cell_type": "markdown",
   "metadata": {},
   "source": [
    "### Vietnamese keywords in giao_tiep"
   ]
  },
  {
   "cell_type": "code",
   "execution_count": null,
   "metadata": {},
   "outputs": [],
   "source": []
  },
  {
   "cell_type": "markdown",
   "metadata": {},
   "source": []
  },
  {
   "cell_type": "code",
   "execution_count": 151,
   "metadata": {},
   "outputs": [
    {
     "data": {
      "application/vnd.plotly.v1+json": {
       "config": {
        "plotlyServerURL": "https://plot.ly"
       },
       "data": [
        {
         "branchvalues": "total",
         "domain": {
          "x": [
           0,
           0.45
          ],
          "y": [
           0,
           1
          ]
         },
         "ids": [
          "total",
          "vi",
          "en",
          "vi - vieclam24h",
          "vi - jobsGo",
          "vi - tuyencongnhan",
          "vi - topCV",
          "vi - careerBuilder",
          "vi - timviecnhanh",
          "vi - vietnamworks",
          "vi - sieuthivieclam",
          "en - vieclam24h",
          "en - jobsGo",
          "en - tuyencongnhan",
          "en - topCV",
          "en - careerBuilder",
          "en - timviecnhanh",
          "en - vietnamworks",
          "en - sieuthivieclam"
         ],
         "labels": [
          "Total 90997 jobs",
          "vi",
          "en",
          "vieclam24h",
          "jobsGo",
          "tuyencongnhan",
          "topCV",
          "careerBuilder",
          "timviecnhanh",
          "vietnamworks",
          "sieuthivieclam",
          "vieclam24h",
          "jobsGo",
          "tuyencongnhan",
          "topCV",
          "careerBuilder",
          "timviecnhanh",
          "vietnamworks",
          "sieuthivieclam"
         ],
         "parents": [
          "",
          "total",
          "total",
          "vi",
          "vi",
          "vi",
          "vi",
          "vi",
          "vi",
          "vi",
          "vi",
          "en",
          "en",
          "en",
          "en",
          "en",
          "en",
          "en",
          "en"
         ],
         "type": "sunburst",
         "values": [
          90997,
          78523,
          12474,
          1093,
          15586,
          1056,
          22308,
          19351,
          976,
          4197,
          13956,
          9,
          2811,
          26,
          1295,
          4571,
          4,
          3750,
          8
         ]
        },
        {
         "branchvalues": "total",
         "domain": {
          "x": [
           0.55,
           1
          ],
          "y": [
           0,
           1
          ]
         },
         "ids": [
          "total",
          "vieclam24h",
          "jobsGo",
          "tuyencongnhan",
          "topCV",
          "careerBuilder",
          "timviecnhanh",
          "vietnamworks",
          "sieuthivieclam",
          "vieclam24h - en",
          "jobsGo - en",
          "tuyencongnhan - en",
          "topCV - en",
          "careerBuilder - en",
          "timviecnhanh - en",
          "vietnamworks - en",
          "sieuthivieclam - en",
          "vieclam24h - vi",
          "jobsGo - vi",
          "tuyencongnhan - vi",
          "topCV - vi",
          "careerBuilder - vi",
          "timviecnhanh - vi",
          "vietnamworks - vi",
          "sieuthivieclam - vi"
         ],
         "labels": [
          "Total 90997 jobs",
          "vieclam24h",
          "jobsGo",
          "tuyencongnhan",
          "topCV",
          "careerBuilder",
          "timviecnhanh",
          "vietnamworks",
          "sieuthivieclam",
          "en",
          "en",
          "en",
          "en",
          "en",
          "en",
          "en",
          "en",
          "vi",
          "vi",
          "vi",
          "vi",
          "vi",
          "vi",
          "vi",
          "vi"
         ],
         "parents": [
          "",
          "total",
          "total",
          "total",
          "total",
          "total",
          "total",
          "total",
          "total",
          "vieclam24h",
          "jobsGo",
          "tuyencongnhan",
          "topCV",
          "careerBuilder",
          "timviecnhanh",
          "vietnamworks",
          "sieuthivieclam",
          "vieclam24h",
          "jobsGo",
          "tuyencongnhan",
          "topCV",
          "careerBuilder",
          "timviecnhanh",
          "vietnamworks",
          "sieuthivieclam"
         ],
         "type": "sunburst",
         "values": [
          90997,
          1102,
          18397,
          1082,
          23603,
          23922,
          980,
          7947,
          13964,
          9,
          2811,
          26,
          1295,
          4571,
          4,
          3750,
          8,
          1093,
          15586,
          1056,
          22308,
          19351,
          976,
          4197,
          13956
         ]
        }
       ],
       "layout": {
        "grid": {
         "columns": 2,
         "rows": 1
        },
        "height": 600,
        "margin": {
         "b": 1,
         "l": 30,
         "r": 30,
         "t": 1
        },
        "template": {
         "data": {
          "bar": [
           {
            "error_x": {
             "color": "#2a3f5f"
            },
            "error_y": {
             "color": "#2a3f5f"
            },
            "marker": {
             "line": {
              "color": "#E5ECF6",
              "width": 0.5
             },
             "pattern": {
              "fillmode": "overlay",
              "size": 10,
              "solidity": 0.2
             }
            },
            "type": "bar"
           }
          ],
          "barpolar": [
           {
            "marker": {
             "line": {
              "color": "#E5ECF6",
              "width": 0.5
             },
             "pattern": {
              "fillmode": "overlay",
              "size": 10,
              "solidity": 0.2
             }
            },
            "type": "barpolar"
           }
          ],
          "carpet": [
           {
            "aaxis": {
             "endlinecolor": "#2a3f5f",
             "gridcolor": "white",
             "linecolor": "white",
             "minorgridcolor": "white",
             "startlinecolor": "#2a3f5f"
            },
            "baxis": {
             "endlinecolor": "#2a3f5f",
             "gridcolor": "white",
             "linecolor": "white",
             "minorgridcolor": "white",
             "startlinecolor": "#2a3f5f"
            },
            "type": "carpet"
           }
          ],
          "choropleth": [
           {
            "colorbar": {
             "outlinewidth": 0,
             "ticks": ""
            },
            "type": "choropleth"
           }
          ],
          "contour": [
           {
            "colorbar": {
             "outlinewidth": 0,
             "ticks": ""
            },
            "colorscale": [
             [
              0,
              "#0d0887"
             ],
             [
              0.1111111111111111,
              "#46039f"
             ],
             [
              0.2222222222222222,
              "#7201a8"
             ],
             [
              0.3333333333333333,
              "#9c179e"
             ],
             [
              0.4444444444444444,
              "#bd3786"
             ],
             [
              0.5555555555555556,
              "#d8576b"
             ],
             [
              0.6666666666666666,
              "#ed7953"
             ],
             [
              0.7777777777777778,
              "#fb9f3a"
             ],
             [
              0.8888888888888888,
              "#fdca26"
             ],
             [
              1,
              "#f0f921"
             ]
            ],
            "type": "contour"
           }
          ],
          "contourcarpet": [
           {
            "colorbar": {
             "outlinewidth": 0,
             "ticks": ""
            },
            "type": "contourcarpet"
           }
          ],
          "heatmap": [
           {
            "colorbar": {
             "outlinewidth": 0,
             "ticks": ""
            },
            "colorscale": [
             [
              0,
              "#0d0887"
             ],
             [
              0.1111111111111111,
              "#46039f"
             ],
             [
              0.2222222222222222,
              "#7201a8"
             ],
             [
              0.3333333333333333,
              "#9c179e"
             ],
             [
              0.4444444444444444,
              "#bd3786"
             ],
             [
              0.5555555555555556,
              "#d8576b"
             ],
             [
              0.6666666666666666,
              "#ed7953"
             ],
             [
              0.7777777777777778,
              "#fb9f3a"
             ],
             [
              0.8888888888888888,
              "#fdca26"
             ],
             [
              1,
              "#f0f921"
             ]
            ],
            "type": "heatmap"
           }
          ],
          "heatmapgl": [
           {
            "colorbar": {
             "outlinewidth": 0,
             "ticks": ""
            },
            "colorscale": [
             [
              0,
              "#0d0887"
             ],
             [
              0.1111111111111111,
              "#46039f"
             ],
             [
              0.2222222222222222,
              "#7201a8"
             ],
             [
              0.3333333333333333,
              "#9c179e"
             ],
             [
              0.4444444444444444,
              "#bd3786"
             ],
             [
              0.5555555555555556,
              "#d8576b"
             ],
             [
              0.6666666666666666,
              "#ed7953"
             ],
             [
              0.7777777777777778,
              "#fb9f3a"
             ],
             [
              0.8888888888888888,
              "#fdca26"
             ],
             [
              1,
              "#f0f921"
             ]
            ],
            "type": "heatmapgl"
           }
          ],
          "histogram": [
           {
            "marker": {
             "pattern": {
              "fillmode": "overlay",
              "size": 10,
              "solidity": 0.2
             }
            },
            "type": "histogram"
           }
          ],
          "histogram2d": [
           {
            "colorbar": {
             "outlinewidth": 0,
             "ticks": ""
            },
            "colorscale": [
             [
              0,
              "#0d0887"
             ],
             [
              0.1111111111111111,
              "#46039f"
             ],
             [
              0.2222222222222222,
              "#7201a8"
             ],
             [
              0.3333333333333333,
              "#9c179e"
             ],
             [
              0.4444444444444444,
              "#bd3786"
             ],
             [
              0.5555555555555556,
              "#d8576b"
             ],
             [
              0.6666666666666666,
              "#ed7953"
             ],
             [
              0.7777777777777778,
              "#fb9f3a"
             ],
             [
              0.8888888888888888,
              "#fdca26"
             ],
             [
              1,
              "#f0f921"
             ]
            ],
            "type": "histogram2d"
           }
          ],
          "histogram2dcontour": [
           {
            "colorbar": {
             "outlinewidth": 0,
             "ticks": ""
            },
            "colorscale": [
             [
              0,
              "#0d0887"
             ],
             [
              0.1111111111111111,
              "#46039f"
             ],
             [
              0.2222222222222222,
              "#7201a8"
             ],
             [
              0.3333333333333333,
              "#9c179e"
             ],
             [
              0.4444444444444444,
              "#bd3786"
             ],
             [
              0.5555555555555556,
              "#d8576b"
             ],
             [
              0.6666666666666666,
              "#ed7953"
             ],
             [
              0.7777777777777778,
              "#fb9f3a"
             ],
             [
              0.8888888888888888,
              "#fdca26"
             ],
             [
              1,
              "#f0f921"
             ]
            ],
            "type": "histogram2dcontour"
           }
          ],
          "mesh3d": [
           {
            "colorbar": {
             "outlinewidth": 0,
             "ticks": ""
            },
            "type": "mesh3d"
           }
          ],
          "parcoords": [
           {
            "line": {
             "colorbar": {
              "outlinewidth": 0,
              "ticks": ""
             }
            },
            "type": "parcoords"
           }
          ],
          "pie": [
           {
            "automargin": true,
            "type": "pie"
           }
          ],
          "scatter": [
           {
            "marker": {
             "colorbar": {
              "outlinewidth": 0,
              "ticks": ""
             }
            },
            "type": "scatter"
           }
          ],
          "scatter3d": [
           {
            "line": {
             "colorbar": {
              "outlinewidth": 0,
              "ticks": ""
             }
            },
            "marker": {
             "colorbar": {
              "outlinewidth": 0,
              "ticks": ""
             }
            },
            "type": "scatter3d"
           }
          ],
          "scattercarpet": [
           {
            "marker": {
             "colorbar": {
              "outlinewidth": 0,
              "ticks": ""
             }
            },
            "type": "scattercarpet"
           }
          ],
          "scattergeo": [
           {
            "marker": {
             "colorbar": {
              "outlinewidth": 0,
              "ticks": ""
             }
            },
            "type": "scattergeo"
           }
          ],
          "scattergl": [
           {
            "marker": {
             "colorbar": {
              "outlinewidth": 0,
              "ticks": ""
             }
            },
            "type": "scattergl"
           }
          ],
          "scattermapbox": [
           {
            "marker": {
             "colorbar": {
              "outlinewidth": 0,
              "ticks": ""
             }
            },
            "type": "scattermapbox"
           }
          ],
          "scatterpolar": [
           {
            "marker": {
             "colorbar": {
              "outlinewidth": 0,
              "ticks": ""
             }
            },
            "type": "scatterpolar"
           }
          ],
          "scatterpolargl": [
           {
            "marker": {
             "colorbar": {
              "outlinewidth": 0,
              "ticks": ""
             }
            },
            "type": "scatterpolargl"
           }
          ],
          "scatterternary": [
           {
            "marker": {
             "colorbar": {
              "outlinewidth": 0,
              "ticks": ""
             }
            },
            "type": "scatterternary"
           }
          ],
          "surface": [
           {
            "colorbar": {
             "outlinewidth": 0,
             "ticks": ""
            },
            "colorscale": [
             [
              0,
              "#0d0887"
             ],
             [
              0.1111111111111111,
              "#46039f"
             ],
             [
              0.2222222222222222,
              "#7201a8"
             ],
             [
              0.3333333333333333,
              "#9c179e"
             ],
             [
              0.4444444444444444,
              "#bd3786"
             ],
             [
              0.5555555555555556,
              "#d8576b"
             ],
             [
              0.6666666666666666,
              "#ed7953"
             ],
             [
              0.7777777777777778,
              "#fb9f3a"
             ],
             [
              0.8888888888888888,
              "#fdca26"
             ],
             [
              1,
              "#f0f921"
             ]
            ],
            "type": "surface"
           }
          ],
          "table": [
           {
            "cells": {
             "fill": {
              "color": "#EBF0F8"
             },
             "line": {
              "color": "white"
             }
            },
            "header": {
             "fill": {
              "color": "#C8D4E3"
             },
             "line": {
              "color": "white"
             }
            },
            "type": "table"
           }
          ]
         },
         "layout": {
          "annotationdefaults": {
           "arrowcolor": "#2a3f5f",
           "arrowhead": 0,
           "arrowwidth": 1
          },
          "autotypenumbers": "strict",
          "coloraxis": {
           "colorbar": {
            "outlinewidth": 0,
            "ticks": ""
           }
          },
          "colorscale": {
           "diverging": [
            [
             0,
             "#8e0152"
            ],
            [
             0.1,
             "#c51b7d"
            ],
            [
             0.2,
             "#de77ae"
            ],
            [
             0.3,
             "#f1b6da"
            ],
            [
             0.4,
             "#fde0ef"
            ],
            [
             0.5,
             "#f7f7f7"
            ],
            [
             0.6,
             "#e6f5d0"
            ],
            [
             0.7,
             "#b8e186"
            ],
            [
             0.8,
             "#7fbc41"
            ],
            [
             0.9,
             "#4d9221"
            ],
            [
             1,
             "#276419"
            ]
           ],
           "sequential": [
            [
             0,
             "#0d0887"
            ],
            [
             0.1111111111111111,
             "#46039f"
            ],
            [
             0.2222222222222222,
             "#7201a8"
            ],
            [
             0.3333333333333333,
             "#9c179e"
            ],
            [
             0.4444444444444444,
             "#bd3786"
            ],
            [
             0.5555555555555556,
             "#d8576b"
            ],
            [
             0.6666666666666666,
             "#ed7953"
            ],
            [
             0.7777777777777778,
             "#fb9f3a"
            ],
            [
             0.8888888888888888,
             "#fdca26"
            ],
            [
             1,
             "#f0f921"
            ]
           ],
           "sequentialminus": [
            [
             0,
             "#0d0887"
            ],
            [
             0.1111111111111111,
             "#46039f"
            ],
            [
             0.2222222222222222,
             "#7201a8"
            ],
            [
             0.3333333333333333,
             "#9c179e"
            ],
            [
             0.4444444444444444,
             "#bd3786"
            ],
            [
             0.5555555555555556,
             "#d8576b"
            ],
            [
             0.6666666666666666,
             "#ed7953"
            ],
            [
             0.7777777777777778,
             "#fb9f3a"
            ],
            [
             0.8888888888888888,
             "#fdca26"
            ],
            [
             1,
             "#f0f921"
            ]
           ]
          },
          "colorway": [
           "#636efa",
           "#EF553B",
           "#00cc96",
           "#ab63fa",
           "#FFA15A",
           "#19d3f3",
           "#FF6692",
           "#B6E880",
           "#FF97FF",
           "#FECB52"
          ],
          "font": {
           "color": "#2a3f5f"
          },
          "geo": {
           "bgcolor": "white",
           "lakecolor": "white",
           "landcolor": "#E5ECF6",
           "showlakes": true,
           "showland": true,
           "subunitcolor": "white"
          },
          "hoverlabel": {
           "align": "left"
          },
          "hovermode": "closest",
          "mapbox": {
           "style": "light"
          },
          "paper_bgcolor": "white",
          "plot_bgcolor": "#E5ECF6",
          "polar": {
           "angularaxis": {
            "gridcolor": "white",
            "linecolor": "white",
            "ticks": ""
           },
           "bgcolor": "#E5ECF6",
           "radialaxis": {
            "gridcolor": "white",
            "linecolor": "white",
            "ticks": ""
           }
          },
          "scene": {
           "xaxis": {
            "backgroundcolor": "#E5ECF6",
            "gridcolor": "white",
            "gridwidth": 2,
            "linecolor": "white",
            "showbackground": true,
            "ticks": "",
            "zerolinecolor": "white"
           },
           "yaxis": {
            "backgroundcolor": "#E5ECF6",
            "gridcolor": "white",
            "gridwidth": 2,
            "linecolor": "white",
            "showbackground": true,
            "ticks": "",
            "zerolinecolor": "white"
           },
           "zaxis": {
            "backgroundcolor": "#E5ECF6",
            "gridcolor": "white",
            "gridwidth": 2,
            "linecolor": "white",
            "showbackground": true,
            "ticks": "",
            "zerolinecolor": "white"
           }
          },
          "shapedefaults": {
           "line": {
            "color": "#2a3f5f"
           }
          },
          "ternary": {
           "aaxis": {
            "gridcolor": "white",
            "linecolor": "white",
            "ticks": ""
           },
           "baxis": {
            "gridcolor": "white",
            "linecolor": "white",
            "ticks": ""
           },
           "bgcolor": "#E5ECF6",
           "caxis": {
            "gridcolor": "white",
            "linecolor": "white",
            "ticks": ""
           }
          },
          "title": {
           "x": 0.05
          },
          "xaxis": {
           "automargin": true,
           "gridcolor": "white",
           "linecolor": "white",
           "ticks": "",
           "title": {
            "standoff": 15
           },
           "zerolinecolor": "white",
           "zerolinewidth": 2
          },
          "yaxis": {
           "automargin": true,
           "gridcolor": "white",
           "linecolor": "white",
           "ticks": "",
           "title": {
            "standoff": 15
           },
           "zerolinecolor": "white",
           "zerolinewidth": 2
          }
         }
        },
        "width": 1200
       }
      }
     },
     "metadata": {},
     "output_type": "display_data"
    }
   ],
   "source": [
    "import plotly.graph_objects as go\n",
    "from plotly.subplots import make_subplots\n",
    "\n",
    "fig = make_subplots(1, 2, specs=[[{\"type\": \"domain\"}, {\"type\": \"domain\"}]],)\n",
    "\n",
    "ids = ['total','vi','en'] + list('vi - '+df.source.unique()) + list('en - '+df.source.unique()) \n",
    "labels = [f'Total {df.shape[0]} jobs','vi','en'] + list(''+df.source.unique()) +list(''+df.source.unique()) \n",
    "parents = ['','total','total'] + ['vi']*8 + ['en']*8\n",
    "\n",
    "values = [df.shape[0]] + [df.loc[df.language=='vi'].shape[0]] + [df.loc[df.language=='en'].shape[0]]\n",
    "\n",
    "for source in df.source.unique():\n",
    "    values.append(df.loc[(df.source==source) & (df.language == 'vi')].shape[0])\n",
    "\n",
    "for source in df.source.unique():\n",
    "    values.append(df.loc[(df.source==source) & (df.language == 'en')].shape[0])\n",
    "\n",
    "fig.add_trace(go.Sunburst(ids = ids,\n",
    "                            labels = labels,\n",
    "                            parents=parents,\n",
    "                            values = values,\n",
    "                             branchvalues=\"total\",\n",
    "                            ), 1, 1)\n",
    "ids = ['total' ]+ list(df.source.unique()) + list(df.source.unique()+' - en') + list(df.source.unique()+' - vi') \n",
    "labels = [f'Total {df.shape[0]} jobs' ]+ list(df.source.unique()) + ['en']*8 + ['vi']*8\n",
    "parents = [\"\"] + [\"total\"]*8 + list(df.source.unique()) *2\n",
    "\n",
    "values = [df.shape[0]]\n",
    "for source in df.source.unique():\n",
    "    values.append(df.loc[df.source==source].shape[0])\n",
    "for source in df.source.unique():\n",
    "    values.append(df.loc[(df.source==source) & (df.language == 'en')].shape[0])\n",
    "for source in df.source.unique():  \n",
    "    values.append(df.loc[(df.source==source) & (df.language == 'vi')].shape[0])\n",
    "\n",
    "fig.add_trace(go.Sunburst(ids = ids,\n",
    "                            labels = labels,\n",
    "                            parents=parents,\n",
    "                            values = values,\n",
    "                             branchvalues=\"total\",\n",
    "                            ), 1, 2)\n",
    "\n",
    "\n",
    "\n",
    "fig.update_layout(\n",
    "    grid= dict(columns=2, rows=1),\n",
    "    margin = dict(t=1, l=30, r=30, b=1),\n",
    "    width=1200, height=600\n",
    ")\n",
    "\n",
    "fig.show()"
   ]
  },
  {
   "cell_type": "code",
   "execution_count": 157,
   "metadata": {},
   "outputs": [
    {
     "data": {
      "application/vnd.plotly.v1+json": {
       "config": {
        "plotlyServerURL": "https://plot.ly"
       },
       "data": [
        {
         "branchvalues": "total",
         "domain": {
          "x": [
           0,
           0.45
          ],
          "y": [
           0,
           1
          ]
         },
         "ids": [
          "total",
          "blue",
          "white",
          "blue - vieclam24h",
          "blue - jobsGo",
          "blue - tuyencongnhan",
          "blue - topCV",
          "blue - careerBuilder",
          "blue - timviecnhanh",
          "blue - vietnamworks",
          "blue - sieuthivieclam",
          "white - vieclam24h",
          "white - jobsGo",
          "white - tuyencongnhan",
          "white - topCV",
          "white - careerBuilder",
          "white - timviecnhanh",
          "white - vietnamworks",
          "white - sieuthivieclam"
         ],
         "labels": [
          "Total 90997 jobs",
          "thợ",
          "thầy",
          "vieclam24h",
          "jobsGo",
          "tuyencongnhan",
          "topCV",
          "careerBuilder",
          "timviecnhanh",
          "vietnamworks",
          "sieuthivieclam",
          "vieclam24h",
          "jobsGo",
          "tuyencongnhan",
          "topCV",
          "careerBuilder",
          "timviecnhanh",
          "vietnamworks",
          "sieuthivieclam"
         ],
         "parents": [
          "",
          "total",
          "total",
          "blue",
          "blue",
          "blue",
          "blue",
          "blue",
          "blue",
          "blue",
          "blue",
          "white",
          "white",
          "white",
          "white",
          "white",
          "white",
          "white",
          "white"
         ],
         "type": "sunburst",
         "values": [
          90997,
          17875,
          73122,
          490,
          3676,
          1082,
          0,
          0,
          537,
          0,
          12090,
          612,
          14721,
          0,
          23603,
          23922,
          443,
          7947,
          1874
         ]
        },
        {
         "branchvalues": "total",
         "domain": {
          "x": [
           0.55,
           1
          ],
          "y": [
           0,
           1
          ]
         },
         "ids": [
          "total",
          "vieclam24h",
          "jobsGo",
          "tuyencongnhan",
          "topCV",
          "careerBuilder",
          "timviecnhanh",
          "vietnamworks",
          "sieuthivieclam",
          "vieclam24h - en",
          "jobsGo - en",
          "tuyencongnhan - en",
          "topCV - en",
          "careerBuilder - en",
          "timviecnhanh - en",
          "vietnamworks - en",
          "sieuthivieclam - en",
          "vieclam24h - vi",
          "jobsGo - vi",
          "tuyencongnhan - vi",
          "topCV - vi",
          "careerBuilder - vi",
          "timviecnhanh - vi",
          "vietnamworks - vi",
          "sieuthivieclam - vi"
         ],
         "labels": [
          "Total 90997 jobs",
          "vieclam24h",
          "jobsGo",
          "tuyencongnhan",
          "topCV",
          "careerBuilder",
          "timviecnhanh",
          "vietnamworks",
          "sieuthivieclam",
          "thợ",
          "thợ",
          "thợ",
          "thợ",
          "thợ",
          "thợ",
          "thợ",
          "thợ",
          "thầy",
          "thầy",
          "thầy",
          "thầy",
          "thầy",
          "thầy",
          "thầy",
          "thầy"
         ],
         "parents": [
          "",
          "total",
          "total",
          "total",
          "total",
          "total",
          "total",
          "total",
          "total",
          "vieclam24h",
          "jobsGo",
          "tuyencongnhan",
          "topCV",
          "careerBuilder",
          "timviecnhanh",
          "vietnamworks",
          "sieuthivieclam",
          "vieclam24h",
          "jobsGo",
          "tuyencongnhan",
          "topCV",
          "careerBuilder",
          "timviecnhanh",
          "vietnamworks",
          "sieuthivieclam"
         ],
         "type": "sunburst",
         "values": [
          90997,
          1102,
          18397,
          1082,
          23603,
          23922,
          980,
          7947,
          13964,
          490,
          3676,
          1082,
          0,
          0,
          537,
          0,
          12090,
          612,
          14721,
          0,
          23603,
          23922,
          443,
          7947,
          1874
         ]
        }
       ],
       "layout": {
        "grid": {
         "columns": 2,
         "rows": 1
        },
        "height": 600,
        "margin": {
         "b": 1,
         "l": 30,
         "r": 30,
         "t": 1
        },
        "template": {
         "data": {
          "bar": [
           {
            "error_x": {
             "color": "#2a3f5f"
            },
            "error_y": {
             "color": "#2a3f5f"
            },
            "marker": {
             "line": {
              "color": "#E5ECF6",
              "width": 0.5
             },
             "pattern": {
              "fillmode": "overlay",
              "size": 10,
              "solidity": 0.2
             }
            },
            "type": "bar"
           }
          ],
          "barpolar": [
           {
            "marker": {
             "line": {
              "color": "#E5ECF6",
              "width": 0.5
             },
             "pattern": {
              "fillmode": "overlay",
              "size": 10,
              "solidity": 0.2
             }
            },
            "type": "barpolar"
           }
          ],
          "carpet": [
           {
            "aaxis": {
             "endlinecolor": "#2a3f5f",
             "gridcolor": "white",
             "linecolor": "white",
             "minorgridcolor": "white",
             "startlinecolor": "#2a3f5f"
            },
            "baxis": {
             "endlinecolor": "#2a3f5f",
             "gridcolor": "white",
             "linecolor": "white",
             "minorgridcolor": "white",
             "startlinecolor": "#2a3f5f"
            },
            "type": "carpet"
           }
          ],
          "choropleth": [
           {
            "colorbar": {
             "outlinewidth": 0,
             "ticks": ""
            },
            "type": "choropleth"
           }
          ],
          "contour": [
           {
            "colorbar": {
             "outlinewidth": 0,
             "ticks": ""
            },
            "colorscale": [
             [
              0,
              "#0d0887"
             ],
             [
              0.1111111111111111,
              "#46039f"
             ],
             [
              0.2222222222222222,
              "#7201a8"
             ],
             [
              0.3333333333333333,
              "#9c179e"
             ],
             [
              0.4444444444444444,
              "#bd3786"
             ],
             [
              0.5555555555555556,
              "#d8576b"
             ],
             [
              0.6666666666666666,
              "#ed7953"
             ],
             [
              0.7777777777777778,
              "#fb9f3a"
             ],
             [
              0.8888888888888888,
              "#fdca26"
             ],
             [
              1,
              "#f0f921"
             ]
            ],
            "type": "contour"
           }
          ],
          "contourcarpet": [
           {
            "colorbar": {
             "outlinewidth": 0,
             "ticks": ""
            },
            "type": "contourcarpet"
           }
          ],
          "heatmap": [
           {
            "colorbar": {
             "outlinewidth": 0,
             "ticks": ""
            },
            "colorscale": [
             [
              0,
              "#0d0887"
             ],
             [
              0.1111111111111111,
              "#46039f"
             ],
             [
              0.2222222222222222,
              "#7201a8"
             ],
             [
              0.3333333333333333,
              "#9c179e"
             ],
             [
              0.4444444444444444,
              "#bd3786"
             ],
             [
              0.5555555555555556,
              "#d8576b"
             ],
             [
              0.6666666666666666,
              "#ed7953"
             ],
             [
              0.7777777777777778,
              "#fb9f3a"
             ],
             [
              0.8888888888888888,
              "#fdca26"
             ],
             [
              1,
              "#f0f921"
             ]
            ],
            "type": "heatmap"
           }
          ],
          "heatmapgl": [
           {
            "colorbar": {
             "outlinewidth": 0,
             "ticks": ""
            },
            "colorscale": [
             [
              0,
              "#0d0887"
             ],
             [
              0.1111111111111111,
              "#46039f"
             ],
             [
              0.2222222222222222,
              "#7201a8"
             ],
             [
              0.3333333333333333,
              "#9c179e"
             ],
             [
              0.4444444444444444,
              "#bd3786"
             ],
             [
              0.5555555555555556,
              "#d8576b"
             ],
             [
              0.6666666666666666,
              "#ed7953"
             ],
             [
              0.7777777777777778,
              "#fb9f3a"
             ],
             [
              0.8888888888888888,
              "#fdca26"
             ],
             [
              1,
              "#f0f921"
             ]
            ],
            "type": "heatmapgl"
           }
          ],
          "histogram": [
           {
            "marker": {
             "pattern": {
              "fillmode": "overlay",
              "size": 10,
              "solidity": 0.2
             }
            },
            "type": "histogram"
           }
          ],
          "histogram2d": [
           {
            "colorbar": {
             "outlinewidth": 0,
             "ticks": ""
            },
            "colorscale": [
             [
              0,
              "#0d0887"
             ],
             [
              0.1111111111111111,
              "#46039f"
             ],
             [
              0.2222222222222222,
              "#7201a8"
             ],
             [
              0.3333333333333333,
              "#9c179e"
             ],
             [
              0.4444444444444444,
              "#bd3786"
             ],
             [
              0.5555555555555556,
              "#d8576b"
             ],
             [
              0.6666666666666666,
              "#ed7953"
             ],
             [
              0.7777777777777778,
              "#fb9f3a"
             ],
             [
              0.8888888888888888,
              "#fdca26"
             ],
             [
              1,
              "#f0f921"
             ]
            ],
            "type": "histogram2d"
           }
          ],
          "histogram2dcontour": [
           {
            "colorbar": {
             "outlinewidth": 0,
             "ticks": ""
            },
            "colorscale": [
             [
              0,
              "#0d0887"
             ],
             [
              0.1111111111111111,
              "#46039f"
             ],
             [
              0.2222222222222222,
              "#7201a8"
             ],
             [
              0.3333333333333333,
              "#9c179e"
             ],
             [
              0.4444444444444444,
              "#bd3786"
             ],
             [
              0.5555555555555556,
              "#d8576b"
             ],
             [
              0.6666666666666666,
              "#ed7953"
             ],
             [
              0.7777777777777778,
              "#fb9f3a"
             ],
             [
              0.8888888888888888,
              "#fdca26"
             ],
             [
              1,
              "#f0f921"
             ]
            ],
            "type": "histogram2dcontour"
           }
          ],
          "mesh3d": [
           {
            "colorbar": {
             "outlinewidth": 0,
             "ticks": ""
            },
            "type": "mesh3d"
           }
          ],
          "parcoords": [
           {
            "line": {
             "colorbar": {
              "outlinewidth": 0,
              "ticks": ""
             }
            },
            "type": "parcoords"
           }
          ],
          "pie": [
           {
            "automargin": true,
            "type": "pie"
           }
          ],
          "scatter": [
           {
            "marker": {
             "colorbar": {
              "outlinewidth": 0,
              "ticks": ""
             }
            },
            "type": "scatter"
           }
          ],
          "scatter3d": [
           {
            "line": {
             "colorbar": {
              "outlinewidth": 0,
              "ticks": ""
             }
            },
            "marker": {
             "colorbar": {
              "outlinewidth": 0,
              "ticks": ""
             }
            },
            "type": "scatter3d"
           }
          ],
          "scattercarpet": [
           {
            "marker": {
             "colorbar": {
              "outlinewidth": 0,
              "ticks": ""
             }
            },
            "type": "scattercarpet"
           }
          ],
          "scattergeo": [
           {
            "marker": {
             "colorbar": {
              "outlinewidth": 0,
              "ticks": ""
             }
            },
            "type": "scattergeo"
           }
          ],
          "scattergl": [
           {
            "marker": {
             "colorbar": {
              "outlinewidth": 0,
              "ticks": ""
             }
            },
            "type": "scattergl"
           }
          ],
          "scattermapbox": [
           {
            "marker": {
             "colorbar": {
              "outlinewidth": 0,
              "ticks": ""
             }
            },
            "type": "scattermapbox"
           }
          ],
          "scatterpolar": [
           {
            "marker": {
             "colorbar": {
              "outlinewidth": 0,
              "ticks": ""
             }
            },
            "type": "scatterpolar"
           }
          ],
          "scatterpolargl": [
           {
            "marker": {
             "colorbar": {
              "outlinewidth": 0,
              "ticks": ""
             }
            },
            "type": "scatterpolargl"
           }
          ],
          "scatterternary": [
           {
            "marker": {
             "colorbar": {
              "outlinewidth": 0,
              "ticks": ""
             }
            },
            "type": "scatterternary"
           }
          ],
          "surface": [
           {
            "colorbar": {
             "outlinewidth": 0,
             "ticks": ""
            },
            "colorscale": [
             [
              0,
              "#0d0887"
             ],
             [
              0.1111111111111111,
              "#46039f"
             ],
             [
              0.2222222222222222,
              "#7201a8"
             ],
             [
              0.3333333333333333,
              "#9c179e"
             ],
             [
              0.4444444444444444,
              "#bd3786"
             ],
             [
              0.5555555555555556,
              "#d8576b"
             ],
             [
              0.6666666666666666,
              "#ed7953"
             ],
             [
              0.7777777777777778,
              "#fb9f3a"
             ],
             [
              0.8888888888888888,
              "#fdca26"
             ],
             [
              1,
              "#f0f921"
             ]
            ],
            "type": "surface"
           }
          ],
          "table": [
           {
            "cells": {
             "fill": {
              "color": "#EBF0F8"
             },
             "line": {
              "color": "white"
             }
            },
            "header": {
             "fill": {
              "color": "#C8D4E3"
             },
             "line": {
              "color": "white"
             }
            },
            "type": "table"
           }
          ]
         },
         "layout": {
          "annotationdefaults": {
           "arrowcolor": "#2a3f5f",
           "arrowhead": 0,
           "arrowwidth": 1
          },
          "autotypenumbers": "strict",
          "coloraxis": {
           "colorbar": {
            "outlinewidth": 0,
            "ticks": ""
           }
          },
          "colorscale": {
           "diverging": [
            [
             0,
             "#8e0152"
            ],
            [
             0.1,
             "#c51b7d"
            ],
            [
             0.2,
             "#de77ae"
            ],
            [
             0.3,
             "#f1b6da"
            ],
            [
             0.4,
             "#fde0ef"
            ],
            [
             0.5,
             "#f7f7f7"
            ],
            [
             0.6,
             "#e6f5d0"
            ],
            [
             0.7,
             "#b8e186"
            ],
            [
             0.8,
             "#7fbc41"
            ],
            [
             0.9,
             "#4d9221"
            ],
            [
             1,
             "#276419"
            ]
           ],
           "sequential": [
            [
             0,
             "#0d0887"
            ],
            [
             0.1111111111111111,
             "#46039f"
            ],
            [
             0.2222222222222222,
             "#7201a8"
            ],
            [
             0.3333333333333333,
             "#9c179e"
            ],
            [
             0.4444444444444444,
             "#bd3786"
            ],
            [
             0.5555555555555556,
             "#d8576b"
            ],
            [
             0.6666666666666666,
             "#ed7953"
            ],
            [
             0.7777777777777778,
             "#fb9f3a"
            ],
            [
             0.8888888888888888,
             "#fdca26"
            ],
            [
             1,
             "#f0f921"
            ]
           ],
           "sequentialminus": [
            [
             0,
             "#0d0887"
            ],
            [
             0.1111111111111111,
             "#46039f"
            ],
            [
             0.2222222222222222,
             "#7201a8"
            ],
            [
             0.3333333333333333,
             "#9c179e"
            ],
            [
             0.4444444444444444,
             "#bd3786"
            ],
            [
             0.5555555555555556,
             "#d8576b"
            ],
            [
             0.6666666666666666,
             "#ed7953"
            ],
            [
             0.7777777777777778,
             "#fb9f3a"
            ],
            [
             0.8888888888888888,
             "#fdca26"
            ],
            [
             1,
             "#f0f921"
            ]
           ]
          },
          "colorway": [
           "#636efa",
           "#EF553B",
           "#00cc96",
           "#ab63fa",
           "#FFA15A",
           "#19d3f3",
           "#FF6692",
           "#B6E880",
           "#FF97FF",
           "#FECB52"
          ],
          "font": {
           "color": "#2a3f5f"
          },
          "geo": {
           "bgcolor": "white",
           "lakecolor": "white",
           "landcolor": "#E5ECF6",
           "showlakes": true,
           "showland": true,
           "subunitcolor": "white"
          },
          "hoverlabel": {
           "align": "left"
          },
          "hovermode": "closest",
          "mapbox": {
           "style": "light"
          },
          "paper_bgcolor": "white",
          "plot_bgcolor": "#E5ECF6",
          "polar": {
           "angularaxis": {
            "gridcolor": "white",
            "linecolor": "white",
            "ticks": ""
           },
           "bgcolor": "#E5ECF6",
           "radialaxis": {
            "gridcolor": "white",
            "linecolor": "white",
            "ticks": ""
           }
          },
          "scene": {
           "xaxis": {
            "backgroundcolor": "#E5ECF6",
            "gridcolor": "white",
            "gridwidth": 2,
            "linecolor": "white",
            "showbackground": true,
            "ticks": "",
            "zerolinecolor": "white"
           },
           "yaxis": {
            "backgroundcolor": "#E5ECF6",
            "gridcolor": "white",
            "gridwidth": 2,
            "linecolor": "white",
            "showbackground": true,
            "ticks": "",
            "zerolinecolor": "white"
           },
           "zaxis": {
            "backgroundcolor": "#E5ECF6",
            "gridcolor": "white",
            "gridwidth": 2,
            "linecolor": "white",
            "showbackground": true,
            "ticks": "",
            "zerolinecolor": "white"
           }
          },
          "shapedefaults": {
           "line": {
            "color": "#2a3f5f"
           }
          },
          "ternary": {
           "aaxis": {
            "gridcolor": "white",
            "linecolor": "white",
            "ticks": ""
           },
           "baxis": {
            "gridcolor": "white",
            "linecolor": "white",
            "ticks": ""
           },
           "bgcolor": "#E5ECF6",
           "caxis": {
            "gridcolor": "white",
            "linecolor": "white",
            "ticks": ""
           }
          },
          "title": {
           "x": 0.05
          },
          "xaxis": {
           "automargin": true,
           "gridcolor": "white",
           "linecolor": "white",
           "ticks": "",
           "title": {
            "standoff": 15
           },
           "zerolinecolor": "white",
           "zerolinewidth": 2
          },
          "yaxis": {
           "automargin": true,
           "gridcolor": "white",
           "linecolor": "white",
           "ticks": "",
           "title": {
            "standoff": 15
           },
           "zerolinecolor": "white",
           "zerolinewidth": 2
          }
         }
        },
        "width": 1200
       }
      }
     },
     "metadata": {},
     "output_type": "display_data"
    }
   ],
   "source": [
    "import plotly.graph_objects as go\n",
    "from plotly.subplots import make_subplots\n",
    "\n",
    "fig = make_subplots(1, 2, specs=[[{\"type\": \"domain\"}, {\"type\": \"domain\"}]],\n",
    "                     )\n",
    "\n",
    "ids = ['total','blue','white'] + list('blue - '+df.source.unique()) + list('white - '+df.source.unique()) \n",
    "labels = [f'Total {df.shape[0]} jobs','thợ','thầy'] + list(''+df.source.unique()) +list(''+df.source.unique()) \n",
    "parents = ['','total','total'] + ['blue']*8 + ['white']*8\n",
    "\n",
    "values = [df.shape[0]] + [df.loc[df.blue_or_white=='blue'].shape[0]] + [df.loc[df.blue_or_white=='white'].shape[0]]\n",
    "\n",
    "for source in df.source.unique():\n",
    "    values.append(df.loc[(df.source==source) & (df.blue_or_white == 'blue')].shape[0])\n",
    "\n",
    "for source in df.source.unique():\n",
    "    values.append(df.loc[(df.source==source) & (df.blue_or_white == 'white')].shape[0])\n",
    "\n",
    "fig.add_trace(go.Sunburst(ids = ids,\n",
    "                            labels = labels,\n",
    "                            parents=parents,\n",
    "                            values = values,\n",
    "                             branchvalues=\"total\",\n",
    "                            ), 1, 1)\n",
    "ids = ['total' ]+ list(df.source.unique()) + list(df.source.unique()+' - en') + list(df.source.unique()+' - vi') \n",
    "labels = [f'Total {df.shape[0]} jobs' ]+ list(df.source.unique()) + ['thợ']*8 + ['thầy']*8\n",
    "parents = [\"\"] + [\"total\"]*8 + list(df.source.unique()) *2\n",
    "\n",
    "values = [df.shape[0]]\n",
    "for source in df.source.unique():\n",
    "    values.append(df.loc[df.source==source].shape[0])\n",
    "for source in df.source.unique():\n",
    "    values.append(df.loc[(df.source==source) & (df.blue_or_white == 'blue')].shape[0])\n",
    "for source in df.source.unique():  \n",
    "    values.append(df.loc[(df.source==source) & (df.blue_or_white == 'white')].shape[0])\n",
    "\n",
    "fig.add_trace(go.Sunburst(ids = ids,\n",
    "                            labels = labels,\n",
    "                            parents=parents,\n",
    "                            values = values,\n",
    "                             branchvalues=\"total\",\n",
    "                            ), 1, 2)\n",
    "\n",
    "\n",
    "\n",
    "fig.update_layout(\n",
    "    grid= dict(columns=2, rows=1),\n",
    "    margin = dict(t=1, l=30, r=30, b=1),\n",
    "    width=1200, height=600,\n",
    ")\n",
    "# fig.set_tit\n",
    "fig.show()"
   ]
  },
  {
   "cell_type": "code",
   "execution_count": 96,
   "metadata": {},
   "outputs": [],
   "source": [
    "import datetime\n",
    "date_object = datetime.date.today()\n",
    "df.to_csv(f'aggregated-{date_object}.csv', index=False)"
   ]
  },
  {
   "cell_type": "markdown",
   "metadata": {},
   "source": [
    "# Industry"
   ]
  },
  {
   "cell_type": "code",
   "execution_count": 16,
   "metadata": {},
   "outputs": [],
   "source": [
    "import re\n",
    "def string_to_list(text):\n",
    "    string_list = re.split('\\n|\\t|•|-|,',text)\n",
    "    string_list = [s.strip() for s in string_list]\n",
    "    # string_list = [s.lower() for s in string_list]\n",
    "    return list(filter(None, string_list))\n",
    "\n",
    "stringToList = lambda x: string_to_list(x)"
   ]
  },
  {
   "cell_type": "code",
   "execution_count": 17,
   "metadata": {},
   "outputs": [
    {
     "data": {
      "text/html": [
       "<div>\n",
       "<style scoped>\n",
       "    .dataframe tbody tr th:only-of-type {\n",
       "        vertical-align: middle;\n",
       "    }\n",
       "\n",
       "    .dataframe tbody tr th {\n",
       "        vertical-align: top;\n",
       "    }\n",
       "\n",
       "    .dataframe thead th {\n",
       "        text-align: right;\n",
       "    }\n",
       "</style>\n",
       "<table border=\"1\" class=\"dataframe\">\n",
       "  <thead>\n",
       "    <tr style=\"text-align: right;\">\n",
       "      <th></th>\n",
       "      <th>url</th>\n",
       "      <th>title</th>\n",
       "      <th>salary</th>\n",
       "      <th>experiment</th>\n",
       "      <th>degree</th>\n",
       "      <th>so_luong</th>\n",
       "      <th>industry</th>\n",
       "      <th>location</th>\n",
       "      <th>level</th>\n",
       "      <th>jd</th>\n",
       "      <th>benefit</th>\n",
       "      <th>requirement</th>\n",
       "      <th>source</th>\n",
       "      <th>language</th>\n",
       "      <th>blue_or_white</th>\n",
       "      <th>requirement_list</th>\n",
       "      <th>requirement_list_cleaned</th>\n",
       "      <th>tokenized_requirement</th>\n",
       "      <th>tokenized_requirement_2</th>\n",
       "    </tr>\n",
       "  </thead>\n",
       "  <tbody>\n",
       "  </tbody>\n",
       "</table>\n",
       "</div>"
      ],
      "text/plain": [
       "Empty DataFrame\n",
       "Columns: [url, title, salary, experiment, degree, so_luong, industry, location, level, jd, benefit, requirement, source, language, blue_or_white, requirement_list, requirement_list_cleaned, tokenized_requirement, tokenized_requirement_2]\n",
       "Index: []"
      ]
     },
     "execution_count": 17,
     "metadata": {},
     "output_type": "execute_result"
    }
   ],
   "source": [
    "df[df['industry'].isnull()]#['source'].value_counts()#.reset_index(drop=True).astype(str)\n"
   ]
  },
  {
   "cell_type": "code",
   "execution_count": 18,
   "metadata": {},
   "outputs": [],
   "source": [
    "df.loc[df.source == 'vietnamworks', 'industry'] = df.loc[df.source == 'vietnamworks', 'industry'].apply(stringToList)"
   ]
  },
  {
   "cell_type": "code",
   "execution_count": 19,
   "metadata": {},
   "outputs": [
    {
     "data": {
      "text/plain": [
       "array(['vieclam24h', 'jobsGo', 'tuyencongnhan', 'topCV', 'careerBuilder',\n",
       "       'timviecnhanh', 'vietnamworks', 'sieuthivieclam'], dtype=object)"
      ]
     },
     "execution_count": 19,
     "metadata": {},
     "output_type": "execute_result"
    }
   ],
   "source": [
    "df.source.unique()"
   ]
  },
  {
   "cell_type": "code",
   "execution_count": 20,
   "metadata": {},
   "outputs": [],
   "source": [
    "\n",
    "def string_to_list(text):\n",
    "    text=re.sub(\"IT\",\"It\",text)\n",
    "    text=re.sub(\"PR\",\"Pr\",text)\n",
    "    text=re.sub(\"-\",\"\",text)\n",
    "    text=\" \".join(text.split())\n",
    "    string_list = re.findall('[A-Z][^A-Z]*', text)\n",
    "    # string_list = [re.split('-',t) for t in string_list]\n",
    "\n",
    "    return list(filter(None, string_list))\n",
    "\n",
    "stringToList = lambda x: string_to_list(x)"
   ]
  },
  {
   "cell_type": "code",
   "execution_count": 21,
   "metadata": {},
   "outputs": [],
   "source": [
    "df.loc[df.source == 'vieclam24h', 'industry'] = df.loc[df.source == 'vieclam24h', 'industry'].apply(stringToList)"
   ]
  },
  {
   "cell_type": "code",
   "execution_count": 22,
   "metadata": {},
   "outputs": [],
   "source": [
    "def string_to_list(text):\n",
    "    string_list = re.split('\\n|\\t|•|-|,',text)\n",
    "    string_list = [s.strip() for s in string_list]\n",
    "    # string_list = [s.lower() for s in string_list]\n",
    "    return list(filter(None, string_list))[:-1]\n",
    "\n",
    "stringToList = lambda x: string_to_list(x)"
   ]
  },
  {
   "cell_type": "code",
   "execution_count": 23,
   "metadata": {},
   "outputs": [],
   "source": [
    "df.loc[df.source == 'jobsGo', 'industry'] = df.loc[df.source == 'jobsGo', 'industry'].apply(stringToList)"
   ]
  },
  {
   "cell_type": "code",
   "execution_count": 24,
   "metadata": {},
   "outputs": [],
   "source": [
    "def string_to_list(text):\n",
    "    string_list = re.split('\\n',text)\n",
    "    string_list = [s.strip() for s in string_list]\n",
    "    # string_list = [s.lower() for s in string_list]\n",
    "    return list(filter(None, string_list))\n",
    "\n",
    "stringToList = lambda x: string_to_list(x)"
   ]
  },
  {
   "cell_type": "code",
   "execution_count": 25,
   "metadata": {},
   "outputs": [],
   "source": [
    "df.loc[df.source == 'tuyencongnhan', 'industry'] = df.loc[df.source == 'tuyencongnhan', 'industry'].apply(stringToList)"
   ]
  },
  {
   "cell_type": "code",
   "execution_count": 26,
   "metadata": {},
   "outputs": [],
   "source": [
    "def string_to_list(text):\n",
    "    string_list = re.split('\\n|/',text)\n",
    "    string_list = [s.strip() for s in string_list]\n",
    "    # string_list = [s.lower() for s in string_list]\n",
    "    return list(filter(None, string_list))\n",
    "\n",
    "stringToList = lambda x: string_to_list(x)"
   ]
  },
  {
   "cell_type": "code",
   "execution_count": 27,
   "metadata": {},
   "outputs": [],
   "source": [
    "df.loc[df.source == 'topCV', 'industry'] = df.loc[df.source == 'topCV', 'industry'].apply(stringToList)"
   ]
  },
  {
   "cell_type": "code",
   "execution_count": 28,
   "metadata": {},
   "outputs": [],
   "source": [
    "def string_to_list(text):\n",
    "    string_list = re.split(',|/',text)\n",
    "    string_list = [s.strip() for s in string_list]\n",
    "    # string_list = [s.lower() for s in string_list]\n",
    "    return list(filter(None, string_list))\n",
    "\n",
    "stringToList = lambda x: string_to_list(x)"
   ]
  },
  {
   "cell_type": "code",
   "execution_count": 29,
   "metadata": {},
   "outputs": [],
   "source": [
    "df.loc[df.source == 'careerBuilder', 'industry']  = df.loc[df.source == 'careerBuilder', 'industry'].apply(stringToList)"
   ]
  },
  {
   "cell_type": "code",
   "execution_count": 30,
   "metadata": {},
   "outputs": [],
   "source": [
    "def string_to_list(text):\n",
    "    # string_list = re.split(',|/',text)\n",
    "    # string_list = [s.strip() for s in string_list]\n",
    "    # string_list = [s.lower() for s in string_list]\n",
    "    text=re.sub(\"/\",\"\",text)\n",
    "    text=re.sub(\" - \",\"\",text)\n",
    "    string_list = re.findall('[A-Z][^A-Z]*', text)\n",
    "    return list(filter(None, string_list))\n",
    "\n",
    "stringToList = lambda x: string_to_list(x)"
   ]
  },
  {
   "cell_type": "code",
   "execution_count": 31,
   "metadata": {},
   "outputs": [],
   "source": [
    "df.loc[df.source == 'timviecnhanh', 'industry']  = df.loc[df.source == 'timviecnhanh', 'industry'].apply(stringToList)"
   ]
  },
  {
   "cell_type": "code",
   "execution_count": 32,
   "metadata": {},
   "outputs": [],
   "source": [
    "def string_to_list(text):\n",
    "    string_list = re.split('\\n|-',text)\n",
    "    string_list = [s.strip() for s in string_list]\n",
    "    # string_list = [s.lower() for s in string_list]\n",
    "    return list(filter(None, string_list))\n",
    "\n",
    "stringToList = lambda x: string_to_list(x)"
   ]
  },
  {
   "cell_type": "code",
   "execution_count": 33,
   "metadata": {},
   "outputs": [],
   "source": [
    "df.loc[df.source == 'sieuthivieclam', 'industry'] = df.loc[df.source == 'sieuthivieclam', 'industry'].apply(stringToList)"
   ]
  },
  {
   "cell_type": "code",
   "execution_count": 145,
   "metadata": {},
   "outputs": [],
   "source": [
    "# querydf = df.loc[df.blue_or_white == 'white']\n",
    "querydf = df\n",
    "\n",
    "keywords = list(itertools.chain(*querydf.loc[:,'industry']))\n",
    "counts = Counter(keywords)\n",
    "\n",
    "counts_df_ = pd.DataFrame.from_dict(counts, orient='index').reset_index()\n",
    "counts_df_.columns = ['word','count']\n",
    "\n",
    "counts_df_ = counts_df_.sort_values('count',ascending=False).reset_index(drop=True)"
   ]
  },
  {
   "cell_type": "code",
   "execution_count": 146,
   "metadata": {},
   "outputs": [],
   "source": [
    "def string_to_list(text):\n",
    "    string_list = re.split('/|,|:',text)\n",
    "    string_list = [s.strip() for s in string_list]\n",
    "    # string_list = [s.lower() for s in string_list]\n",
    "    return list(filter(None, string_list))\n",
    "\n",
    "stringToList = lambda x: string_to_list(x)"
   ]
  },
  {
   "cell_type": "code",
   "execution_count": 147,
   "metadata": {},
   "outputs": [],
   "source": [
    "list(itertools.chain(*counts_df_.loc[:,'word']))\n",
    "counts_df_.word = counts_df_.word.apply(stringToList)"
   ]
  },
  {
   "cell_type": "code",
   "execution_count": 148,
   "metadata": {},
   "outputs": [
    {
     "data": {
      "text/html": [
       "<div>\n",
       "<style scoped>\n",
       "    .dataframe tbody tr th:only-of-type {\n",
       "        vertical-align: middle;\n",
       "    }\n",
       "\n",
       "    .dataframe tbody tr th {\n",
       "        vertical-align: top;\n",
       "    }\n",
       "\n",
       "    .dataframe thead th {\n",
       "        text-align: right;\n",
       "    }\n",
       "</style>\n",
       "<table border=\"1\" class=\"dataframe\">\n",
       "  <thead>\n",
       "    <tr style=\"text-align: right;\">\n",
       "      <th></th>\n",
       "      <th>word</th>\n",
       "      <th>count</th>\n",
       "      <th>words</th>\n",
       "    </tr>\n",
       "  </thead>\n",
       "  <tbody>\n",
       "    <tr>\n",
       "      <th>0</th>\n",
       "      <td>[Bán hàng]</td>\n",
       "      <td>18096</td>\n",
       "      <td>[Bán hàng, Bán hàng, Bán hàng, Bán hàng, Bán h...</td>\n",
       "    </tr>\n",
       "    <tr>\n",
       "      <th>1</th>\n",
       "      <td>[Kinh doanh]</td>\n",
       "      <td>16964</td>\n",
       "      <td>[Kinh doanh, Kinh doanh, Kinh doanh, Kinh doan...</td>\n",
       "    </tr>\n",
       "    <tr>\n",
       "      <th>2</th>\n",
       "      <td>[Marketing]</td>\n",
       "      <td>8254</td>\n",
       "      <td>[Marketing, Marketing, Marketing, Marketing, M...</td>\n",
       "    </tr>\n",
       "    <tr>\n",
       "      <th>3</th>\n",
       "      <td>[Tiếp thị]</td>\n",
       "      <td>6602</td>\n",
       "      <td>[Tiếp thị, Tiếp thị, Tiếp thị, Tiếp thị, Tiếp ...</td>\n",
       "    </tr>\n",
       "    <tr>\n",
       "      <th>4</th>\n",
       "      <td>[Kiểm toán]</td>\n",
       "      <td>6511</td>\n",
       "      <td>[Kiểm toán, Kiểm toán, Kiểm toán, Kiểm toán, K...</td>\n",
       "    </tr>\n",
       "    <tr>\n",
       "      <th>...</th>\n",
       "      <td>...</td>\n",
       "      <td>...</td>\n",
       "      <td>...</td>\n",
       "    </tr>\n",
       "    <tr>\n",
       "      <th>761</th>\n",
       "      <td>[Dịch vụĐiện Điện tử Điện lạnh]</td>\n",
       "      <td>1</td>\n",
       "      <td>[Dịch vụĐiện Điện tử Điện lạnh]</td>\n",
       "    </tr>\n",
       "    <tr>\n",
       "      <th>762</th>\n",
       "      <td>[Civil, Construction]</td>\n",
       "      <td>1</td>\n",
       "      <td>[Civil, Construction]</td>\n",
       "    </tr>\n",
       "    <tr>\n",
       "      <th>763</th>\n",
       "      <td>[Giáo Dục, Đào Tạo]</td>\n",
       "      <td>1</td>\n",
       "      <td>[Giáo Dục, Đào Tạo]</td>\n",
       "    </tr>\n",
       "    <tr>\n",
       "      <th>764</th>\n",
       "      <td>[Bán hàng, Quản Trị, Nhân Sự]</td>\n",
       "      <td>1</td>\n",
       "      <td>[Bán hàng, Quản Trị, Nhân Sự]</td>\n",
       "    </tr>\n",
       "    <tr>\n",
       "      <th>765</th>\n",
       "      <td>[Giao hàng, Bảo vệ]</td>\n",
       "      <td>1</td>\n",
       "      <td>[Giao hàng, Bảo vệ]</td>\n",
       "    </tr>\n",
       "  </tbody>\n",
       "</table>\n",
       "<p>766 rows × 3 columns</p>\n",
       "</div>"
      ],
      "text/plain": [
       "                                word  count  \\\n",
       "0                         [Bán hàng]  18096   \n",
       "1                       [Kinh doanh]  16964   \n",
       "2                        [Marketing]   8254   \n",
       "3                         [Tiếp thị]   6602   \n",
       "4                        [Kiểm toán]   6511   \n",
       "..                               ...    ...   \n",
       "761  [Dịch vụĐiện Điện tử Điện lạnh]      1   \n",
       "762            [Civil, Construction]      1   \n",
       "763              [Giáo Dục, Đào Tạo]      1   \n",
       "764    [Bán hàng, Quản Trị, Nhân Sự]      1   \n",
       "765              [Giao hàng, Bảo vệ]      1   \n",
       "\n",
       "                                                 words  \n",
       "0    [Bán hàng, Bán hàng, Bán hàng, Bán hàng, Bán h...  \n",
       "1    [Kinh doanh, Kinh doanh, Kinh doanh, Kinh doan...  \n",
       "2    [Marketing, Marketing, Marketing, Marketing, M...  \n",
       "3    [Tiếp thị, Tiếp thị, Tiếp thị, Tiếp thị, Tiếp ...  \n",
       "4    [Kiểm toán, Kiểm toán, Kiểm toán, Kiểm toán, K...  \n",
       "..                                                 ...  \n",
       "761                    [Dịch vụĐiện Điện tử Điện lạnh]  \n",
       "762                              [Civil, Construction]  \n",
       "763                                [Giáo Dục, Đào Tạo]  \n",
       "764                      [Bán hàng, Quản Trị, Nhân Sự]  \n",
       "765                                [Giao hàng, Bảo vệ]  \n",
       "\n",
       "[766 rows x 3 columns]"
      ]
     },
     "execution_count": 148,
     "metadata": {},
     "output_type": "execute_result"
    }
   ],
   "source": [
    "counts_df_['words'] = counts_df_['word']*counts_df_['count']\n",
    "counts_df_"
   ]
  },
  {
   "cell_type": "code",
   "execution_count": 149,
   "metadata": {},
   "outputs": [],
   "source": [
    "keywords = list(itertools.chain(*counts_df_.loc[:,'words']))\n",
    "counts = Counter(keywords)\n",
    "\n",
    "counts_df_2 = pd.DataFrame.from_dict(counts, orient='index').reset_index()\n",
    "counts_df_2.columns = ['word','count']\n",
    "\n",
    "counts_df_2 = counts_df_2.sort_values('count',ascending=False).reset_index(drop=True)"
   ]
  },
  {
   "cell_type": "code",
   "execution_count": 150,
   "metadata": {},
   "outputs": [
    {
     "data": {
      "text/html": [
       "<div>\n",
       "<style scoped>\n",
       "    .dataframe tbody tr th:only-of-type {\n",
       "        vertical-align: middle;\n",
       "    }\n",
       "\n",
       "    .dataframe tbody tr th {\n",
       "        vertical-align: top;\n",
       "    }\n",
       "\n",
       "    .dataframe thead th {\n",
       "        text-align: right;\n",
       "    }\n",
       "</style>\n",
       "<table border=\"1\" class=\"dataframe\">\n",
       "  <thead>\n",
       "    <tr style=\"text-align: right;\">\n",
       "      <th></th>\n",
       "      <th>word</th>\n",
       "      <th>count</th>\n",
       "    </tr>\n",
       "  </thead>\n",
       "  <tbody>\n",
       "    <tr>\n",
       "      <th>0</th>\n",
       "      <td>Bán hàng</td>\n",
       "      <td>18179</td>\n",
       "    </tr>\n",
       "    <tr>\n",
       "      <th>1</th>\n",
       "      <td>Kinh doanh</td>\n",
       "      <td>16998</td>\n",
       "    </tr>\n",
       "    <tr>\n",
       "      <th>2</th>\n",
       "      <td>Marketing</td>\n",
       "      <td>8329</td>\n",
       "    </tr>\n",
       "    <tr>\n",
       "      <th>3</th>\n",
       "      <td>Kế toán</td>\n",
       "      <td>6659</td>\n",
       "    </tr>\n",
       "    <tr>\n",
       "      <th>4</th>\n",
       "      <td>Tiếp thị</td>\n",
       "      <td>6634</td>\n",
       "    </tr>\n",
       "    <tr>\n",
       "      <th>...</th>\n",
       "      <td>...</td>\n",
       "      <td>...</td>\n",
       "    </tr>\n",
       "    <tr>\n",
       "      <th>670</th>\n",
       "      <td>Trang thiết bị gia dụngĐiệnĐiện tửĐiện lạnh</td>\n",
       "      <td>1</td>\n",
       "    </tr>\n",
       "    <tr>\n",
       "      <th>671</th>\n",
       "      <td>Nội thấtĐiệnĐiện tửĐiện lạnh</td>\n",
       "      <td>1</td>\n",
       "    </tr>\n",
       "    <tr>\n",
       "      <th>672</th>\n",
       "      <td>FMCG</td>\n",
       "      <td>1</td>\n",
       "    </tr>\n",
       "    <tr>\n",
       "      <th>673</th>\n",
       "      <td>HVAC</td>\n",
       "      <td>1</td>\n",
       "    </tr>\n",
       "    <tr>\n",
       "      <th>674</th>\n",
       "      <td>Giáo Dục</td>\n",
       "      <td>1</td>\n",
       "    </tr>\n",
       "  </tbody>\n",
       "</table>\n",
       "<p>675 rows × 2 columns</p>\n",
       "</div>"
      ],
      "text/plain": [
       "                                            word  count\n",
       "0                                       Bán hàng  18179\n",
       "1                                     Kinh doanh  16998\n",
       "2                                      Marketing   8329\n",
       "3                                        Kế toán   6659\n",
       "4                                       Tiếp thị   6634\n",
       "..                                           ...    ...\n",
       "670  Trang thiết bị gia dụngĐiệnĐiện tửĐiện lạnh      1\n",
       "671                 Nội thấtĐiệnĐiện tửĐiện lạnh      1\n",
       "672                                         FMCG      1\n",
       "673                                         HVAC      1\n",
       "674                                     Giáo Dục      1\n",
       "\n",
       "[675 rows x 2 columns]"
      ]
     },
     "execution_count": 150,
     "metadata": {},
     "output_type": "execute_result"
    }
   ],
   "source": [
    "counts_df_2"
   ]
  },
  {
   "cell_type": "code",
   "execution_count": 151,
   "metadata": {},
   "outputs": [
    {
     "data": {
      "text/plain": [
       "319872"
      ]
     },
     "execution_count": 151,
     "metadata": {},
     "output_type": "execute_result"
    }
   ],
   "source": [
    "df.industry[0]\n",
    "counts_df_2['count'].sum()"
   ]
  },
  {
   "cell_type": "code",
   "execution_count": 144,
   "metadata": {},
   "outputs": [
    {
     "data": {
      "text/html": [
       "<div>\n",
       "<style scoped>\n",
       "    .dataframe tbody tr th:only-of-type {\n",
       "        vertical-align: middle;\n",
       "    }\n",
       "\n",
       "    .dataframe tbody tr th {\n",
       "        vertical-align: top;\n",
       "    }\n",
       "\n",
       "    .dataframe thead th {\n",
       "        text-align: right;\n",
       "    }\n",
       "</style>\n",
       "<table border=\"1\" class=\"dataframe\">\n",
       "  <thead>\n",
       "    <tr style=\"text-align: right;\">\n",
       "      <th></th>\n",
       "      <th>word</th>\n",
       "      <th>count</th>\n",
       "    </tr>\n",
       "  </thead>\n",
       "  <tbody>\n",
       "    <tr>\n",
       "      <th>0</th>\n",
       "      <td>Bán hàng</td>\n",
       "      <td>14991</td>\n",
       "    </tr>\n",
       "    <tr>\n",
       "      <th>1</th>\n",
       "      <td>Kinh doanh</td>\n",
       "      <td>13891</td>\n",
       "    </tr>\n",
       "    <tr>\n",
       "      <th>2</th>\n",
       "      <td>Marketing</td>\n",
       "      <td>8285</td>\n",
       "    </tr>\n",
       "    <tr>\n",
       "      <th>3</th>\n",
       "      <td>Tài chính</td>\n",
       "      <td>6288</td>\n",
       "    </tr>\n",
       "    <tr>\n",
       "      <th>4</th>\n",
       "      <td>Quảng cáo</td>\n",
       "      <td>6099</td>\n",
       "    </tr>\n",
       "    <tr>\n",
       "      <th>5</th>\n",
       "      <td>Kế toán</td>\n",
       "      <td>5810</td>\n",
       "    </tr>\n",
       "    <tr>\n",
       "      <th>6</th>\n",
       "      <td>Kiểm toán</td>\n",
       "      <td>5663</td>\n",
       "    </tr>\n",
       "    <tr>\n",
       "      <th>7</th>\n",
       "      <td>Dịch vụ khách hàng</td>\n",
       "      <td>5429</td>\n",
       "    </tr>\n",
       "    <tr>\n",
       "      <th>8</th>\n",
       "      <td>Ngân hàng</td>\n",
       "      <td>5010</td>\n",
       "    </tr>\n",
       "    <tr>\n",
       "      <th>9</th>\n",
       "      <td>Hành chính</td>\n",
       "      <td>4961</td>\n",
       "    </tr>\n",
       "    <tr>\n",
       "      <th>10</th>\n",
       "      <td>Tư vấn</td>\n",
       "      <td>4707</td>\n",
       "    </tr>\n",
       "    <tr>\n",
       "      <th>11</th>\n",
       "      <td>Đầu tư</td>\n",
       "      <td>4520</td>\n",
       "    </tr>\n",
       "    <tr>\n",
       "      <th>12</th>\n",
       "      <td>Truyền thông</td>\n",
       "      <td>4356</td>\n",
       "    </tr>\n",
       "    <tr>\n",
       "      <th>13</th>\n",
       "      <td>Tiếp thị</td>\n",
       "      <td>3756</td>\n",
       "    </tr>\n",
       "    <tr>\n",
       "      <th>14</th>\n",
       "      <td>IT phần mềm</td>\n",
       "      <td>3688</td>\n",
       "    </tr>\n",
       "    <tr>\n",
       "      <th>15</th>\n",
       "      <td>Điện tử</td>\n",
       "      <td>3614</td>\n",
       "    </tr>\n",
       "    <tr>\n",
       "      <th>16</th>\n",
       "      <td>Bán lẻ</td>\n",
       "      <td>3453</td>\n",
       "    </tr>\n",
       "    <tr>\n",
       "      <th>17</th>\n",
       "      <td>Xây dựng</td>\n",
       "      <td>3407</td>\n",
       "    </tr>\n",
       "    <tr>\n",
       "      <th>18</th>\n",
       "      <td>Văn phòng</td>\n",
       "      <td>3360</td>\n",
       "    </tr>\n",
       "    <tr>\n",
       "      <th>19</th>\n",
       "      <td>Nhân sự</td>\n",
       "      <td>3338</td>\n",
       "    </tr>\n",
       "    <tr>\n",
       "      <th>20</th>\n",
       "      <td>Điện</td>\n",
       "      <td>3239</td>\n",
       "    </tr>\n",
       "    <tr>\n",
       "      <th>21</th>\n",
       "      <td>Công nghệ thông tin</td>\n",
       "      <td>3194</td>\n",
       "    </tr>\n",
       "    <tr>\n",
       "      <th>22</th>\n",
       "      <td>Bất động sản</td>\n",
       "      <td>3146</td>\n",
       "    </tr>\n",
       "    <tr>\n",
       "      <th>23</th>\n",
       "      <td>Mạng</td>\n",
       "      <td>3056</td>\n",
       "    </tr>\n",
       "    <tr>\n",
       "      <th>24</th>\n",
       "      <td>Thư ký</td>\n",
       "      <td>3002</td>\n",
       "    </tr>\n",
       "    <tr>\n",
       "      <th>25</th>\n",
       "      <td>Cơ khí</td>\n",
       "      <td>2925</td>\n",
       "    </tr>\n",
       "    <tr>\n",
       "      <th>26</th>\n",
       "      <td>Điện lạnh</td>\n",
       "      <td>2650</td>\n",
       "    </tr>\n",
       "    <tr>\n",
       "      <th>27</th>\n",
       "      <td>Tự động hóa</td>\n",
       "      <td>2622</td>\n",
       "    </tr>\n",
       "    <tr>\n",
       "      <th>28</th>\n",
       "      <td>Bán sỉ</td>\n",
       "      <td>2549</td>\n",
       "    </tr>\n",
       "    <tr>\n",
       "      <th>29</th>\n",
       "      <td>Đào tạo</td>\n",
       "      <td>2291</td>\n",
       "    </tr>\n",
       "    <tr>\n",
       "      <th>30</th>\n",
       "      <td>Giáo dục</td>\n",
       "      <td>2291</td>\n",
       "    </tr>\n",
       "    <tr>\n",
       "      <th>31</th>\n",
       "      <td>CNTT - Phần mềm</td>\n",
       "      <td>2186</td>\n",
       "    </tr>\n",
       "    <tr>\n",
       "      <th>32</th>\n",
       "      <td>Quản lý điều hành</td>\n",
       "      <td>2116</td>\n",
       "    </tr>\n",
       "    <tr>\n",
       "      <th>33</th>\n",
       "      <td>IT</td>\n",
       "      <td>2045</td>\n",
       "    </tr>\n",
       "    <tr>\n",
       "      <th>34</th>\n",
       "      <td>Sản xuất</td>\n",
       "      <td>1997</td>\n",
       "    </tr>\n",
       "    <tr>\n",
       "      <th>35</th>\n",
       "      <td>Kho vận</td>\n",
       "      <td>1994</td>\n",
       "    </tr>\n",
       "    <tr>\n",
       "      <th>36</th>\n",
       "      <td>Ô tô</td>\n",
       "      <td>1834</td>\n",
       "    </tr>\n",
       "    <tr>\n",
       "      <th>37</th>\n",
       "      <td>Xuất nhập khẩu</td>\n",
       "      <td>1829</td>\n",
       "    </tr>\n",
       "    <tr>\n",
       "      <th>38</th>\n",
       "      <td>Tư Vấn Bán Hàng</td>\n",
       "      <td>1801</td>\n",
       "    </tr>\n",
       "    <tr>\n",
       "      <th>39</th>\n",
       "      <td>Chăm Sóc Khách Hàng</td>\n",
       "      <td>1796</td>\n",
       "    </tr>\n",
       "    <tr>\n",
       "      <th>40</th>\n",
       "      <td>0</td>\n",
       "      <td>1775</td>\n",
       "    </tr>\n",
       "    <tr>\n",
       "      <th>41</th>\n",
       "      <td>Báo chí</td>\n",
       "      <td>1770</td>\n",
       "    </tr>\n",
       "    <tr>\n",
       "      <th>42</th>\n",
       "      <td>Truyền hình</td>\n",
       "      <td>1763</td>\n",
       "    </tr>\n",
       "    <tr>\n",
       "      <th>43</th>\n",
       "      <td>Đối ngoại</td>\n",
       "      <td>1744</td>\n",
       "    </tr>\n",
       "    <tr>\n",
       "      <th>44</th>\n",
       "      <td>Bảo hiểm</td>\n",
       "      <td>1713</td>\n",
       "    </tr>\n",
       "    <tr>\n",
       "      <th>45</th>\n",
       "      <td>Truyền Thông</td>\n",
       "      <td>1662</td>\n",
       "    </tr>\n",
       "    <tr>\n",
       "      <th>46</th>\n",
       "      <td>Y tế</td>\n",
       "      <td>1631</td>\n",
       "    </tr>\n",
       "    <tr>\n",
       "      <th>47</th>\n",
       "      <td>QC)</td>\n",
       "      <td>1516</td>\n",
       "    </tr>\n",
       "    <tr>\n",
       "      <th>48</th>\n",
       "      <td>Pháp lý</td>\n",
       "      <td>1506</td>\n",
       "    </tr>\n",
       "    <tr>\n",
       "      <th>49</th>\n",
       "      <td>Kiến trúc</td>\n",
       "      <td>1469</td>\n",
       "    </tr>\n",
       "    <tr>\n",
       "      <th>50</th>\n",
       "      <td>Giao nhận</td>\n",
       "      <td>1443</td>\n",
       "    </tr>\n",
       "    <tr>\n",
       "      <th>51</th>\n",
       "      <td>Vận hành sản xuất</td>\n",
       "      <td>1442</td>\n",
       "    </tr>\n",
       "  </tbody>\n",
       "</table>\n",
       "</div>"
      ],
      "text/plain": [
       "                   word  count\n",
       "0              Bán hàng  14991\n",
       "1            Kinh doanh  13891\n",
       "2             Marketing   8285\n",
       "3             Tài chính   6288\n",
       "4             Quảng cáo   6099\n",
       "5               Kế toán   5810\n",
       "6             Kiểm toán   5663\n",
       "7    Dịch vụ khách hàng   5429\n",
       "8             Ngân hàng   5010\n",
       "9            Hành chính   4961\n",
       "10               Tư vấn   4707\n",
       "11               Đầu tư   4520\n",
       "12         Truyền thông   4356\n",
       "13             Tiếp thị   3756\n",
       "14          IT phần mềm   3688\n",
       "15              Điện tử   3614\n",
       "16               Bán lẻ   3453\n",
       "17             Xây dựng   3407\n",
       "18            Văn phòng   3360\n",
       "19              Nhân sự   3338\n",
       "20                 Điện   3239\n",
       "21  Công nghệ thông tin   3194\n",
       "22         Bất động sản   3146\n",
       "23                 Mạng   3056\n",
       "24               Thư ký   3002\n",
       "25               Cơ khí   2925\n",
       "26            Điện lạnh   2650\n",
       "27          Tự động hóa   2622\n",
       "28               Bán sỉ   2549\n",
       "29              Đào tạo   2291\n",
       "30             Giáo dục   2291\n",
       "31      CNTT - Phần mềm   2186\n",
       "32    Quản lý điều hành   2116\n",
       "33                   IT   2045\n",
       "34             Sản xuất   1997\n",
       "35              Kho vận   1994\n",
       "36                 Ô tô   1834\n",
       "37       Xuất nhập khẩu   1829\n",
       "38      Tư Vấn Bán Hàng   1801\n",
       "39  Chăm Sóc Khách Hàng   1796\n",
       "40                    0   1775\n",
       "41              Báo chí   1770\n",
       "42          Truyền hình   1763\n",
       "43            Đối ngoại   1744\n",
       "44             Bảo hiểm   1713\n",
       "45         Truyền Thông   1662\n",
       "46                 Y tế   1631\n",
       "47                  QC)   1516\n",
       "48              Pháp lý   1506\n",
       "49            Kiến trúc   1469\n",
       "50            Giao nhận   1443\n",
       "51    Vận hành sản xuất   1442"
      ]
     },
     "execution_count": 144,
     "metadata": {},
     "output_type": "execute_result"
    }
   ],
   "source": [
    "counts_df_2.iloc[:52,:]"
   ]
  },
  {
   "cell_type": "code",
   "execution_count": 34,
   "metadata": {},
   "outputs": [
    {
     "data": {
      "text/html": [
       "<div>\n",
       "<style scoped>\n",
       "    .dataframe tbody tr th:only-of-type {\n",
       "        vertical-align: middle;\n",
       "    }\n",
       "\n",
       "    .dataframe tbody tr th {\n",
       "        vertical-align: top;\n",
       "    }\n",
       "\n",
       "    .dataframe thead th {\n",
       "        text-align: right;\n",
       "    }\n",
       "</style>\n",
       "<table border=\"1\" class=\"dataframe\">\n",
       "  <thead>\n",
       "    <tr style=\"text-align: right;\">\n",
       "      <th></th>\n",
       "      <th>url</th>\n",
       "      <th>title</th>\n",
       "      <th>salary</th>\n",
       "      <th>experiment</th>\n",
       "      <th>degree</th>\n",
       "      <th>so_luong</th>\n",
       "      <th>industry</th>\n",
       "      <th>location</th>\n",
       "      <th>level</th>\n",
       "      <th>jd</th>\n",
       "      <th>benefit</th>\n",
       "      <th>requirement</th>\n",
       "      <th>source</th>\n",
       "      <th>language</th>\n",
       "      <th>blue_or_white</th>\n",
       "      <th>requirement_list</th>\n",
       "      <th>requirement_list_cleaned</th>\n",
       "      <th>tokenized_requirement</th>\n",
       "      <th>tokenized_requirement_2</th>\n",
       "    </tr>\n",
       "  </thead>\n",
       "  <tbody>\n",
       "    <tr>\n",
       "      <th>0</th>\n",
       "      <td>https://vieclam24h.vn/nhan-vien-kinh-doanh/nha...</td>\n",
       "      <td>Nhân Viên Kinh Doanh Lĩnh Vực Chuyển Phát Nhan...</td>\n",
       "      <td>10 - 40 triệu</td>\n",
       "      <td>Chưa có kinh nghiệm</td>\n",
       "      <td>cao đẳng</td>\n",
       "      <td>5.0</td>\n",
       "      <td>[Quản trị kinh doanh, Ngoại thương , Xuất nhập...</td>\n",
       "      <td>Hà Nội</td>\n",
       "      <td>Chuyên viên- nhân viên</td>\n",
       "      <td>- Chủ động tìm kiếm thông tin khách hàng mới, ...</td>\n",
       "      <td>- Lương cứng 5 triệu + hoa hồng =&gt; Thu nhập từ...</td>\n",
       "      <td>- Ưu tiên có kinh nghiệm làm trong lĩnh vực gi...</td>\n",
       "      <td>vieclam24h</td>\n",
       "      <td>vi</td>\n",
       "      <td>white</td>\n",
       "      <td>[Ưu tiên có kinh nghiệm làm trong lĩnh vực gia...</td>\n",
       "      <td>[ưu tiên có kinh nghiệm làm trong lĩnh vực gia...</td>\n",
       "      <td>[ưu tiên, có, kinh nghiệm, làm, trong, lĩnh vự...</td>\n",
       "      <td>[ưu_tiên, có, kinh_nghiệm, làm, trong, lĩnh_vự...</td>\n",
       "    </tr>\n",
       "    <tr>\n",
       "      <th>1</th>\n",
       "      <td>https://vieclam24h.vn/ban-hang/nhan-vien-ban-h...</td>\n",
       "      <td>Nhân Viên Bán Hàng Tại Showroom Thu Nhập Trên ...</td>\n",
       "      <td>15 - 20 triệu</td>\n",
       "      <td>Dưới 1 năm</td>\n",
       "      <td>trung cấp</td>\n",
       "      <td>3.0</td>\n",
       "      <td>[Bán hàng, Nhân viên kinh doanh, Tư vấn]</td>\n",
       "      <td>Hà Nội</td>\n",
       "      <td>Chuyên viên- nhân viên</td>\n",
       "      <td>- Làm việc tại Showroom BigC The Garden, Mễ...</td>\n",
       "      <td>- Thu nhập: Từ 15-30 Triệu / Tháng- Lương thử ...</td>\n",
       "      <td>- Có kinh nghiệm về bán hàng, yêu thích bán hà...</td>\n",
       "      <td>vieclam24h</td>\n",
       "      <td>vi</td>\n",
       "      <td>blue</td>\n",
       "      <td>[Có kinh nghiệm về bán hàng, yêu thích bán hàn...</td>\n",
       "      <td>[có kinh nghiệm về bán hàng yêu thích bán hàng...</td>\n",
       "      <td>[có, kinh nghiệm, về, bán, hàng, yêu thích, bá...</td>\n",
       "      <td>[có, kinh_nghiệm, về, bán, hàng, yêu_thích, bá...</td>\n",
       "    </tr>\n",
       "    <tr>\n",
       "      <th>2</th>\n",
       "      <td>https://vieclam24h.vn/dich-vu/shopee-nhan-vien...</td>\n",
       "      <td>Shopee - Nhân Viên Chăm Sóc Khách Hàng</td>\n",
       "      <td>5 - 7 triệu</td>\n",
       "      <td>Dưới 1 năm</td>\n",
       "      <td>trung học</td>\n",
       "      <td>15.0</td>\n",
       "      <td>[Dịch vụ, Thương mại điện tử, Tư vấn]</td>\n",
       "      <td>TP.HCM</td>\n",
       "      <td>Chuyên viên- nhân viên</td>\n",
       "      <td>MÔ TẢ CÔNG VIỆC- Tiếp nhận và giải đáp thắc mắ...</td>\n",
       "      <td>- Thu nhập: Lương cứng: 6.300.000VND/tháng + t...</td>\n",
       "      <td>- Tốt nghiệp THPT trở lên.- Tuổi từ 18 đến 32....</td>\n",
       "      <td>vieclam24h</td>\n",
       "      <td>vi</td>\n",
       "      <td>blue</td>\n",
       "      <td>[Tốt nghiệp THPT trở lên., Tuổi từ 18 đến 32.,...</td>\n",
       "      <td>[tốt nghiệp thpt trở lên, tuổi từ đến, tối thi...</td>\n",
       "      <td>[tốt nghiệp, thpt, trở, lên, tuổi, từ, đến, tố...</td>\n",
       "      <td>[tốt_nghiệp, thpt, trở, lên, tuổi, từ, đến, tố...</td>\n",
       "    </tr>\n",
       "    <tr>\n",
       "      <th>3</th>\n",
       "      <td>https://vieclam24h.vn/ban-hang/nhan-vien-tu-va...</td>\n",
       "      <td>Nhân Viên Tư Vấn Bán Hàng Hà Nội</td>\n",
       "      <td>7 - 10 triệu</td>\n",
       "      <td>1 năm</td>\n",
       "      <td>trung cấp</td>\n",
       "      <td>10.0</td>\n",
       "      <td>[Bán hàng, Nhân viên kinh doanh, Thời trang]</td>\n",
       "      <td>Hà Nội</td>\n",
       "      <td>Chuyên viên- nhân viên</td>\n",
       "      <td>- Tư vấn, giới thiệu và bán sản phẩm Vàng, Bạc...</td>\n",
       "      <td>- Thu nhập từ 6 - 9 triệu / tháng;- Hỗ trợ tiề...</td>\n",
       "      <td>- Nam / Nữ, sức khỏe tốt, ngoại hình cân đối, ...</td>\n",
       "      <td>vieclam24h</td>\n",
       "      <td>vi</td>\n",
       "      <td>blue</td>\n",
       "      <td>[Nam / Nữ, sức khỏe tốt, ngoại hình cân đối, ư...</td>\n",
       "      <td>[nam nữ sức khỏe tốt ngoại hình cân đối ưa nhì...</td>\n",
       "      <td>[nam nữ, sức khỏe, tốt, ngoại hình, cân đối, ư...</td>\n",
       "      <td>[nam_nữ, sức_khỏe, tốt, ngoại_hình, cân_đối, ư...</td>\n",
       "    </tr>\n",
       "    <tr>\n",
       "      <th>4</th>\n",
       "      <td>https://vieclam24h.vn/khach-san-nha-hang/nhan-...</td>\n",
       "      <td>Nhân Viên Lễ Tân Tòa Nhà Chung Cư - Q.4, Q.Bìn...</td>\n",
       "      <td>7 - 10 triệu</td>\n",
       "      <td>Dưới 1 năm</td>\n",
       "      <td>trung cấp</td>\n",
       "      <td>8.0</td>\n",
       "      <td>[Khách sạn , Nhà hàng, Hành chính , Văn phòng,...</td>\n",
       "      <td>TP.HCMLong An</td>\n",
       "      <td>Chuyên viên- nhân viên</td>\n",
       "      <td>1. Công tác lễ tân:- Đón tiếp khách, trực điện...</td>\n",
       "      <td>1. Thu nhập: Xứng đáng theo năng lực thực tế2....</td>\n",
       "      <td>- Tốt nghiệp Trung cấp, Cao đẳng trở lên;- Có ...</td>\n",
       "      <td>vieclam24h</td>\n",
       "      <td>vi</td>\n",
       "      <td>blue</td>\n",
       "      <td>[Tốt nghiệp Trung cấp, Cao đẳng trở lên;, Có k...</td>\n",
       "      <td>[tốt nghiệp trung cấp cao đẳng trở lên, có kin...</td>\n",
       "      <td>[tốt nghiệp, trung cấp, cao đẳng, trở, lên, có...</td>\n",
       "      <td>[tốt_nghiệp, trung_cấp, cao_đẳng, trở, lên, có...</td>\n",
       "    </tr>\n",
       "    <tr>\n",
       "      <th>...</th>\n",
       "      <td>...</td>\n",
       "      <td>...</td>\n",
       "      <td>...</td>\n",
       "      <td>...</td>\n",
       "      <td>...</td>\n",
       "      <td>...</td>\n",
       "      <td>...</td>\n",
       "      <td>...</td>\n",
       "      <td>...</td>\n",
       "      <td>...</td>\n",
       "      <td>...</td>\n",
       "      <td>...</td>\n",
       "      <td>...</td>\n",
       "      <td>...</td>\n",
       "      <td>...</td>\n",
       "      <td>...</td>\n",
       "      <td>...</td>\n",
       "      <td>...</td>\n",
       "      <td>...</td>\n",
       "    </tr>\n",
       "    <tr>\n",
       "      <th>90992</th>\n",
       "      <td>https://sieuthivieclam.vn/viec-lam/nhan-vien-k...</td>\n",
       "      <td>NHÂN VIÊN KINH DOANH(Mã:CV2015-0946)</td>\n",
       "      <td>\\n4.000.000VNĐ\\n</td>\n",
       "      <td>\\nKhông yêu cầu\\n</td>\n",
       "      <td>cao đẳng</td>\n",
       "      <td>\\n10\\n</td>\n",
       "      <td>[Kinh doanh, Tiếp thị, Bán hàng]</td>\n",
       "      <td>\\nNơi làm việc:\\nQuận Tân Bình\\n</td>\n",
       "      <td>\\nNhân viên\\n</td>\n",
       "      <td>\\nNhân viên kinh doanh làm việc trong ngành đi...</td>\n",
       "      <td>\\nPhụ cấp\\nhoa hồng\\nPhúc lợi\\nThỏa thuận\\n</td>\n",
       "      <td>\\nTốt nghiệp Cao Đẳng trở lên. Thành thạo vi t...</td>\n",
       "      <td>sieuthivieclam</td>\n",
       "      <td>vi</td>\n",
       "      <td>white</td>\n",
       "      <td>[Tốt nghiệp Cao Đẳng trở lên. Thành thạo vi tí...</td>\n",
       "      <td>[tốt nghiệp cao đẳng trở lên thành thạo vi tín...</td>\n",
       "      <td>[tốt nghiệp, cao đẳng, trở lên, thành thạo, vi...</td>\n",
       "      <td>[tốt_nghiệp, cao_đẳng, trở_lên, thành_thạo, vi...</td>\n",
       "    </tr>\n",
       "    <tr>\n",
       "      <th>90993</th>\n",
       "      <td>https://sieuthivieclam.vn/viec-lam/giup-viec-n...</td>\n",
       "      <td>GIÚP VIỆC NHÀ( BAO ĂN Ở)(Mã:CV2015-0945)</td>\n",
       "      <td>\\n3.500.000VNĐ\\n</td>\n",
       "      <td>\\nKhông yêu cầu\\n</td>\n",
       "      <td>lao động phổ thông</td>\n",
       "      <td>\\n0\\n(1 nữ)\\n</td>\n",
       "      <td>[Lao động phổ thông, Tạp vụ, Giúp việc nhà]</td>\n",
       "      <td>\\nNơi làm việc:\\nQuận 12\\n</td>\n",
       "      <td>\\nNhân viên\\n</td>\n",
       "      <td>\\nDọn dẹp văn phòng,nấu ăn cho 6 người, đưa đó...</td>\n",
       "      <td>\\nPhụ cấp\\nbao ăn ở.\\nPhúc lợi\\nThỏa thuận\\n</td>\n",
       "      <td>\\nThật thà, sức khỏe tốt.\\n</td>\n",
       "      <td>sieuthivieclam</td>\n",
       "      <td>vi</td>\n",
       "      <td>blue</td>\n",
       "      <td>[Thật thà, sức khỏe tốt.]</td>\n",
       "      <td>[thật thà sức khỏe tốt]</td>\n",
       "      <td>[thật thà, sức khỏe, tốt]</td>\n",
       "      <td>[thật_thà, sức_khỏe, tốt]</td>\n",
       "    </tr>\n",
       "    <tr>\n",
       "      <th>90994</th>\n",
       "      <td>https://sieuthivieclam.vn/viec-lam/phu-bep-CV2...</td>\n",
       "      <td>PHỤ BẾP(Mã:CV2015-0944)</td>\n",
       "      <td>\\n4.000.000VNĐ\\n</td>\n",
       "      <td>\\nKhông yêu cầu\\n</td>\n",
       "      <td>lao động phổ thông</td>\n",
       "      <td>\\n0\\n(5 nữ)\\n</td>\n",
       "      <td>[Du lịch nhà hàng, Khách sạn, Ăn uống]</td>\n",
       "      <td>\\nNơi làm việc:\\nQuận Phú nhuận\\n</td>\n",
       "      <td>\\nNhân viên\\n</td>\n",
       "      <td>\\nPhụ bếp làm việc cho quán ăn bán đặc sản miề...</td>\n",
       "      <td>\\nPhụ cấp\\nbao ăn 2 bữa\\nPhúc lợi\\nThỏa thuận\\n</td>\n",
       "      <td>\\nCó sức khỏe tốt, biết nấu ăn cơ bản. Ưu tiên...</td>\n",
       "      <td>sieuthivieclam</td>\n",
       "      <td>vi</td>\n",
       "      <td>blue</td>\n",
       "      <td>[Có sức khỏe tốt, biết nấu ăn cơ bản. Ưu tiên ...</td>\n",
       "      <td>[có sức khỏe tốt biết nấu ăn cơ bản ưu tiên ng...</td>\n",
       "      <td>[có, sức khỏe, tốt, biết, nấu ăn, cơ bản, ưu t...</td>\n",
       "      <td>[có, sức_khỏe, tốt, biết, nấu_ăn, cơ_bản, ưu_t...</td>\n",
       "    </tr>\n",
       "    <tr>\n",
       "      <th>90995</th>\n",
       "      <td>https://sieuthivieclam.vn/viec-lam/cong-nhan-m...</td>\n",
       "      <td>CÔNG NHÂN MAY MẪU*(Mã:CV2015-0943)</td>\n",
       "      <td>\\n5.000.000VNĐ\\n</td>\n",
       "      <td>\\nKhông yêu cầu\\n</td>\n",
       "      <td>lao động phổ thông</td>\n",
       "      <td>\\n10\\n</td>\n",
       "      <td>[Dệt, May, Da giày]</td>\n",
       "      <td>\\nNơi làm việc:\\nQuận Phú nhuận\\n</td>\n",
       "      <td>\\nNhân viên\\n</td>\n",
       "      <td>\\nCông nhân may mẫu các sản phẩm túi xách, bóp...</td>\n",
       "      <td>\\nPhụ cấp\\nđến 7.000.000 VND/tháng\\nPhúc lợi\\n...</td>\n",
       "      <td>\\nCó kinh nghiệm, ưu tiên biết điều chỉnh máy ...</td>\n",
       "      <td>sieuthivieclam</td>\n",
       "      <td>vi</td>\n",
       "      <td>blue</td>\n",
       "      <td>[Có kinh nghiệm, ưu tiên biết điều chỉnh máy m...</td>\n",
       "      <td>[có kinh nghiệm ưu tiên biết điều chỉnh máy ma...</td>\n",
       "      <td>[có, kinh nghiệm, ưu tiên, biết, điều chỉnh, m...</td>\n",
       "      <td>[có, kinh_nghiệm, ưu_tiên, biết, điều_chỉnh, m...</td>\n",
       "    </tr>\n",
       "    <tr>\n",
       "      <th>90996</th>\n",
       "      <td>https://sieuthivieclam.vn/viec-lam/nhan-vien-k...</td>\n",
       "      <td>NHÂN VIÊN KINH DOANH(Mã:CV2015-0941)</td>\n",
       "      <td>\\nThoả thuận\\n</td>\n",
       "      <td>\\nKhông yêu cầu\\n</td>\n",
       "      <td>trung học phổ thông</td>\n",
       "      <td>\\n0\\n(10 nam)\\n</td>\n",
       "      <td>[Kinh doanh, Tiếp thị, Bán hàng]</td>\n",
       "      <td>\\nNơi làm việc:\\nQuận 7\\n</td>\n",
       "      <td>\\nNhân viên\\n</td>\n",
       "      <td>\\nNhân viên kinh doanh các mặt hàng thực phẩm ...</td>\n",
       "      <td>\\nPhúc lợi\\nThỏa thuận\\n</td>\n",
       "      <td>\\nTốt nghiệp Cao Đẳng trở lên. Nhanh nhẹn, hoạ...</td>\n",
       "      <td>sieuthivieclam</td>\n",
       "      <td>vi</td>\n",
       "      <td>blue</td>\n",
       "      <td>[Tốt nghiệp Cao Đẳng trở lên. Nhanh nhẹn, hoạt...</td>\n",
       "      <td>[tốt nghiệp cao đẳng trở lên nhanh nhẹn hoạt b...</td>\n",
       "      <td>[tốt nghiệp, cao đẳng, trở lên, nhanh nhẹn, ho...</td>\n",
       "      <td>[tốt_nghiệp, cao_đẳng, trở_lên, nhanh_nhẹn, ho...</td>\n",
       "    </tr>\n",
       "  </tbody>\n",
       "</table>\n",
       "<p>90997 rows × 19 columns</p>\n",
       "</div>"
      ],
      "text/plain": [
       "                                                     url  \\\n",
       "0      https://vieclam24h.vn/nhan-vien-kinh-doanh/nha...   \n",
       "1      https://vieclam24h.vn/ban-hang/nhan-vien-ban-h...   \n",
       "2      https://vieclam24h.vn/dich-vu/shopee-nhan-vien...   \n",
       "3      https://vieclam24h.vn/ban-hang/nhan-vien-tu-va...   \n",
       "4      https://vieclam24h.vn/khach-san-nha-hang/nhan-...   \n",
       "...                                                  ...   \n",
       "90992  https://sieuthivieclam.vn/viec-lam/nhan-vien-k...   \n",
       "90993  https://sieuthivieclam.vn/viec-lam/giup-viec-n...   \n",
       "90994  https://sieuthivieclam.vn/viec-lam/phu-bep-CV2...   \n",
       "90995  https://sieuthivieclam.vn/viec-lam/cong-nhan-m...   \n",
       "90996  https://sieuthivieclam.vn/viec-lam/nhan-vien-k...   \n",
       "\n",
       "                                                   title            salary  \\\n",
       "0      Nhân Viên Kinh Doanh Lĩnh Vực Chuyển Phát Nhan...     10 - 40 triệu   \n",
       "1      Nhân Viên Bán Hàng Tại Showroom Thu Nhập Trên ...     15 - 20 triệu   \n",
       "2                 Shopee - Nhân Viên Chăm Sóc Khách Hàng       5 - 7 triệu   \n",
       "3                       Nhân Viên Tư Vấn Bán Hàng Hà Nội      7 - 10 triệu   \n",
       "4      Nhân Viên Lễ Tân Tòa Nhà Chung Cư - Q.4, Q.Bìn...      7 - 10 triệu   \n",
       "...                                                  ...               ...   \n",
       "90992              NHÂN VIÊN KINH DOANH(Mã:CV2015-0946)   \\n4.000.000VNĐ\\n   \n",
       "90993          GIÚP VIỆC NHÀ( BAO ĂN Ở)(Mã:CV2015-0945)   \\n3.500.000VNĐ\\n   \n",
       "90994                           PHỤ BẾP(Mã:CV2015-0944)   \\n4.000.000VNĐ\\n   \n",
       "90995                CÔNG NHÂN MAY MẪU*(Mã:CV2015-0943)   \\n5.000.000VNĐ\\n   \n",
       "90996              NHÂN VIÊN KINH DOANH(Mã:CV2015-0941)     \\nThoả thuận\\n   \n",
       "\n",
       "                experiment               degree         so_luong  \\\n",
       "0      Chưa có kinh nghiệm             cao đẳng              5.0   \n",
       "1               Dưới 1 năm            trung cấp              3.0   \n",
       "2               Dưới 1 năm            trung học             15.0   \n",
       "3                    1 năm            trung cấp             10.0   \n",
       "4               Dưới 1 năm            trung cấp              8.0   \n",
       "...                    ...                  ...              ...   \n",
       "90992    \\nKhông yêu cầu\\n             cao đẳng           \\n10\\n   \n",
       "90993    \\nKhông yêu cầu\\n   lao động phổ thông    \\n0\\n(1 nữ)\\n   \n",
       "90994    \\nKhông yêu cầu\\n   lao động phổ thông    \\n0\\n(5 nữ)\\n   \n",
       "90995    \\nKhông yêu cầu\\n   lao động phổ thông           \\n10\\n   \n",
       "90996    \\nKhông yêu cầu\\n  trung học phổ thông  \\n0\\n(10 nam)\\n   \n",
       "\n",
       "                                                industry  \\\n",
       "0      [Quản trị kinh doanh, Ngoại thương , Xuất nhập...   \n",
       "1               [Bán hàng, Nhân viên kinh doanh, Tư vấn]   \n",
       "2                  [Dịch vụ, Thương mại điện tử, Tư vấn]   \n",
       "3           [Bán hàng, Nhân viên kinh doanh, Thời trang]   \n",
       "4      [Khách sạn , Nhà hàng, Hành chính , Văn phòng,...   \n",
       "...                                                  ...   \n",
       "90992                   [Kinh doanh, Tiếp thị, Bán hàng]   \n",
       "90993        [Lao động phổ thông, Tạp vụ, Giúp việc nhà]   \n",
       "90994             [Du lịch nhà hàng, Khách sạn, Ăn uống]   \n",
       "90995                                [Dệt, May, Da giày]   \n",
       "90996                   [Kinh doanh, Tiếp thị, Bán hàng]   \n",
       "\n",
       "                                location                   level  \\\n",
       "0                                 Hà Nội  Chuyên viên- nhân viên   \n",
       "1                                 Hà Nội  Chuyên viên- nhân viên   \n",
       "2                                 TP.HCM  Chuyên viên- nhân viên   \n",
       "3                                 Hà Nội  Chuyên viên- nhân viên   \n",
       "4                          TP.HCMLong An  Chuyên viên- nhân viên   \n",
       "...                                  ...                     ...   \n",
       "90992   \\nNơi làm việc:\\nQuận Tân Bình\\n           \\nNhân viên\\n   \n",
       "90993         \\nNơi làm việc:\\nQuận 12\\n           \\nNhân viên\\n   \n",
       "90994  \\nNơi làm việc:\\nQuận Phú nhuận\\n           \\nNhân viên\\n   \n",
       "90995  \\nNơi làm việc:\\nQuận Phú nhuận\\n           \\nNhân viên\\n   \n",
       "90996          \\nNơi làm việc:\\nQuận 7\\n           \\nNhân viên\\n   \n",
       "\n",
       "                                                      jd  \\\n",
       "0      - Chủ động tìm kiếm thông tin khách hàng mới, ...   \n",
       "1      - Làm việc tại Showroom BigC The Garden, Mễ...   \n",
       "2      MÔ TẢ CÔNG VIỆC- Tiếp nhận và giải đáp thắc mắ...   \n",
       "3      - Tư vấn, giới thiệu và bán sản phẩm Vàng, Bạc...   \n",
       "4      1. Công tác lễ tân:- Đón tiếp khách, trực điện...   \n",
       "...                                                  ...   \n",
       "90992  \\nNhân viên kinh doanh làm việc trong ngành đi...   \n",
       "90993  \\nDọn dẹp văn phòng,nấu ăn cho 6 người, đưa đó...   \n",
       "90994  \\nPhụ bếp làm việc cho quán ăn bán đặc sản miề...   \n",
       "90995  \\nCông nhân may mẫu các sản phẩm túi xách, bóp...   \n",
       "90996  \\nNhân viên kinh doanh các mặt hàng thực phẩm ...   \n",
       "\n",
       "                                                 benefit  \\\n",
       "0      - Lương cứng 5 triệu + hoa hồng => Thu nhập từ...   \n",
       "1      - Thu nhập: Từ 15-30 Triệu / Tháng- Lương thử ...   \n",
       "2      - Thu nhập: Lương cứng: 6.300.000VND/tháng + t...   \n",
       "3      - Thu nhập từ 6 - 9 triệu / tháng;- Hỗ trợ tiề...   \n",
       "4      1. Thu nhập: Xứng đáng theo năng lực thực tế2....   \n",
       "...                                                  ...   \n",
       "90992        \\nPhụ cấp\\nhoa hồng\\nPhúc lợi\\nThỏa thuận\\n   \n",
       "90993       \\nPhụ cấp\\nbao ăn ở.\\nPhúc lợi\\nThỏa thuận\\n   \n",
       "90994    \\nPhụ cấp\\nbao ăn 2 bữa\\nPhúc lợi\\nThỏa thuận\\n   \n",
       "90995  \\nPhụ cấp\\nđến 7.000.000 VND/tháng\\nPhúc lợi\\n...   \n",
       "90996                           \\nPhúc lợi\\nThỏa thuận\\n   \n",
       "\n",
       "                                             requirement          source  \\\n",
       "0      - Ưu tiên có kinh nghiệm làm trong lĩnh vực gi...      vieclam24h   \n",
       "1      - Có kinh nghiệm về bán hàng, yêu thích bán hà...      vieclam24h   \n",
       "2      - Tốt nghiệp THPT trở lên.- Tuổi từ 18 đến 32....      vieclam24h   \n",
       "3      - Nam / Nữ, sức khỏe tốt, ngoại hình cân đối, ...      vieclam24h   \n",
       "4      - Tốt nghiệp Trung cấp, Cao đẳng trở lên;- Có ...      vieclam24h   \n",
       "...                                                  ...             ...   \n",
       "90992  \\nTốt nghiệp Cao Đẳng trở lên. Thành thạo vi t...  sieuthivieclam   \n",
       "90993                        \\nThật thà, sức khỏe tốt.\\n  sieuthivieclam   \n",
       "90994  \\nCó sức khỏe tốt, biết nấu ăn cơ bản. Ưu tiên...  sieuthivieclam   \n",
       "90995  \\nCó kinh nghiệm, ưu tiên biết điều chỉnh máy ...  sieuthivieclam   \n",
       "90996  \\nTốt nghiệp Cao Đẳng trở lên. Nhanh nhẹn, hoạ...  sieuthivieclam   \n",
       "\n",
       "      language blue_or_white  \\\n",
       "0           vi         white   \n",
       "1           vi          blue   \n",
       "2           vi          blue   \n",
       "3           vi          blue   \n",
       "4           vi          blue   \n",
       "...        ...           ...   \n",
       "90992       vi         white   \n",
       "90993       vi          blue   \n",
       "90994       vi          blue   \n",
       "90995       vi          blue   \n",
       "90996       vi          blue   \n",
       "\n",
       "                                        requirement_list  \\\n",
       "0      [Ưu tiên có kinh nghiệm làm trong lĩnh vực gia...   \n",
       "1      [Có kinh nghiệm về bán hàng, yêu thích bán hàn...   \n",
       "2      [Tốt nghiệp THPT trở lên., Tuổi từ 18 đến 32.,...   \n",
       "3      [Nam / Nữ, sức khỏe tốt, ngoại hình cân đối, ư...   \n",
       "4      [Tốt nghiệp Trung cấp, Cao đẳng trở lên;, Có k...   \n",
       "...                                                  ...   \n",
       "90992  [Tốt nghiệp Cao Đẳng trở lên. Thành thạo vi tí...   \n",
       "90993                          [Thật thà, sức khỏe tốt.]   \n",
       "90994  [Có sức khỏe tốt, biết nấu ăn cơ bản. Ưu tiên ...   \n",
       "90995  [Có kinh nghiệm, ưu tiên biết điều chỉnh máy m...   \n",
       "90996  [Tốt nghiệp Cao Đẳng trở lên. Nhanh nhẹn, hoạt...   \n",
       "\n",
       "                                requirement_list_cleaned  \\\n",
       "0      [ưu tiên có kinh nghiệm làm trong lĩnh vực gia...   \n",
       "1      [có kinh nghiệm về bán hàng yêu thích bán hàng...   \n",
       "2      [tốt nghiệp thpt trở lên, tuổi từ đến, tối thi...   \n",
       "3      [nam nữ sức khỏe tốt ngoại hình cân đối ưa nhì...   \n",
       "4      [tốt nghiệp trung cấp cao đẳng trở lên, có kin...   \n",
       "...                                                  ...   \n",
       "90992  [tốt nghiệp cao đẳng trở lên thành thạo vi tín...   \n",
       "90993                            [thật thà sức khỏe tốt]   \n",
       "90994  [có sức khỏe tốt biết nấu ăn cơ bản ưu tiên ng...   \n",
       "90995  [có kinh nghiệm ưu tiên biết điều chỉnh máy ma...   \n",
       "90996  [tốt nghiệp cao đẳng trở lên nhanh nhẹn hoạt b...   \n",
       "\n",
       "                                   tokenized_requirement  \\\n",
       "0      [ưu tiên, có, kinh nghiệm, làm, trong, lĩnh vự...   \n",
       "1      [có, kinh nghiệm, về, bán, hàng, yêu thích, bá...   \n",
       "2      [tốt nghiệp, thpt, trở, lên, tuổi, từ, đến, tố...   \n",
       "3      [nam nữ, sức khỏe, tốt, ngoại hình, cân đối, ư...   \n",
       "4      [tốt nghiệp, trung cấp, cao đẳng, trở, lên, có...   \n",
       "...                                                  ...   \n",
       "90992  [tốt nghiệp, cao đẳng, trở lên, thành thạo, vi...   \n",
       "90993                          [thật thà, sức khỏe, tốt]   \n",
       "90994  [có, sức khỏe, tốt, biết, nấu ăn, cơ bản, ưu t...   \n",
       "90995  [có, kinh nghiệm, ưu tiên, biết, điều chỉnh, m...   \n",
       "90996  [tốt nghiệp, cao đẳng, trở lên, nhanh nhẹn, ho...   \n",
       "\n",
       "                                 tokenized_requirement_2  \n",
       "0      [ưu_tiên, có, kinh_nghiệm, làm, trong, lĩnh_vự...  \n",
       "1      [có, kinh_nghiệm, về, bán, hàng, yêu_thích, bá...  \n",
       "2      [tốt_nghiệp, thpt, trở, lên, tuổi, từ, đến, tố...  \n",
       "3      [nam_nữ, sức_khỏe, tốt, ngoại_hình, cân_đối, ư...  \n",
       "4      [tốt_nghiệp, trung_cấp, cao_đẳng, trở, lên, có...  \n",
       "...                                                  ...  \n",
       "90992  [tốt_nghiệp, cao_đẳng, trở_lên, thành_thạo, vi...  \n",
       "90993                          [thật_thà, sức_khỏe, tốt]  \n",
       "90994  [có, sức_khỏe, tốt, biết, nấu_ăn, cơ_bản, ưu_t...  \n",
       "90995  [có, kinh_nghiệm, ưu_tiên, biết, điều_chỉnh, m...  \n",
       "90996  [tốt_nghiệp, cao_đẳng, trở_lên, nhanh_nhẹn, ho...  \n",
       "\n",
       "[90997 rows x 19 columns]"
      ]
     },
     "execution_count": 34,
     "metadata": {},
     "output_type": "execute_result"
    }
   ],
   "source": [
    "df"
   ]
  },
  {
   "cell_type": "code",
   "execution_count": 73,
   "metadata": {},
   "outputs": [
    {
     "data": {
      "text/plain": [
       "(3916, 19)"
      ]
     },
     "execution_count": 73,
     "metadata": {},
     "output_type": "execute_result"
    }
   ],
   "source": [
    "df_tmp = df[df['industry'].str.contains('Cơ khí', regex=False)]\n",
    "df_tmp.shape\n"
   ]
  },
  {
   "cell_type": "code",
   "execution_count": 74,
   "metadata": {},
   "outputs": [
    {
     "data": {
      "text/plain": [
       "white    2890\n",
       "blue     1026\n",
       "Name: blue_or_white, dtype: int64"
      ]
     },
     "execution_count": 74,
     "metadata": {},
     "output_type": "execute_result"
    }
   ],
   "source": [
    "df_tmp['blue_or_white'].value_counts()"
   ]
  },
  {
   "cell_type": "code",
   "execution_count": 87,
   "metadata": {},
   "outputs": [],
   "source": [
    "# df_tmp.loc[df_tmp['blue_or_white']=='blue', 'tokenized_requirement_2']\n",
    "\n",
    "querydf = df_tmp.loc[df_tmp.blue_or_white == 'white']\n",
    "querydf = querydf[~querydf['tokenized_requirement_2'].isnull()]\n",
    "# querydf = df\n",
    "\n",
    "keywords = list(itertools.chain(*querydf.loc[:,'tokenized_requirement_2']))\n",
    "counts = Counter(keywords)\n",
    "\n",
    "counts_df_ = pd.DataFrame.from_dict(counts, orient='index').reset_index()\n",
    "counts_df_.columns = ['word','count']\n",
    "\n",
    "counts_df_ = counts_df_.sort_values('count',ascending=False).reset_index(drop=True).iloc[:60,:]"
   ]
  },
  {
   "cell_type": "code",
   "execution_count": 88,
   "metadata": {},
   "outputs": [
    {
     "data": {
      "text/html": [
       "<div>\n",
       "<style scoped>\n",
       "    .dataframe tbody tr th:only-of-type {\n",
       "        vertical-align: middle;\n",
       "    }\n",
       "\n",
       "    .dataframe tbody tr th {\n",
       "        vertical-align: top;\n",
       "    }\n",
       "\n",
       "    .dataframe thead th {\n",
       "        text-align: right;\n",
       "    }\n",
       "</style>\n",
       "<table border=\"1\" class=\"dataframe\">\n",
       "  <thead>\n",
       "    <tr style=\"text-align: right;\">\n",
       "      <th></th>\n",
       "      <th>word</th>\n",
       "      <th>count</th>\n",
       "    </tr>\n",
       "  </thead>\n",
       "  <tbody>\n",
       "    <tr>\n",
       "      <th>0</th>\n",
       "      <td>có</td>\n",
       "      <td>4655</td>\n",
       "    </tr>\n",
       "    <tr>\n",
       "      <th>1</th>\n",
       "      <td>các</td>\n",
       "      <td>3137</td>\n",
       "    </tr>\n",
       "    <tr>\n",
       "      <th>2</th>\n",
       "      <td>và</td>\n",
       "      <td>2853</td>\n",
       "    </tr>\n",
       "    <tr>\n",
       "      <th>3</th>\n",
       "      <td>kinh_nghiệm</td>\n",
       "      <td>2493</td>\n",
       "    </tr>\n",
       "    <tr>\n",
       "      <th>4</th>\n",
       "      <td>làm_việc</td>\n",
       "      <td>2093</td>\n",
       "    </tr>\n",
       "    <tr>\n",
       "      <th>5</th>\n",
       "      <td>năm</td>\n",
       "      <td>1770</td>\n",
       "    </tr>\n",
       "    <tr>\n",
       "      <th>6</th>\n",
       "      <td>tốt_nghiệp</td>\n",
       "      <td>1757</td>\n",
       "    </tr>\n",
       "    <tr>\n",
       "      <th>7</th>\n",
       "      <td>trong</td>\n",
       "      <td>1673</td>\n",
       "    </tr>\n",
       "    <tr>\n",
       "      <th>8</th>\n",
       "      <td>chuyên_ngành</td>\n",
       "      <td>1468</td>\n",
       "    </tr>\n",
       "    <tr>\n",
       "      <th>9</th>\n",
       "      <td>cơ_khí</td>\n",
       "      <td>1432</td>\n",
       "    </tr>\n",
       "    <tr>\n",
       "      <th>10</th>\n",
       "      <td>về</td>\n",
       "      <td>1402</td>\n",
       "    </tr>\n",
       "    <tr>\n",
       "      <th>11</th>\n",
       "      <td>công_việc</td>\n",
       "      <td>1362</td>\n",
       "    </tr>\n",
       "    <tr>\n",
       "      <th>12</th>\n",
       "      <td>tốt</td>\n",
       "      <td>1308</td>\n",
       "    </tr>\n",
       "    <tr>\n",
       "      <th>13</th>\n",
       "      <td>được</td>\n",
       "      <td>1230</td>\n",
       "    </tr>\n",
       "    <tr>\n",
       "      <th>14</th>\n",
       "      <td>kỹ_thuật</td>\n",
       "      <td>1189</td>\n",
       "    </tr>\n",
       "    <tr>\n",
       "      <th>15</th>\n",
       "      <td>kỹ_năng</td>\n",
       "      <td>1175</td>\n",
       "    </tr>\n",
       "    <tr>\n",
       "      <th>16</th>\n",
       "      <td>ưu_tiên</td>\n",
       "      <td>1155</td>\n",
       "    </tr>\n",
       "    <tr>\n",
       "      <th>17</th>\n",
       "      <td>khả_năng</td>\n",
       "      <td>1150</td>\n",
       "    </tr>\n",
       "    <tr>\n",
       "      <th>18</th>\n",
       "      <td>điện</td>\n",
       "      <td>1149</td>\n",
       "    </tr>\n",
       "    <tr>\n",
       "      <th>19</th>\n",
       "      <td>theo</td>\n",
       "      <td>1140</td>\n",
       "    </tr>\n",
       "    <tr>\n",
       "      <th>20</th>\n",
       "      <td>tiếng</td>\n",
       "      <td>1041</td>\n",
       "    </tr>\n",
       "    <tr>\n",
       "      <th>21</th>\n",
       "      <td>hoặc</td>\n",
       "      <td>1012</td>\n",
       "    </tr>\n",
       "    <tr>\n",
       "      <th>22</th>\n",
       "      <td>đại_học</td>\n",
       "      <td>951</td>\n",
       "    </tr>\n",
       "    <tr>\n",
       "      <th>23</th>\n",
       "      <td>từ</td>\n",
       "      <td>942</td>\n",
       "    </tr>\n",
       "    <tr>\n",
       "      <th>24</th>\n",
       "      <td>sử_dụng</td>\n",
       "      <td>877</td>\n",
       "    </tr>\n",
       "    <tr>\n",
       "      <th>25</th>\n",
       "      <td>công_ty</td>\n",
       "      <td>859</td>\n",
       "    </tr>\n",
       "    <tr>\n",
       "      <th>26</th>\n",
       "      <td>cao_đẳng</td>\n",
       "      <td>814</td>\n",
       "    </tr>\n",
       "    <tr>\n",
       "      <th>27</th>\n",
       "      <td>anh</td>\n",
       "      <td>797</td>\n",
       "    </tr>\n",
       "    <tr>\n",
       "      <th>28</th>\n",
       "      <td>ứng_viên</td>\n",
       "      <td>782</td>\n",
       "    </tr>\n",
       "    <tr>\n",
       "      <th>29</th>\n",
       "      <td>giao_tiếp</td>\n",
       "      <td>767</td>\n",
       "    </tr>\n",
       "    <tr>\n",
       "      <th>30</th>\n",
       "      <td>của</td>\n",
       "      <td>707</td>\n",
       "    </tr>\n",
       "    <tr>\n",
       "      <th>31</th>\n",
       "      <td>ngành</td>\n",
       "      <td>647</td>\n",
       "    </tr>\n",
       "    <tr>\n",
       "      <th>32</th>\n",
       "      <td>liên_quan</td>\n",
       "      <td>642</td>\n",
       "    </tr>\n",
       "    <tr>\n",
       "      <th>33</th>\n",
       "      <td>phần_mềm</td>\n",
       "      <td>622</td>\n",
       "    </tr>\n",
       "    <tr>\n",
       "      <th>34</th>\n",
       "      <td>trở</td>\n",
       "      <td>618</td>\n",
       "    </tr>\n",
       "    <tr>\n",
       "      <th>35</th>\n",
       "      <td>lên</td>\n",
       "      <td>613</td>\n",
       "    </tr>\n",
       "    <tr>\n",
       "      <th>36</th>\n",
       "      <td>thành_thạo</td>\n",
       "      <td>603</td>\n",
       "    </tr>\n",
       "    <tr>\n",
       "      <th>37</th>\n",
       "      <td>trở_lên</td>\n",
       "      <td>595</td>\n",
       "    </tr>\n",
       "    <tr>\n",
       "      <th>38</th>\n",
       "      <td>tại</td>\n",
       "      <td>594</td>\n",
       "    </tr>\n",
       "    <tr>\n",
       "      <th>39</th>\n",
       "      <td>lương</td>\n",
       "      <td>591</td>\n",
       "    </tr>\n",
       "    <tr>\n",
       "      <th>40</th>\n",
       "      <td>yêu_cầu</td>\n",
       "      <td>587</td>\n",
       "    </tr>\n",
       "    <tr>\n",
       "      <th>41</th>\n",
       "      <td>cao</td>\n",
       "      <td>582</td>\n",
       "    </tr>\n",
       "    <tr>\n",
       "      <th>42</th>\n",
       "      <td>biết</td>\n",
       "      <td>582</td>\n",
       "    </tr>\n",
       "    <tr>\n",
       "      <th>43</th>\n",
       "      <td>tuổi</td>\n",
       "      <td>582</td>\n",
       "    </tr>\n",
       "    <tr>\n",
       "      <th>44</th>\n",
       "      <td>nam</td>\n",
       "      <td>563</td>\n",
       "    </tr>\n",
       "    <tr>\n",
       "      <th>45</th>\n",
       "      <td>thiết_kế</td>\n",
       "      <td>556</td>\n",
       "    </tr>\n",
       "    <tr>\n",
       "      <th>46</th>\n",
       "      <td>với</td>\n",
       "      <td>544</td>\n",
       "    </tr>\n",
       "    <tr>\n",
       "      <th>47</th>\n",
       "      <td>quản_lý</td>\n",
       "      <td>529</td>\n",
       "    </tr>\n",
       "    <tr>\n",
       "      <th>48</th>\n",
       "      <td>trung_cấp</td>\n",
       "      <td>524</td>\n",
       "    </tr>\n",
       "    <tr>\n",
       "      <th>49</th>\n",
       "      <td>vị_trí</td>\n",
       "      <td>520</td>\n",
       "    </tr>\n",
       "    <tr>\n",
       "      <th>50</th>\n",
       "      <td>máy</td>\n",
       "      <td>513</td>\n",
       "    </tr>\n",
       "    <tr>\n",
       "      <th>51</th>\n",
       "      <td>ở</td>\n",
       "      <td>508</td>\n",
       "    </tr>\n",
       "    <tr>\n",
       "      <th>52</th>\n",
       "      <td>đọc</td>\n",
       "      <td>493</td>\n",
       "    </tr>\n",
       "    <tr>\n",
       "      <th>53</th>\n",
       "      <td>nhóm</td>\n",
       "      <td>489</td>\n",
       "    </tr>\n",
       "    <tr>\n",
       "      <th>54</th>\n",
       "      <td>trách_nhiệm</td>\n",
       "      <td>478</td>\n",
       "    </tr>\n",
       "    <tr>\n",
       "      <th>55</th>\n",
       "      <td>văn_phòng</td>\n",
       "      <td>474</td>\n",
       "    </tr>\n",
       "    <tr>\n",
       "      <th>56</th>\n",
       "      <td>trình_độ</td>\n",
       "      <td>470</td>\n",
       "    </tr>\n",
       "    <tr>\n",
       "      <th>57</th>\n",
       "      <td>đi</td>\n",
       "      <td>463</td>\n",
       "    </tr>\n",
       "    <tr>\n",
       "      <th>58</th>\n",
       "      <td>điện_tử</td>\n",
       "      <td>461</td>\n",
       "    </tr>\n",
       "    <tr>\n",
       "      <th>59</th>\n",
       "      <td>sức_khỏe</td>\n",
       "      <td>439</td>\n",
       "    </tr>\n",
       "  </tbody>\n",
       "</table>\n",
       "</div>"
      ],
      "text/plain": [
       "            word  count\n",
       "0             có   4655\n",
       "1            các   3137\n",
       "2             và   2853\n",
       "3    kinh_nghiệm   2493\n",
       "4       làm_việc   2093\n",
       "5            năm   1770\n",
       "6     tốt_nghiệp   1757\n",
       "7          trong   1673\n",
       "8   chuyên_ngành   1468\n",
       "9         cơ_khí   1432\n",
       "10            về   1402\n",
       "11     công_việc   1362\n",
       "12           tốt   1308\n",
       "13          được   1230\n",
       "14      kỹ_thuật   1189\n",
       "15       kỹ_năng   1175\n",
       "16       ưu_tiên   1155\n",
       "17      khả_năng   1150\n",
       "18          điện   1149\n",
       "19          theo   1140\n",
       "20         tiếng   1041\n",
       "21          hoặc   1012\n",
       "22       đại_học    951\n",
       "23            từ    942\n",
       "24       sử_dụng    877\n",
       "25       công_ty    859\n",
       "26      cao_đẳng    814\n",
       "27           anh    797\n",
       "28      ứng_viên    782\n",
       "29     giao_tiếp    767\n",
       "30           của    707\n",
       "31         ngành    647\n",
       "32     liên_quan    642\n",
       "33      phần_mềm    622\n",
       "34           trở    618\n",
       "35           lên    613\n",
       "36    thành_thạo    603\n",
       "37       trở_lên    595\n",
       "38           tại    594\n",
       "39         lương    591\n",
       "40       yêu_cầu    587\n",
       "41           cao    582\n",
       "42          biết    582\n",
       "43          tuổi    582\n",
       "44           nam    563\n",
       "45      thiết_kế    556\n",
       "46           với    544\n",
       "47       quản_lý    529\n",
       "48     trung_cấp    524\n",
       "49        vị_trí    520\n",
       "50           máy    513\n",
       "51             ở    508\n",
       "52           đọc    493\n",
       "53          nhóm    489\n",
       "54   trách_nhiệm    478\n",
       "55     văn_phòng    474\n",
       "56      trình_độ    470\n",
       "57            đi    463\n",
       "58       điện_tử    461\n",
       "59      sức_khỏe    439"
      ]
     },
     "execution_count": 88,
     "metadata": {},
     "output_type": "execute_result"
    }
   ],
   "source": [
    "counts_df_"
   ]
  },
  {
   "cell_type": "code",
   "execution_count": 86,
   "metadata": {},
   "outputs": [
    {
     "data": {
      "text/plain": [
       "'Trình độ: Từ trung cấp trở lên\\n.Kinh nghiệm: Không yêu cầu kinh nghiệm (sẽ được đào taHam học hỏi, có mong muốn nâng cao kỹ năng, trình độ của bản thân.\\nCó tư cách đạo đức tốt, làm việc nghiêm túc, trách nhiệm, chăm chỉ, có sức khỏe tốt\\n.Biết vẽ AutoCad là một lợi thếCó kinh nghiệm, kỹ năng trong kỹ thuật, điện, điện tử, nước dân dụng, biết sử dụng các công cụ kỹ thuật điện và nước dân dụng cơ bản là một lợi thế'"
      ]
     },
     "execution_count": 86,
     "metadata": {},
     "output_type": "execute_result"
    }
   ],
   "source": [
    "from operator import itemgetter "
   ]
  },
  {
   "cell_type": "code",
   "execution_count": 113,
   "metadata": {},
   "outputs": [],
   "source": [
    "df_tmp = df[df['industry'].str.contains('Cơ khí', regex=False)]\n",
    "\n",
    "querydf = df_tmp.loc[df_tmp.blue_or_white == 'blue']\n",
    "querydf = querydf[~querydf['tokenized_requirement_2'].isnull()]\n",
    "\n",
    "keywords = list(itertools.chain(*querydf.loc[:,'tokenized_requirement_2']))\n",
    "\n",
    "indexes = [i for i,x in enumerate(keywords) if x == 'thành_thạo']\n",
    "indexes = [x+1 for x in indexes]\n",
    "\n",
    "\n",
    "keywords2 = itemgetter(*indexes)(keywords)\n",
    "counts = Counter(keywords2)\n",
    "counts_df_ = pd.DataFrame.from_dict(counts, orient='index').reset_index()\n",
    "counts_df_.columns = ['word','count']\n",
    "\n",
    "counts_df_ = counts_df_.sort_values('count',ascending=False).reset_index(drop=True).iloc[:30,:]"
   ]
  },
  {
   "cell_type": "code",
   "execution_count": 114,
   "metadata": {},
   "outputs": [
    {
     "data": {
      "text/html": [
       "<div>\n",
       "<style scoped>\n",
       "    .dataframe tbody tr th:only-of-type {\n",
       "        vertical-align: middle;\n",
       "    }\n",
       "\n",
       "    .dataframe tbody tr th {\n",
       "        vertical-align: top;\n",
       "    }\n",
       "\n",
       "    .dataframe thead th {\n",
       "        text-align: right;\n",
       "    }\n",
       "</style>\n",
       "<table border=\"1\" class=\"dataframe\">\n",
       "  <thead>\n",
       "    <tr style=\"text-align: right;\">\n",
       "      <th></th>\n",
       "      <th>word</th>\n",
       "      <th>count</th>\n",
       "    </tr>\n",
       "  </thead>\n",
       "  <tbody>\n",
       "    <tr>\n",
       "      <th>0</th>\n",
       "      <td>vi_tính</td>\n",
       "      <td>9</td>\n",
       "    </tr>\n",
       "    <tr>\n",
       "      <th>1</th>\n",
       "      <td>các</td>\n",
       "      <td>5</td>\n",
       "    </tr>\n",
       "    <tr>\n",
       "      <th>2</th>\n",
       "      <td>word</td>\n",
       "      <td>2</td>\n",
       "    </tr>\n",
       "    <tr>\n",
       "      <th>3</th>\n",
       "      <td>trong</td>\n",
       "      <td>1</td>\n",
       "    </tr>\n",
       "    <tr>\n",
       "      <th>4</th>\n",
       "      <td>trung_thực</td>\n",
       "      <td>1</td>\n",
       "    </tr>\n",
       "    <tr>\n",
       "      <th>5</th>\n",
       "      <td>lành_nghề</td>\n",
       "      <td>1</td>\n",
       "    </tr>\n",
       "    <tr>\n",
       "      <th>6</th>\n",
       "      <td>bản_vẽ</td>\n",
       "      <td>1</td>\n",
       "    </tr>\n",
       "    <tr>\n",
       "      <th>7</th>\n",
       "      <td>adobe</td>\n",
       "      <td>1</td>\n",
       "    </tr>\n",
       "    <tr>\n",
       "      <th>8</th>\n",
       "      <td>công_cụ</td>\n",
       "      <td>1</td>\n",
       "    </tr>\n",
       "    <tr>\n",
       "      <th>9</th>\n",
       "      <td>autocard</td>\n",
       "      <td>1</td>\n",
       "    </tr>\n",
       "    <tr>\n",
       "      <th>10</th>\n",
       "      <td>autocad</td>\n",
       "      <td>1</td>\n",
       "    </tr>\n",
       "    <tr>\n",
       "      <th>11</th>\n",
       "      <td>phần_mềm</td>\n",
       "      <td>1</td>\n",
       "    </tr>\n",
       "  </tbody>\n",
       "</table>\n",
       "</div>"
      ],
      "text/plain": [
       "          word  count\n",
       "0      vi_tính      9\n",
       "1          các      5\n",
       "2         word      2\n",
       "3        trong      1\n",
       "4   trung_thực      1\n",
       "5    lành_nghề      1\n",
       "6       bản_vẽ      1\n",
       "7        adobe      1\n",
       "8      công_cụ      1\n",
       "9     autocard      1\n",
       "10     autocad      1\n",
       "11    phần_mềm      1"
      ]
     },
     "execution_count": 114,
     "metadata": {},
     "output_type": "execute_result"
    }
   ],
   "source": [
    "counts_df_"
   ]
  },
  {
   "cell_type": "code",
   "execution_count": null,
   "metadata": {},
   "outputs": [],
   "source": [
    "date_object = datetime.date.today()\n",
    "df.to_csv(f'aggregated-{date_object}.csv', index=False)\n",
    "\n",
    "df.to_hdf(f'aggregated-{date_object}.h5', key='df', mode='w')\n",
    "\n",
    "d = pd.read_hdf('data.h5', 'df')"
   ]
  }
 ],
 "metadata": {
  "interpreter": {
   "hash": "62c7911008f581440d9d286d9125473e755305b7df66323a10d1fb2a51e451f8"
  },
  "kernelspec": {
   "display_name": "Python 3.9.7 64-bit ('te': conda)",
   "name": "python3"
  },
  "language_info": {
   "codemirror_mode": {
    "name": "ipython",
    "version": 3
   },
   "file_extension": ".py",
   "mimetype": "text/x-python",
   "name": "python",
   "nbconvert_exporter": "python",
   "pygments_lexer": "ipython3",
   "version": "3.8.12"
  },
  "orig_nbformat": 4
 },
 "nbformat": 4,
 "nbformat_minor": 2
}
