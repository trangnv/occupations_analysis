{
 "cells": [
  {
   "cell_type": "code",
   "execution_count": 2,
   "metadata": {},
   "outputs": [],
   "source": [
    "import glob\n",
    "from pathlib import Path\n",
    "import pandas as pd\n",
    "import numpy as np\n",
    "\n",
    "import warnings\n",
    "warnings.filterwarnings('ignore')"
   ]
  },
  {
   "cell_type": "markdown",
   "metadata": {},
   "source": [
    "# Utils"
   ]
  },
  {
   "cell_type": "code",
   "execution_count": 18,
   "metadata": {},
   "outputs": [],
   "source": [
    "def lower_text(text):\n",
    "    return text.lower()\n",
    "def hard_remove_spaces(text):\n",
    "    return \" \".join(text.split())\n",
    "\n",
    "lowerText = lambda x: lower_text(x)\n",
    "hardRemoveSpaces = lambda x: hard_remove_spaces(x)"
   ]
  },
  {
   "cell_type": "markdown",
   "metadata": {},
   "source": [
    "# Aggregate"
   ]
  },
  {
   "cell_type": "code",
   "execution_count": null,
   "metadata": {},
   "outputs": [],
   "source": [
    "file_ = glob.glob(\"../sites_data/*\")[0]\n",
    "df=pd.read_csv(file_,index_col=None)#.drop('Unnamed: 0', 1)\n",
    "df['source'] = Path(file_).stem.split('-')[0]\n",
    "print(Path(file_).stem)\n",
    "\n",
    "for file_ in glob.glob(\"../sites_data/*\")[1:]:\n",
    "    print(Path(file_).stem)\n",
    "    df_file = pd.read_csv(file_,index_col=None)\n",
    "    df_file['source'] = Path(file_).stem.split('-')[0]\n",
    "    df=pd.concat([df,df_file],axis=0).reset_index(drop=True)"
   ]
  },
  {
   "cell_type": "code",
   "execution_count": null,
   "metadata": {},
   "outputs": [],
   "source": [
    "print(df.columns)"
   ]
  },
  {
   "cell_type": "code",
   "execution_count": null,
   "metadata": {},
   "outputs": [],
   "source": [
    "selected_columns = ['url', 'title', 'salary', 'experiment', 'degree', 'so_luong',\n",
    "       'industry', 'location', 'level', 'jd', 'benefit', 'requirement',\n",
    "       'source', ]\n",
    "\n",
    "df = df[selected_columns]\n",
    "\n",
    "print(f'Number of jobs post: {df.shape[0]}')\n",
    "df['source'].value_counts()"
   ]
  },
  {
   "cell_type": "markdown",
   "metadata": {},
   "source": [
    "# Language detect"
   ]
  },
  {
   "cell_type": "code",
   "execution_count": null,
   "metadata": {},
   "outputs": [],
   "source": [
    "df['language'] = pd.Series(0, index=df.index)\n",
    "\n",
    "from langdetect import detect\n",
    "for i in range(df.shape[0]):\n",
    "    # REINITIALIZE THE API\n",
    "    try:        \n",
    "        df['language'][i] = detect(str(df.requirement[i]))\n",
    "    except:\n",
    "        continue\n",
    "    if i%10000==0:         print(i)"
   ]
  },
  {
   "cell_type": "code",
   "execution_count": null,
   "metadata": {},
   "outputs": [],
   "source": [
    "df['language'].value_counts().to_frame()"
   ]
  },
  {
   "cell_type": "markdown",
   "metadata": {},
   "source": [
    "## `vi` and `en`"
   ]
  },
  {
   "cell_type": "code",
   "execution_count": null,
   "metadata": {},
   "outputs": [],
   "source": [
    "df = df.loc[(df.language == 'vi') | (df.language == 'en')].reset_index(drop=True)#.language.value_counts()"
   ]
  },
  {
   "cell_type": "code",
   "execution_count": null,
   "metadata": {},
   "outputs": [],
   "source": [
    "df['source'].value_counts().to_frame()"
   ]
  },
  {
   "cell_type": "code",
   "execution_count": 153,
   "metadata": {},
   "outputs": [
    {
     "data": {
      "text/plain": [
       "jobsGo            18397\n",
       "sieuthivieclam    13964\n",
       "vieclam24h         1102\n",
       "timviecnhanh        980\n",
       "Name: source, dtype: int64"
      ]
     },
     "execution_count": 153,
     "metadata": {},
     "output_type": "execute_result"
    }
   ],
   "source": [
    "df[~df['degree'].isnull()]['source'].value_counts()#.reset_index(drop=True).astype(str)\n"
   ]
  },
  {
   "cell_type": "markdown",
   "metadata": {},
   "source": [
    "# blue_or_white\n",
    "- Clean up degree\n",
    "- Blue:\n",
    "    - Site that blue in nature\n",
    "        - tuyencongnhan\n",
    "    - `degree` is in `blue_degree_list`"
   ]
  },
  {
   "cell_type": "code",
   "execution_count": null,
   "metadata": {},
   "outputs": [],
   "source": [
    "df['blue_or_white'] = 'white'"
   ]
  },
  {
   "cell_type": "markdown",
   "metadata": {},
   "source": [
    "## Site that blue in nature\n",
    "- tuyencongnhan"
   ]
  },
  {
   "cell_type": "code",
   "execution_count": null,
   "metadata": {},
   "outputs": [],
   "source": [
    "df.loc[df.source=='tuyencongnhan','blue_or_white'] = 'blue'"
   ]
  },
  {
   "cell_type": "markdown",
   "metadata": {},
   "source": [
    "## By degree"
   ]
  },
  {
   "cell_type": "markdown",
   "metadata": {},
   "source": [
    "### Clean up degree"
   ]
  },
  {
   "cell_type": "code",
   "execution_count": null,
   "metadata": {},
   "outputs": [],
   "source": [
    "df.loc[~df['degree'].isnull(),'degree'] = df.loc[~df['degree'].isnull(),'degree'].apply(hardRemoveSpaces)\n",
    "df.loc[~df['degree'].isnull(),'degree'] = df.loc[~df['degree'].isnull(),'degree'].apply(lowerText)"
   ]
  },
  {
   "cell_type": "code",
   "execution_count": null,
   "metadata": {},
   "outputs": [],
   "source": [
    "df['degree'].value_counts()\n",
    "# df"
   ]
  },
  {
   "cell_type": "markdown",
   "metadata": {},
   "source": [
    "### Assigning blue tag"
   ]
  },
  {
   "cell_type": "code",
   "execution_count": null,
   "metadata": {},
   "outputs": [],
   "source": [
    "blue_degree_list = ['trung cấp', 'trung học',  'không yêu cầu',\n",
    "                    'chứng chỉ', 'trung học phổ thông','trung cấp - nghề', \n",
    "                    'chứng chỉ chuyên ngành', 'lao động phổ thông', 'chứng chỉ - sơ cấp nghề',\n",
    "                    ]\n",
    "df.loc[df['degree'].isin(blue_degree_list),'blue_or_white'] = 'blue'"
   ]
  },
  {
   "cell_type": "markdown",
   "metadata": {},
   "source": [
    "### English jobs are white"
   ]
  },
  {
   "cell_type": "code",
   "execution_count": null,
   "metadata": {},
   "outputs": [],
   "source": [
    "df.loc[df['blue_or_white']=='blue','language'].value_counts()\n",
    "\n",
    "# df.loc[df.language=='en','blue_or_white'] = 'white'"
   ]
  },
  {
   "cell_type": "markdown",
   "metadata": {},
   "source": [
    "# Clean up requirement"
   ]
  },
  {
   "cell_type": "markdown",
   "metadata": {},
   "source": [
    "### requirement to list of requirements"
   ]
  },
  {
   "cell_type": "code",
   "execution_count": 5,
   "metadata": {},
   "outputs": [],
   "source": [
    "import re\n",
    "def string_to_list(text):\n",
    "    string_list = re.split('\\n|\\t|•|-',text)\n",
    "    string_list = [s.strip() for s in string_list]\n",
    "    # string_list = [s.lower() for s in string_list]\n",
    "    return list(filter(None, string_list))\n",
    "\n",
    "stringToList = lambda x: string_to_list(x)"
   ]
  },
  {
   "cell_type": "code",
   "execution_count": 5,
   "metadata": {},
   "outputs": [],
   "source": [
    "df['requirement_list'] = df.requirement.apply(stringToList)"
   ]
  },
  {
   "cell_type": "markdown",
   "metadata": {},
   "source": [
    "### Clean requirement_list"
   ]
  },
  {
   "cell_type": "code",
   "execution_count": 8,
   "metadata": {},
   "outputs": [],
   "source": [
    "def scrub_words(text):\n",
    "    \"\"\"Basic cleaning of texts.\"\"\"\n",
    "    \n",
    "    # remove html markup\n",
    "    text=re.sub(\"(<.*?>)\",\" \",text)\n",
    "    \n",
    "    #remove non-ascii and digits\n",
    "    text=re.sub(\"(\\\\W|\\\\d)\",\" \",text)\n",
    "    \n",
    "    #remove whitespace\n",
    "    text = \" \".join(text.split())\n",
    "\n",
    "    text = text.lower()\n",
    "\n",
    "    return text\n",
    "\n",
    "def scrub_words_list(text_list):\n",
    "    cleaned_text_list = []\n",
    "    for text in text_list:\n",
    "        cleaned_text_list.append(scrub_words(text))\n",
    "    return list(filter(None, cleaned_text_list))\n",
    "\n",
    "scrubWords = lambda x: scrub_words(x)\n",
    "scrubWordsList = lambda x: scrub_words_list(x)"
   ]
  },
  {
   "cell_type": "code",
   "execution_count": 7,
   "metadata": {},
   "outputs": [],
   "source": [
    "df['requirement_list_cleaned'] = df.requirement_list.apply(scrubWordsList)"
   ]
  },
  {
   "cell_type": "markdown",
   "metadata": {},
   "source": [
    "## Tokenize requirements"
   ]
  },
  {
   "cell_type": "markdown",
   "metadata": {},
   "source": [
    "### Vietnamese"
   ]
  },
  {
   "cell_type": "code",
   "execution_count": 11,
   "metadata": {},
   "outputs": [],
   "source": [
    "from underthesea import word_tokenize #as word_tokenize_vi\n",
    "\n",
    "def word_tokenize_from_text_vi(text):\n",
    "    return word_tokenize(text)\n",
    "\n",
    "def word_tokenize_from_text_vi_2(text):\n",
    "    return word_tokenize(text,format=\"text\").split()\n",
    "\n",
    "def word_tokenize_from_list_vi(list_of_text):\n",
    "    words = []\n",
    "    for text in list_of_text:\n",
    "        words += word_tokenize_from_text_vi(text)\n",
    "    return words\n",
    "\n",
    "def word_tokenize_from_list_vi_2(list_of_text):\n",
    "    words = []\n",
    "    for text in list_of_text:\n",
    "        words+=word_tokenize_from_text_vi_2(text)\n",
    "    return words\n",
    "\n",
    "tokenizeListVi = lambda x:word_tokenize_from_list_vi(x)\n",
    "tokenizeListVi2 = lambda x:word_tokenize_from_list_vi_2(x)"
   ]
  },
  {
   "cell_type": "code",
   "execution_count": 9,
   "metadata": {},
   "outputs": [],
   "source": [
    "df['tokenized_requirement'] = np.NaN"
   ]
  },
  {
   "cell_type": "code",
   "execution_count": 10,
   "metadata": {},
   "outputs": [],
   "source": [
    "df.loc[df.language == 'vi','tokenized_requirement'] = df.loc[df.language == 'vi','requirement_list_cleaned'].apply(tokenizeListVi)"
   ]
  },
  {
   "cell_type": "code",
   "execution_count": 12,
   "metadata": {},
   "outputs": [],
   "source": [
    "df.loc[df.language == 'vi','tokenized_requirement_2'] = df.loc[df.language == 'vi','requirement_list_cleaned'].apply(tokenizeListVi2)"
   ]
  },
  {
   "cell_type": "markdown",
   "metadata": {},
   "source": [
    "### English\n",
    "\n",
    "Now tokenizing English is harsh:\n",
    "- remove step words\n",
    "- stem\n",
    "- so tokenizing basically break string into words\n",
    "May consider other methods"
   ]
  },
  {
   "cell_type": "markdown",
   "metadata": {},
   "source": [
    "#### Clean english a bit more"
   ]
  },
  {
   "cell_type": "code",
   "execution_count": 13,
   "metadata": {},
   "outputs": [],
   "source": [
    "import nltk\n",
    "from nltk.stem import PorterStemmer"
   ]
  },
  {
   "cell_type": "code",
   "execution_count": 14,
   "metadata": {},
   "outputs": [],
   "source": [
    "def remove_stop_from_string(text):\n",
    "    stopwords = nltk.corpus.stopwords.words('english')\n",
    "    return ' '.join([word for word in text.split() if word not in stopwords])\n",
    "    \n",
    "def remove_stop_from_string_for_list(list_of_text):\n",
    "    cleaned_list = []\n",
    "    for text in list_of_text:\n",
    "        cleaned_list.append(remove_stop_from_string(text))\n",
    "    return cleaned_list\n",
    "\n",
    "removeStopforListEn = lambda x: remove_stop_from_string_for_list(x)\n",
    "\n",
    "def porter_stemm(text):\n",
    "    porter_stemmer=PorterStemmer()\n",
    "    stemmed_words=[porter_stemmer.stem(word=word) for word in text.split()]\n",
    "# stemmed_words = set(stemmed_words)\n",
    "    return ' '.join(stemmed_words)\n",
    "\n",
    "def porter_stemm_for_list(list_of_text):\n",
    "    stemmed_list = []\n",
    "    for text in list_of_text:\n",
    "        stemmed_list.append(porter_stemm(text))\n",
    "    return stemmed_list\n",
    "\n",
    "porterStemmingListEn = lambda x:porter_stemm_for_list(x)"
   ]
  },
  {
   "cell_type": "code",
   "execution_count": 15,
   "metadata": {},
   "outputs": [],
   "source": [
    "df.loc[df.language == 'en','requirement_list_cleaned'] = df.loc[df.language == 'en','requirement_list_cleaned'].apply(removeStopforListEn)\n",
    "\n",
    "df.loc[df.language == 'en','requirement_list_cleaned'] = df.loc[df.language == 'en','requirement_list_cleaned'].apply(porterStemmingListEn)"
   ]
  },
  {
   "cell_type": "code",
   "execution_count": 16,
   "metadata": {},
   "outputs": [],
   "source": [
    "from nltk.tokenize import word_tokenize\n",
    "\n",
    "def word_tokenize_from_text_en(text):\n",
    "    return word_tokenize(text)\n",
    "\n",
    "def word_tokenize_from_list_en(list_of_text):\n",
    "    words = []\n",
    "    for text in list_of_text:\n",
    "        words += word_tokenize_from_text_en(text)\n",
    "    return words\n",
    "\n",
    "tokenizeListEn = lambda x:word_tokenize_from_list_en(x)"
   ]
  },
  {
   "cell_type": "code",
   "execution_count": 17,
   "metadata": {},
   "outputs": [],
   "source": [
    "df.loc[df.language == 'en','tokenized_requirement'] = df.loc[df.language == 'en','requirement_list_cleaned'].apply(tokenizeListEn)"
   ]
  },
  {
   "cell_type": "code",
   "execution_count": 26,
   "metadata": {},
   "outputs": [],
   "source": [
    "\n"
   ]
  },
  {
   "cell_type": "markdown",
   "metadata": {},
   "source": [
    "# Cleanup industry\n",
    "Each side is a different mess"
   ]
  },
  {
   "cell_type": "code",
   "execution_count": 20,
   "metadata": {},
   "outputs": [],
   "source": [
    "import re\n",
    "def string_to_list(text):\n",
    "    string_list = re.split('\\n|\\t|•|-|,',text)\n",
    "    string_list = [s.strip() for s in string_list]\n",
    "    # string_list = [s.lower() for s in string_list]\n",
    "    return list(filter(None, string_list))\n",
    "\n",
    "stringToList = lambda x: string_to_list(x)\n",
    "\n",
    "df.loc[df.source == 'vietnamworks', 'industry'] = df.loc[df.source == 'vietnamworks', 'industry'].apply(stringToList)"
   ]
  },
  {
   "cell_type": "code",
   "execution_count": 21,
   "metadata": {},
   "outputs": [],
   "source": [
    "def string_to_list(text):\n",
    "    text=re.sub(\"IT\",\"It\",text)\n",
    "    text=re.sub(\"PR\",\"Pr\",text)\n",
    "    text=re.sub(\"-\",\"\",text)\n",
    "    text=\" \".join(text.split())\n",
    "    string_list = re.findall('[A-Z][^A-Z]*', text)\n",
    "    # string_list = [re.split('-',t) for t in string_list]\n",
    "\n",
    "    return list(filter(None, string_list))\n",
    "\n",
    "stringToList = lambda x: string_to_list(x)\n",
    "\n",
    "df.loc[df.source == 'vieclam24h', 'industry'] = df.loc[df.source == 'vieclam24h', 'industry'].apply(stringToList)"
   ]
  },
  {
   "cell_type": "code",
   "execution_count": 22,
   "metadata": {},
   "outputs": [],
   "source": [
    "def string_to_list(text):\n",
    "    string_list = re.split('\\n|\\t|•|-|,',text)\n",
    "    string_list = [s.strip() for s in string_list]\n",
    "    # string_list = [s.lower() for s in string_list]\n",
    "    return list(filter(None, string_list))[:-1]\n",
    "\n",
    "stringToList = lambda x: string_to_list(x)\n",
    "df.loc[df.source == 'jobsGo', 'industry'] = df.loc[df.source == 'jobsGo', 'industry'].apply(stringToList)"
   ]
  },
  {
   "cell_type": "code",
   "execution_count": 23,
   "metadata": {},
   "outputs": [],
   "source": [
    "def string_to_list(text):\n",
    "    string_list = re.split('\\n',text)\n",
    "    string_list = [s.strip() for s in string_list]\n",
    "    # string_list = [s.lower() for s in string_list]\n",
    "    return list(filter(None, string_list))\n",
    "\n",
    "stringToList = lambda x: string_to_list(x)\n",
    "\n",
    "df.loc[df.source == 'tuyencongnhan', 'industry'] = df.loc[df.source == 'tuyencongnhan', 'industry'].apply(stringToList)"
   ]
  },
  {
   "cell_type": "code",
   "execution_count": 24,
   "metadata": {},
   "outputs": [],
   "source": [
    "def string_to_list(text):\n",
    "    string_list = re.split('\\n|/',text)\n",
    "    string_list = [s.strip() for s in string_list]\n",
    "    # string_list = [s.lower() for s in string_list]\n",
    "    return list(filter(None, string_list))\n",
    "\n",
    "stringToList = lambda x: string_to_list(x)\n",
    "\n",
    "df.loc[df.source == 'topCV', 'industry'] = df.loc[df.source == 'topCV', 'industry'].apply(stringToList)"
   ]
  },
  {
   "cell_type": "code",
   "execution_count": 25,
   "metadata": {},
   "outputs": [],
   "source": [
    "def string_to_list(text):\n",
    "    string_list = re.split(',|/',text)\n",
    "    string_list = [s.strip() for s in string_list]\n",
    "    # string_list = [s.lower() for s in string_list]\n",
    "    return list(filter(None, string_list))\n",
    "\n",
    "stringToList = lambda x: string_to_list(x)\n",
    "\n",
    "df.loc[df.source == 'careerBuilder', 'industry']  = df.loc[df.source == 'careerBuilder', 'industry'].apply(stringToList)"
   ]
  },
  {
   "cell_type": "code",
   "execution_count": 26,
   "metadata": {},
   "outputs": [],
   "source": [
    "def string_to_list(text):\n",
    "    # string_list = re.split(',|/',text)\n",
    "    # string_list = [s.strip() for s in string_list]\n",
    "    # string_list = [s.lower() for s in string_list]\n",
    "    text=re.sub(\"/\",\"\",text)\n",
    "    text=re.sub(\" - \",\"\",text)\n",
    "    string_list = re.findall('[A-Z][^A-Z]*', text)\n",
    "    return list(filter(None, string_list))\n",
    "\n",
    "stringToList = lambda x: string_to_list(x)\n",
    "\n",
    "df.loc[df.source == 'timviecnhanh', 'industry']  = df.loc[df.source == 'timviecnhanh', 'industry'].apply(stringToList)"
   ]
  },
  {
   "cell_type": "code",
   "execution_count": 27,
   "metadata": {},
   "outputs": [],
   "source": [
    "def string_to_list(text):\n",
    "    string_list = re.split('\\n|-',text)\n",
    "    string_list = [s.strip() for s in string_list]\n",
    "    # string_list = [s.lower() for s in string_list]\n",
    "    return list(filter(None, string_list))\n",
    "\n",
    "stringToList = lambda x: string_to_list(x)\n",
    "\n",
    "df.loc[df.source == 'sieuthivieclam', 'industry'] = df.loc[df.source == 'sieuthivieclam', 'industry'].apply(stringToList)"
   ]
  },
  {
   "cell_type": "code",
   "execution_count": 28,
   "metadata": {},
   "outputs": [],
   "source": [
    "def lower_list(li):\n",
    "    return [x.lower() for x in li]\n",
    "\n",
    "lowerList = lambda x: lower_list(x)"
   ]
  },
  {
   "cell_type": "code",
   "execution_count": 30,
   "metadata": {},
   "outputs": [],
   "source": [
    "df.industry = df.industry.apply(lowerList)"
   ]
  },
  {
   "cell_type": "markdown",
   "metadata": {},
   "source": [
    "# Cleanup JD"
   ]
  },
  {
   "cell_type": "code",
   "execution_count": 6,
   "metadata": {},
   "outputs": [],
   "source": [
    "df['jd_list'] = df.jd.apply(stringToList)"
   ]
  },
  {
   "cell_type": "code",
   "execution_count": 9,
   "metadata": {},
   "outputs": [],
   "source": [
    "df['jd_list_cleaned'] = df.jd_list.apply(scrubWordsList)"
   ]
  },
  {
   "cell_type": "code",
   "execution_count": 13,
   "metadata": {},
   "outputs": [],
   "source": [
    "df['tokenized_jd_2'] = np.NaN\n",
    "\n",
    "df.loc[df.language == 'vi','tokenized_jd_2'] = df.loc[df.language == 'vi','jd_list_cleaned'].apply(tokenizeListVi2)"
   ]
  },
  {
   "cell_type": "code",
   "execution_count": 16,
   "metadata": {},
   "outputs": [
    {
     "data": {
      "text/html": [
       "<div>\n",
       "<style scoped>\n",
       "    .dataframe tbody tr th:only-of-type {\n",
       "        vertical-align: middle;\n",
       "    }\n",
       "\n",
       "    .dataframe tbody tr th {\n",
       "        vertical-align: top;\n",
       "    }\n",
       "\n",
       "    .dataframe thead th {\n",
       "        text-align: right;\n",
       "    }\n",
       "</style>\n",
       "<table border=\"1\" class=\"dataframe\">\n",
       "  <thead>\n",
       "    <tr style=\"text-align: right;\">\n",
       "      <th></th>\n",
       "      <th>url</th>\n",
       "      <th>title</th>\n",
       "      <th>salary</th>\n",
       "      <th>experiment</th>\n",
       "      <th>degree</th>\n",
       "      <th>so_luong</th>\n",
       "      <th>industry</th>\n",
       "      <th>location</th>\n",
       "      <th>level</th>\n",
       "      <th>jd</th>\n",
       "      <th>...</th>\n",
       "      <th>source</th>\n",
       "      <th>language</th>\n",
       "      <th>blue_or_white</th>\n",
       "      <th>requirement_list</th>\n",
       "      <th>requirement_list_cleaned</th>\n",
       "      <th>tokenized_requirement</th>\n",
       "      <th>tokenized_requirement_2</th>\n",
       "      <th>jd_list</th>\n",
       "      <th>jd_list_cleaned</th>\n",
       "      <th>tokenized_jd_2</th>\n",
       "    </tr>\n",
       "  </thead>\n",
       "  <tbody>\n",
       "    <tr>\n",
       "      <th>0</th>\n",
       "      <td>https://vieclam24h.vn/nhan-vien-kinh-doanh/nha...</td>\n",
       "      <td>Nhân Viên Kinh Doanh Lĩnh Vực Chuyển Phát Nhan...</td>\n",
       "      <td>10 - 40 triệu</td>\n",
       "      <td>Chưa có kinh nghiệm</td>\n",
       "      <td>cao đẳng</td>\n",
       "      <td>5.0</td>\n",
       "      <td>[quản trị kinh doanh, ngoại thương , xuất nhập...</td>\n",
       "      <td>Hà Nội</td>\n",
       "      <td>Chuyên viên- nhân viên</td>\n",
       "      <td>- Chủ động tìm kiếm thông tin khách hàng mới, ...</td>\n",
       "      <td>...</td>\n",
       "      <td>vieclam24h</td>\n",
       "      <td>vi</td>\n",
       "      <td>white</td>\n",
       "      <td>[Ưu tiên có kinh nghiệm làm trong lĩnh vực gia...</td>\n",
       "      <td>[ưu tiên có kinh nghiệm làm trong lĩnh vực gia...</td>\n",
       "      <td>[ưu tiên, có, kinh nghiệm, làm, trong, lĩnh vự...</td>\n",
       "      <td>[ưu_tiên, có, kinh_nghiệm, làm, trong, lĩnh_vự...</td>\n",
       "      <td>[Chủ động tìm kiếm thông tin khách hàng mới, t...</td>\n",
       "      <td>[chủ động tìm kiếm thông tin khách hàng mới th...</td>\n",
       "      <td>[chủ_động, tìm_kiếm, thông_tin, khách_hàng, mớ...</td>\n",
       "    </tr>\n",
       "    <tr>\n",
       "      <th>1</th>\n",
       "      <td>https://vieclam24h.vn/ban-hang/nhan-vien-ban-h...</td>\n",
       "      <td>Nhân Viên Bán Hàng Tại Showroom Thu Nhập Trên ...</td>\n",
       "      <td>15 - 20 triệu</td>\n",
       "      <td>Dưới 1 năm</td>\n",
       "      <td>trung cấp</td>\n",
       "      <td>3.0</td>\n",
       "      <td>[bán hàng, nhân viên kinh doanh, tư vấn]</td>\n",
       "      <td>Hà Nội</td>\n",
       "      <td>Chuyên viên- nhân viên</td>\n",
       "      <td>- Làm việc tại Showroom BigC The Garden, Mễ...</td>\n",
       "      <td>...</td>\n",
       "      <td>vieclam24h</td>\n",
       "      <td>vi</td>\n",
       "      <td>blue</td>\n",
       "      <td>[Có kinh nghiệm về bán hàng, yêu thích bán hàn...</td>\n",
       "      <td>[có kinh nghiệm về bán hàng yêu thích bán hàng...</td>\n",
       "      <td>[có, kinh nghiệm, về, bán, hàng, yêu thích, bá...</td>\n",
       "      <td>[có, kinh_nghiệm, về, bán, hàng, yêu_thích, bá...</td>\n",
       "      <td>[Làm việc tại Showroom BigC The Garden, Mễ ...</td>\n",
       "      <td>[la m viê c ta i showroom bigc the garden mễ t...</td>\n",
       "      <td>[la, m, viê, c, ta, i, showroom, bigc, the, ga...</td>\n",
       "    </tr>\n",
       "    <tr>\n",
       "      <th>2</th>\n",
       "      <td>https://vieclam24h.vn/dich-vu/shopee-nhan-vien...</td>\n",
       "      <td>Shopee - Nhân Viên Chăm Sóc Khách Hàng</td>\n",
       "      <td>5 - 7 triệu</td>\n",
       "      <td>Dưới 1 năm</td>\n",
       "      <td>trung học</td>\n",
       "      <td>15.0</td>\n",
       "      <td>[dịch vụ, thương mại điện tử, tư vấn]</td>\n",
       "      <td>TP.HCM</td>\n",
       "      <td>Chuyên viên- nhân viên</td>\n",
       "      <td>MÔ TẢ CÔNG VIỆC- Tiếp nhận và giải đáp thắc mắ...</td>\n",
       "      <td>...</td>\n",
       "      <td>vieclam24h</td>\n",
       "      <td>vi</td>\n",
       "      <td>blue</td>\n",
       "      <td>[Tốt nghiệp THPT trở lên., Tuổi từ 18 đến 32.,...</td>\n",
       "      <td>[tốt nghiệp thpt trở lên, tuổi từ đến, tối thi...</td>\n",
       "      <td>[tốt nghiệp, thpt, trở, lên, tuổi, từ, đến, tố...</td>\n",
       "      <td>[tốt_nghiệp, thpt, trở, lên, tuổi, từ, đến, tố...</td>\n",
       "      <td>[MÔ TẢ CÔNG VIỆC, Tiếp nhận và giải đáp thắc m...</td>\n",
       "      <td>[mô tả công việc, tiếp nhận và giải đáp thắc m...</td>\n",
       "      <td>[mô_tả, công_việc, tiếp_nhận, và, giải_đáp, th...</td>\n",
       "    </tr>\n",
       "  </tbody>\n",
       "</table>\n",
       "<p>3 rows × 22 columns</p>\n",
       "</div>"
      ],
      "text/plain": [
       "                                                 url  \\\n",
       "0  https://vieclam24h.vn/nhan-vien-kinh-doanh/nha...   \n",
       "1  https://vieclam24h.vn/ban-hang/nhan-vien-ban-h...   \n",
       "2  https://vieclam24h.vn/dich-vu/shopee-nhan-vien...   \n",
       "\n",
       "                                               title         salary  \\\n",
       "0  Nhân Viên Kinh Doanh Lĩnh Vực Chuyển Phát Nhan...  10 - 40 triệu   \n",
       "1  Nhân Viên Bán Hàng Tại Showroom Thu Nhập Trên ...  15 - 20 triệu   \n",
       "2             Shopee - Nhân Viên Chăm Sóc Khách Hàng    5 - 7 triệu   \n",
       "\n",
       "            experiment     degree so_luong  \\\n",
       "0  Chưa có kinh nghiệm   cao đẳng      5.0   \n",
       "1           Dưới 1 năm  trung cấp      3.0   \n",
       "2           Dưới 1 năm  trung học     15.0   \n",
       "\n",
       "                                            industry location  \\\n",
       "0  [quản trị kinh doanh, ngoại thương , xuất nhập...   Hà Nội   \n",
       "1           [bán hàng, nhân viên kinh doanh, tư vấn]   Hà Nội   \n",
       "2              [dịch vụ, thương mại điện tử, tư vấn]   TP.HCM   \n",
       "\n",
       "                    level                                                 jd  \\\n",
       "0  Chuyên viên- nhân viên  - Chủ động tìm kiếm thông tin khách hàng mới, ...   \n",
       "1  Chuyên viên- nhân viên  - Làm việc tại Showroom BigC The Garden, Mễ...   \n",
       "2  Chuyên viên- nhân viên  MÔ TẢ CÔNG VIỆC- Tiếp nhận và giải đáp thắc mắ...   \n",
       "\n",
       "   ...      source language blue_or_white  \\\n",
       "0  ...  vieclam24h       vi         white   \n",
       "1  ...  vieclam24h       vi          blue   \n",
       "2  ...  vieclam24h       vi          blue   \n",
       "\n",
       "                                    requirement_list  \\\n",
       "0  [Ưu tiên có kinh nghiệm làm trong lĩnh vực gia...   \n",
       "1  [Có kinh nghiệm về bán hàng, yêu thích bán hàn...   \n",
       "2  [Tốt nghiệp THPT trở lên., Tuổi từ 18 đến 32.,...   \n",
       "\n",
       "                            requirement_list_cleaned  \\\n",
       "0  [ưu tiên có kinh nghiệm làm trong lĩnh vực gia...   \n",
       "1  [có kinh nghiệm về bán hàng yêu thích bán hàng...   \n",
       "2  [tốt nghiệp thpt trở lên, tuổi từ đến, tối thi...   \n",
       "\n",
       "                               tokenized_requirement  \\\n",
       "0  [ưu tiên, có, kinh nghiệm, làm, trong, lĩnh vự...   \n",
       "1  [có, kinh nghiệm, về, bán, hàng, yêu thích, bá...   \n",
       "2  [tốt nghiệp, thpt, trở, lên, tuổi, từ, đến, tố...   \n",
       "\n",
       "                             tokenized_requirement_2  \\\n",
       "0  [ưu_tiên, có, kinh_nghiệm, làm, trong, lĩnh_vự...   \n",
       "1  [có, kinh_nghiệm, về, bán, hàng, yêu_thích, bá...   \n",
       "2  [tốt_nghiệp, thpt, trở, lên, tuổi, từ, đến, tố...   \n",
       "\n",
       "                                             jd_list  \\\n",
       "0  [Chủ động tìm kiếm thông tin khách hàng mới, t...   \n",
       "1  [Làm việc tại Showroom BigC The Garden, Mễ ...   \n",
       "2  [MÔ TẢ CÔNG VIỆC, Tiếp nhận và giải đáp thắc m...   \n",
       "\n",
       "                                     jd_list_cleaned  \\\n",
       "0  [chủ động tìm kiếm thông tin khách hàng mới th...   \n",
       "1  [la m viê c ta i showroom bigc the garden mễ t...   \n",
       "2  [mô tả công việc, tiếp nhận và giải đáp thắc m...   \n",
       "\n",
       "                                      tokenized_jd_2  \n",
       "0  [chủ_động, tìm_kiếm, thông_tin, khách_hàng, mớ...  \n",
       "1  [la, m, viê, c, ta, i, showroom, bigc, the, ga...  \n",
       "2  [mô_tả, công_việc, tiếp_nhận, và, giải_đáp, th...  \n",
       "\n",
       "[3 rows x 22 columns]"
      ]
     },
     "execution_count": 16,
     "metadata": {},
     "output_type": "execute_result"
    }
   ],
   "source": [
    "df.head(3)"
   ]
  },
  {
   "cell_type": "code",
   "execution_count": 5,
   "metadata": {},
   "outputs": [
    {
     "data": {
      "text/plain": [
       "Index(['url', 'title', 'salary', 'experiment', 'degree', 'so_luong',\n",
       "       'industry', 'location', 'level', 'jd', 'benefit', 'requirement',\n",
       "       'source', 'language', 'blue_or_white', 'requirement_list',\n",
       "       'requirement_list_cleaned', 'tokenized_requirement',\n",
       "       'tokenized_requirement_2'],\n",
       "      dtype='object')"
      ]
     },
     "execution_count": 5,
     "metadata": {},
     "output_type": "execute_result"
    }
   ],
   "source": [
    "df.columns"
   ]
  },
  {
   "cell_type": "markdown",
   "metadata": {},
   "source": [
    "# Results\n",
    "after aggregate, clean, ... 1 job post would has\n",
    "\n",
    "- **job requirement**: list of tokenized words\n",
    "    - For Vietnamese, 2 ways of tokenizing by [Underthesea](https://github.com/undertheseanlp/underthesea)\n",
    "        - tokenized_requirement: word_tokenize(sentence): ['Chàng trai', '9X', 'Quảng Trị']\n",
    "        - tokenized_requirement_2: word_tokenize(sentence, format=\"text\"): ['Chàng_trai 9X Quảng_Trị]\n",
    "    - For English: Now tokenizing English is harsh:\n",
    "        - remove step words\n",
    "        - stem\n",
    "        - so tokenizing basically break string into words\n",
    "        - May consider other methods\n",
    "\n",
    "- **industry**: list of industries\n",
    "\n",
    "- **JD**\n",
    "    - For Vietnamese\n",
    "        - tokenized_jd_2: same way as tokenized_requirement_2"
   ]
  },
  {
   "cell_type": "code",
   "execution_count": 15,
   "metadata": {},
   "outputs": [],
   "source": [
    "import datetime\n",
    "date_object = datetime.date.today()\n",
    "\n",
    "df.to_hdf(f'aggregated-{date_object}.h5', key='df', mode='w')"
   ]
  }
 ],
 "metadata": {
  "interpreter": {
   "hash": "62c7911008f581440d9d286d9125473e755305b7df66323a10d1fb2a51e451f8"
  },
  "kernelspec": {
   "display_name": "Python 3.9.7 64-bit ('te': conda)",
   "name": "python3"
  },
  "language_info": {
   "codemirror_mode": {
    "name": "ipython",
    "version": 3
   },
   "file_extension": ".py",
   "mimetype": "text/x-python",
   "name": "python",
   "nbconvert_exporter": "python",
   "pygments_lexer": "ipython3",
   "version": "3.8.12"
  },
  "orig_nbformat": 4
 },
 "nbformat": 4,
 "nbformat_minor": 2
}
