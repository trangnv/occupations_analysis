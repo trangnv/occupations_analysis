{
 "cells": [
  {
   "cell_type": "code",
   "execution_count": 2,
   "metadata": {},
   "outputs": [],
   "source": [
    "import pandas as pd"
   ]
  },
  {
   "cell_type": "markdown",
   "metadata": {},
   "source": [
    "# Utils"
   ]
  },
  {
   "cell_type": "code",
   "execution_count": 17,
   "metadata": {},
   "outputs": [],
   "source": [
    "from underthesea import word_tokenize #as word_tokenize_vi\n",
    "\n",
    "def word_tokenize_from_text_vi(text):\n",
    "    return word_tokenize(text)\n",
    "\n",
    "def word_tokenize_from_text_vi_2(text):\n",
    "    return word_tokenize(text,format=\"text\").split()\n",
    "\n",
    "# tokenizeListVi = lambda x:word_tokenize_from_list_vi(x)\n",
    "tokenizeTextVi2 = lambda x:word_tokenize_from_text_vi_2(x)"
   ]
  },
  {
   "cell_type": "code",
   "execution_count": 3,
   "metadata": {},
   "outputs": [],
   "source": [
    "file_name = \"../datas/2021DEC_Career Presenting Problems.xlsx\"\n",
    "dfs = pd.read_excel(file_name, sheet_name=None)"
   ]
  },
  {
   "cell_type": "code",
   "execution_count": 16,
   "metadata": {},
   "outputs": [
    {
     "data": {
      "text/html": [
       "<div>\n",
       "<style scoped>\n",
       "    .dataframe tbody tr th:only-of-type {\n",
       "        vertical-align: middle;\n",
       "    }\n",
       "\n",
       "    .dataframe tbody tr th {\n",
       "        vertical-align: top;\n",
       "    }\n",
       "\n",
       "    .dataframe thead th {\n",
       "        text-align: right;\n",
       "    }\n",
       "</style>\n",
       "<table border=\"1\" class=\"dataframe\">\n",
       "  <thead>\n",
       "    <tr style=\"text-align: right;\">\n",
       "      <th></th>\n",
       "      <th>Unnamed: 0</th>\n",
       "      <th>2. Những băn khoăn nào khiến anh/chị tìm đến tư vấn Hướng nghiệp?</th>\n",
       "    </tr>\n",
       "  </thead>\n",
       "  <tbody>\n",
       "    <tr>\n",
       "      <th>0</th>\n",
       "      <td>NaN</td>\n",
       "      <td>Chưa định hướng công việc làm</td>\n",
       "    </tr>\n",
       "    <tr>\n",
       "      <th>1</th>\n",
       "      <td>NaN</td>\n",
       "      <td>Em đã ra trường được 8 năm rồi và đã đi làm gầ...</td>\n",
       "    </tr>\n",
       "    <tr>\n",
       "      <th>2</th>\n",
       "      <td>NaN</td>\n",
       "      <td>Mình có khả năng gì? Phù hợp với ngành nghề nà...</td>\n",
       "    </tr>\n",
       "    <tr>\n",
       "      <th>3</th>\n",
       "      <td>NaN</td>\n",
       "      <td>Phân vân giữa (1) tiếp tục định hướng nghề ngh...</td>\n",
       "    </tr>\n",
       "    <tr>\n",
       "      <th>4</th>\n",
       "      <td>NaN</td>\n",
       "      <td>định hướng lại nghề nghiệp</td>\n",
       "    </tr>\n",
       "    <tr>\n",
       "      <th>...</th>\n",
       "      <td>...</td>\n",
       "      <td>...</td>\n",
       "    </tr>\n",
       "    <tr>\n",
       "      <th>167</th>\n",
       "      <td>NaN</td>\n",
       "      <td>Cảm thấy liệu rằng khả năng và sở thích của bả...</td>\n",
       "    </tr>\n",
       "    <tr>\n",
       "      <th>168</th>\n",
       "      <td>NaN</td>\n",
       "      <td>Career path, direction. Overcome past failures...</td>\n",
       "    </tr>\n",
       "    <tr>\n",
       "      <th>169</th>\n",
       "      <td>NaN</td>\n",
       "      <td>Làm thế nào để có thể bước đi tiếp và phát tri...</td>\n",
       "    </tr>\n",
       "    <tr>\n",
       "      <th>170</th>\n",
       "      <td>NaN</td>\n",
       "      <td>Buổi trò chuyện với Founder tại Sông An ( Uyên...</td>\n",
       "    </tr>\n",
       "    <tr>\n",
       "      <th>171</th>\n",
       "      <td>NaN</td>\n",
       "      <td>- Công việc em đang làm hợp với mong muốn giúp...</td>\n",
       "    </tr>\n",
       "  </tbody>\n",
       "</table>\n",
       "<p>172 rows × 2 columns</p>\n",
       "</div>"
      ],
      "text/plain": [
       "     Unnamed: 0  \\\n",
       "0           NaN   \n",
       "1           NaN   \n",
       "2           NaN   \n",
       "3           NaN   \n",
       "4           NaN   \n",
       "..          ...   \n",
       "167         NaN   \n",
       "168         NaN   \n",
       "169         NaN   \n",
       "170         NaN   \n",
       "171         NaN   \n",
       "\n",
       "    2. Những băn khoăn nào khiến anh/chị tìm đến tư vấn Hướng nghiệp?  \n",
       "0                        Chưa định hướng công việc làm                 \n",
       "1    Em đã ra trường được 8 năm rồi và đã đi làm gầ...                 \n",
       "2    Mình có khả năng gì? Phù hợp với ngành nghề nà...                 \n",
       "3    Phân vân giữa (1) tiếp tục định hướng nghề ngh...                 \n",
       "4                           định hướng lại nghề nghiệp                 \n",
       "..                                                 ...                 \n",
       "167  Cảm thấy liệu rằng khả năng và sở thích của bả...                 \n",
       "168  Career path, direction. Overcome past failures...                 \n",
       "169  Làm thế nào để có thể bước đi tiếp và phát tri...                 \n",
       "170  Buổi trò chuyện với Founder tại Sông An ( Uyên...                 \n",
       "171  - Công việc em đang làm hợp với mong muốn giúp...                 \n",
       "\n",
       "[172 rows x 2 columns]"
      ]
     },
     "execution_count": 16,
     "metadata": {},
     "output_type": "execute_result"
    }
   ],
   "source": [
    "sheet1 = dfs[list(dfs.keys())[0]]\n",
    "sheet1"
   ]
  },
  {
   "cell_type": "code",
   "execution_count": 32,
   "metadata": {},
   "outputs": [
    {
     "data": {
      "text/plain": [
       "'\\nDont work because each sheet has different structure\\n'"
      ]
     },
     "execution_count": 32,
     "metadata": {},
     "output_type": "execute_result"
    }
   ],
   "source": [
    "import itertools\n",
    "from collections import Counter\n",
    "\n",
    "'''\n",
    "Dont work because each sheet has different structure\n",
    "'''\n",
    "# counts_df = pd.DataFrame()\n",
    "# for i, sheet_name in enumerate(list(dfs.keys())):\n",
    "#     sheet = dfs[sheet_name]\n",
    "#     sheet[\"tokenized\"] = sheet.iloc[:,1].apply(tokenizeTextVi2)\n",
    "\n",
    "#     keywords = list(itertools.chain(*sheet.loc[:,'tokenized']))\n",
    "#     counts = Counter(keywords)\n",
    "\n",
    "#     counts_df_ = pd.DataFrame.from_dict(counts, orient='index').reset_index()\n",
    "#     counts_df_.columns = [f'sheet{i+1}_word',f'sheet{i+1}_count']\n",
    "#     counts_df_ = counts_df_.sort_values(f'sheet{i+1}_count',ascending=False).reset_index(drop=True)\n",
    "\n",
    "#     counts_df = pd.concat([counts_df,counts_df_],axis=1)\n",
    "\n",
    "# counts_df.iloc[0:30,:]"
   ]
  },
  {
   "cell_type": "code",
   "execution_count": 34,
   "metadata": {},
   "outputs": [],
   "source": [
    "sheet1[\"tokenized\"] = sheet1.iloc[:,1].apply(tokenizeTextVi2)\n",
    "\n",
    "keywords = list(itertools.chain(*sheet1.loc[:,'tokenized']))\n",
    "counts = Counter(keywords)\n",
    "\n",
    "counts_df = pd.DataFrame.from_dict(counts, orient='index').reset_index()\n",
    "counts_df.columns = ['word','count']\n",
    "counts_df = counts_df.sort_values('count',ascending=False).reset_index(drop=True)\n",
    "\n",
    "\n",
    "save_file = \"../datas/2021DEC_Career Presenting Problems counter.xlsx\"\n",
    "writer = pd.ExcelWriter(save_file, engine='openpyxl', )\n",
    "counts_df.to_excel(writer, sheet_name = list(dfs.keys())[0],index=False)\n",
    "writer.save()\n",
    "writer.close()"
   ]
  }
 ],
 "metadata": {
  "interpreter": {
   "hash": "970acef40c1cea8404bbe3e09e936d7a989a1d41ad865e5e2a1187d71ab40b37"
  },
  "kernelspec": {
   "display_name": "Python 3.8.12 64-bit ('gvenv38': conda)",
   "language": "python",
   "name": "python3"
  },
  "language_info": {
   "codemirror_mode": {
    "name": "ipython",
    "version": 3
   },
   "file_extension": ".py",
   "mimetype": "text/x-python",
   "name": "python",
   "nbconvert_exporter": "python",
   "pygments_lexer": "ipython3",
   "version": "3.8.12"
  },
  "orig_nbformat": 4
 },
 "nbformat": 4,
 "nbformat_minor": 2
}
