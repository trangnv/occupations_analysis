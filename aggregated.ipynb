{
 "cells": [
  {
   "cell_type": "code",
   "execution_count": 2,
   "metadata": {},
   "outputs": [],
   "source": [
    "import glob\n",
    "from pathlib import Path\n",
    "import pandas as pd\n",
    "import numpy as np\n",
    "\n",
    "import warnings\n",
    "warnings.filterwarnings('ignore')"
   ]
  },
  {
   "cell_type": "markdown",
   "metadata": {},
   "source": [
    "# Utils"
   ]
  },
  {
   "cell_type": "code",
   "execution_count": null,
   "metadata": {},
   "outputs": [],
   "source": [
    "def lower_text(text):\n",
    "    return text.lower()\n",
    "def hard_remove_spaces(text):\n",
    "    return \" \".join(text.split())\n",
    "\n",
    "lowerText = lambda x: lower_text(x)\n",
    "hardRemoveSpaces = lambda x: hard_remove_spaces(x)"
   ]
  },
  {
   "cell_type": "markdown",
   "metadata": {},
   "source": [
    "# Aggregate"
   ]
  },
  {
   "cell_type": "code",
   "execution_count": null,
   "metadata": {},
   "outputs": [],
   "source": []
  },
  {
   "cell_type": "code",
   "execution_count": null,
   "metadata": {},
   "outputs": [],
   "source": [
    "file_ = glob.glob(\"../sites_data/*\")[0]\n",
    "df=pd.read_csv(file_,index_col=None)#.drop('Unnamed: 0', 1)\n",
    "df['source'] = Path(file_).stem.split('-')[0]\n",
    "print(Path(file_).stem)\n",
    "\n",
    "for file_ in glob.glob(\"../sites_data/*\")[1:]:\n",
    "    print(Path(file_).stem)\n",
    "    df_file = pd.read_csv(file_,index_col=None)\n",
    "    df_file['source'] = Path(file_).stem.split('-')[0]\n",
    "    df=pd.concat([df,df_file],axis=0).reset_index(drop=True)"
   ]
  },
  {
   "cell_type": "code",
   "execution_count": null,
   "metadata": {},
   "outputs": [],
   "source": [
    "print(df.columns)"
   ]
  },
  {
   "cell_type": "code",
   "execution_count": null,
   "metadata": {},
   "outputs": [],
   "source": [
    "selected_columns = ['url', 'title', 'salary', 'experiment', 'degree', 'so_luong',\n",
    "       'industry', 'location', 'level', 'jd', 'benefit', 'requirement',\n",
    "       'source', ]\n",
    "\n",
    "df = df[selected_columns]\n",
    "\n",
    "print(f'Number of jobs post: {df.shape[0]}')\n",
    "df['source'].value_counts()"
   ]
  },
  {
   "cell_type": "markdown",
   "metadata": {},
   "source": [
    "# Language detect"
   ]
  },
  {
   "cell_type": "code",
   "execution_count": null,
   "metadata": {},
   "outputs": [],
   "source": [
    "df['language'] = pd.Series(0, index=df.index)\n",
    "\n",
    "from langdetect import detect\n",
    "for i in range(df.shape[0]):\n",
    "    # REINITIALIZE THE API\n",
    "    try:        \n",
    "        df['language'][i] = detect(str(df.requirement[i]))\n",
    "    except:\n",
    "        continue\n",
    "    if i%10000==0:         print(i)"
   ]
  },
  {
   "cell_type": "code",
   "execution_count": null,
   "metadata": {},
   "outputs": [],
   "source": [
    "df['language'].value_counts().to_frame()"
   ]
  },
  {
   "cell_type": "markdown",
   "metadata": {},
   "source": [
    "## `vi` and `en`"
   ]
  },
  {
   "cell_type": "code",
   "execution_count": null,
   "metadata": {},
   "outputs": [],
   "source": [
    "df = df.loc[(df.language == 'vi') | (df.language == 'en')].reset_index(drop=True)#.language.value_counts()"
   ]
  },
  {
   "cell_type": "code",
   "execution_count": null,
   "metadata": {},
   "outputs": [],
   "source": [
    "df['source'].value_counts().to_frame()"
   ]
  },
  {
   "cell_type": "code",
   "execution_count": null,
   "metadata": {},
   "outputs": [],
   "source": [
    "df[~df['degree'].isnull()]['source'].value_counts()#.reset_index(drop=True).astype(str)\n"
   ]
  },
  {
   "cell_type": "code",
   "execution_count": null,
   "metadata": {},
   "outputs": [],
   "source": [
    "df['degree'].value_counts()"
   ]
  },
  {
   "cell_type": "markdown",
   "metadata": {},
   "source": [
    "# blue_or_white\n",
    "- Clean up degree\n",
    "- Blue:\n",
    "    - Site that blue in nature\n",
    "        - tuyencongnhan\n",
    "    - `degree` is in `blue_degree_list`"
   ]
  },
  {
   "cell_type": "code",
   "execution_count": null,
   "metadata": {},
   "outputs": [],
   "source": [
    "df['blue_or_white'] = 'white'"
   ]
  },
  {
   "cell_type": "markdown",
   "metadata": {},
   "source": [
    "## Site that blue in nature\n",
    "- tuyencongnhan"
   ]
  },
  {
   "cell_type": "code",
   "execution_count": null,
   "metadata": {},
   "outputs": [],
   "source": [
    "df.loc[df.source=='tuyencongnhan','blue_or_white'] = 'blue'"
   ]
  },
  {
   "cell_type": "markdown",
   "metadata": {},
   "source": [
    "## By degree"
   ]
  },
  {
   "cell_type": "markdown",
   "metadata": {},
   "source": [
    "### Clean up degree"
   ]
  },
  {
   "cell_type": "code",
   "execution_count": null,
   "metadata": {},
   "outputs": [],
   "source": [
    "df.loc[~df['degree'].isnull(),'degree'] = df.loc[~df['degree'].isnull(),'degree'].apply(hardRemoveSpaces)\n",
    "df.loc[~df['degree'].isnull(),'degree'] = df.loc[~df['degree'].isnull(),'degree'].apply(lowerText)"
   ]
  },
  {
   "cell_type": "code",
   "execution_count": null,
   "metadata": {},
   "outputs": [],
   "source": [
    "df['degree'].value_counts()\n",
    "# df"
   ]
  },
  {
   "cell_type": "markdown",
   "metadata": {},
   "source": [
    "### Assigning blue tag"
   ]
  },
  {
   "cell_type": "code",
   "execution_count": null,
   "metadata": {},
   "outputs": [],
   "source": [
    "blue_degree_list = ['trung cấp', 'trung học',  'không yêu cầu',\n",
    "                    'chứng chỉ', 'trung học phổ thông','trung cấp - nghề', \n",
    "                    'chứng chỉ chuyên ngành', 'lao động phổ thông', 'chứng chỉ - sơ cấp nghề',\n",
    "                    ]\n",
    "df.loc[df['degree'].isin(blue_degree_list),'blue_or_white'] = 'blue'"
   ]
  },
  {
   "cell_type": "markdown",
   "metadata": {},
   "source": [
    "### English jobs are blue"
   ]
  },
  {
   "cell_type": "code",
   "execution_count": null,
   "metadata": {},
   "outputs": [],
   "source": [
    "df.loc[df['blue_or_white']=='blue','language'].value_counts()\n",
    "\n",
    "# df.loc[df.language=='en','blue_or_white'] = 'white'"
   ]
  },
  {
   "cell_type": "code",
   "execution_count": null,
   "metadata": {},
   "outputs": [],
   "source": [
    "df.blue_or_white.value_counts()"
   ]
  },
  {
   "cell_type": "code",
   "execution_count": 3,
   "metadata": {},
   "outputs": [],
   "source": [
    "df = pd.read_csv('aggregated-2021-11-06.csv')"
   ]
  },
  {
   "cell_type": "markdown",
   "metadata": {},
   "source": [
    "# Data statistics"
   ]
  },
  {
   "cell_type": "code",
   "execution_count": 4,
   "metadata": {},
   "outputs": [
    {
     "data": {
      "text/html": [
       "<div>\n",
       "<style scoped>\n",
       "    .dataframe tbody tr th:only-of-type {\n",
       "        vertical-align: middle;\n",
       "    }\n",
       "\n",
       "    .dataframe tbody tr th {\n",
       "        vertical-align: top;\n",
       "    }\n",
       "\n",
       "    .dataframe thead th {\n",
       "        text-align: right;\n",
       "    }\n",
       "</style>\n",
       "<table border=\"1\" class=\"dataframe\">\n",
       "  <thead>\n",
       "    <tr style=\"text-align: right;\">\n",
       "      <th></th>\n",
       "      <th>source</th>\n",
       "    </tr>\n",
       "  </thead>\n",
       "  <tbody>\n",
       "    <tr>\n",
       "      <th>careerBuilder</th>\n",
       "      <td>23922</td>\n",
       "    </tr>\n",
       "    <tr>\n",
       "      <th>topCV</th>\n",
       "      <td>23603</td>\n",
       "    </tr>\n",
       "    <tr>\n",
       "      <th>jobsGo</th>\n",
       "      <td>18397</td>\n",
       "    </tr>\n",
       "    <tr>\n",
       "      <th>sieuthivieclam</th>\n",
       "      <td>13964</td>\n",
       "    </tr>\n",
       "    <tr>\n",
       "      <th>vietnamworks</th>\n",
       "      <td>7947</td>\n",
       "    </tr>\n",
       "    <tr>\n",
       "      <th>vieclam24h</th>\n",
       "      <td>1102</td>\n",
       "    </tr>\n",
       "    <tr>\n",
       "      <th>tuyencongnhan</th>\n",
       "      <td>1082</td>\n",
       "    </tr>\n",
       "    <tr>\n",
       "      <th>timviecnhanh</th>\n",
       "      <td>980</td>\n",
       "    </tr>\n",
       "  </tbody>\n",
       "</table>\n",
       "</div>"
      ],
      "text/plain": [
       "                source\n",
       "careerBuilder    23922\n",
       "topCV            23603\n",
       "jobsGo           18397\n",
       "sieuthivieclam   13964\n",
       "vietnamworks      7947\n",
       "vieclam24h        1102\n",
       "tuyencongnhan     1082\n",
       "timviecnhanh       980"
      ]
     },
     "execution_count": 4,
     "metadata": {},
     "output_type": "execute_result"
    }
   ],
   "source": [
    "ff = df.source.value_counts().to_frame()\n",
    "ff"
   ]
  },
  {
   "cell_type": "markdown",
   "metadata": {},
   "source": [
    "## Sites"
   ]
  },
  {
   "cell_type": "markdown",
   "metadata": {},
   "source": [
    "# Job requirement"
   ]
  },
  {
   "cell_type": "markdown",
   "metadata": {},
   "source": [
    "## Clean up requirement"
   ]
  },
  {
   "cell_type": "markdown",
   "metadata": {},
   "source": [
    "### requirement to list of requirements"
   ]
  },
  {
   "cell_type": "code",
   "execution_count": 5,
   "metadata": {},
   "outputs": [],
   "source": [
    "import re\n",
    "def string_to_list(text):\n",
    "    string_list = re.split('\\n|\\t|•|-',text)\n",
    "    string_list = [s.strip() for s in string_list]\n",
    "    # string_list = [s.lower() for s in string_list]\n",
    "    return list(filter(None, string_list))\n",
    "\n",
    "stringToList = lambda x: string_to_list(x)"
   ]
  },
  {
   "cell_type": "code",
   "execution_count": 6,
   "metadata": {},
   "outputs": [],
   "source": [
    "df['requirement_list'] = df.requirement.apply(stringToList)"
   ]
  },
  {
   "cell_type": "markdown",
   "metadata": {},
   "source": [
    "### Clean requirement_list"
   ]
  },
  {
   "cell_type": "code",
   "execution_count": 7,
   "metadata": {},
   "outputs": [],
   "source": [
    "def scrub_words(text):\n",
    "    \"\"\"Basic cleaning of texts.\"\"\"\n",
    "    \n",
    "    # remove html markup\n",
    "    text=re.sub(\"(<.*?>)\",\" \",text)\n",
    "    \n",
    "    #remove non-ascii and digits\n",
    "    text=re.sub(\"(\\\\W|\\\\d)\",\" \",text)\n",
    "    \n",
    "    #remove whitespace\n",
    "    text = \" \".join(text.split())\n",
    "\n",
    "    text = text.lower()\n",
    "\n",
    "    return text\n",
    "\n",
    "def scrub_words_list(text_list):\n",
    "    cleaned_text_list = []\n",
    "    for text in text_list:\n",
    "        cleaned_text_list.append(scrub_words(text))\n",
    "    return list(filter(None, cleaned_text_list))\n",
    "\n",
    "scrubWords = lambda x: scrub_words(x)\n",
    "scrubWordsList = lambda x: scrub_words_list(x)"
   ]
  },
  {
   "cell_type": "code",
   "execution_count": 8,
   "metadata": {},
   "outputs": [],
   "source": [
    "df['requirement_list_cleaned'] = df.requirement_list.apply(scrubWordsList)"
   ]
  },
  {
   "cell_type": "markdown",
   "metadata": {},
   "source": [
    "## Tokenize requirements"
   ]
  },
  {
   "cell_type": "markdown",
   "metadata": {},
   "source": [
    "### Vietnamese"
   ]
  },
  {
   "cell_type": "code",
   "execution_count": 9,
   "metadata": {},
   "outputs": [],
   "source": [
    "from underthesea import word_tokenize #as word_tokenize_vi\n",
    "\n",
    "def word_tokenize_from_text_vi(text):\n",
    "    return word_tokenize(text)\n",
    "\n",
    "def word_tokenize_from_text_vi_2(text):\n",
    "    return word_tokenize(text,format=\"text\").split()\n",
    "\n",
    "def word_tokenize_from_list_vi(list_of_text):\n",
    "    words = []\n",
    "    for text in list_of_text:\n",
    "        words += word_tokenize_from_text_vi(text)\n",
    "    return words\n",
    "\n",
    "def word_tokenize_from_list_vi_2(list_of_text):\n",
    "    words = []\n",
    "    for text in list_of_text:\n",
    "        words+=word_tokenize_from_text_vi_2(text)\n",
    "    return words\n",
    "\n",
    "tokenizeListVi = lambda x:word_tokenize_from_list_vi(x)\n",
    "tokenizeListVi2 = lambda x:word_tokenize_from_list_vi_2(x)"
   ]
  },
  {
   "cell_type": "code",
   "execution_count": 10,
   "metadata": {},
   "outputs": [],
   "source": [
    "df['tokenized_requirement'] = np.NaN"
   ]
  },
  {
   "cell_type": "code",
   "execution_count": null,
   "metadata": {},
   "outputs": [],
   "source": [
    "df.loc[df.language == 'vi','tokenized_requirement'] = df.loc[df.language == 'vi','requirement_list_cleaned'].apply(tokenizeListVi)"
   ]
  },
  {
   "cell_type": "code",
   "execution_count": 12,
   "metadata": {},
   "outputs": [],
   "source": [
    "df.loc[df.language == 'vi','tokenized_requirement_2'] = df.loc[df.language == 'vi','requirement_list_cleaned'].apply(tokenizeListVi2)"
   ]
  },
  {
   "cell_type": "markdown",
   "metadata": {},
   "source": [
    "### English\n",
    "\n",
    "Now tokenizing English is harsh:\n",
    "- remove step words\n",
    "- stem\n",
    "- so tokenizing basically break string into words\n",
    "May consider other methods"
   ]
  },
  {
   "cell_type": "markdown",
   "metadata": {},
   "source": [
    "#### Clean english a bit more"
   ]
  },
  {
   "cell_type": "code",
   "execution_count": 13,
   "metadata": {},
   "outputs": [],
   "source": [
    "import nltk\n",
    "from nltk.stem import PorterStemmer"
   ]
  },
  {
   "cell_type": "code",
   "execution_count": 14,
   "metadata": {},
   "outputs": [],
   "source": [
    "def remove_stop_from_string(text):\n",
    "    stopwords = nltk.corpus.stopwords.words('english')\n",
    "    return ' '.join([word for word in text.split() if word not in stopwords])\n",
    "    \n",
    "def remove_stop_from_string_for_list(list_of_text):\n",
    "    cleaned_list = []\n",
    "    for text in list_of_text:\n",
    "        cleaned_list.append(remove_stop_from_string(text))\n",
    "    return cleaned_list\n",
    "\n",
    "removeStopforListEn = lambda x: remove_stop_from_string_for_list(x)\n",
    "\n",
    "def porter_stemm(text):\n",
    "    porter_stemmer=PorterStemmer()\n",
    "    stemmed_words=[porter_stemmer.stem(word=word) for word in text.split()]\n",
    "# stemmed_words = set(stemmed_words)\n",
    "    return ' '.join(stemmed_words)\n",
    "\n",
    "def porter_stemm_for_list(list_of_text):\n",
    "    stemmed_list = []\n",
    "    for text in list_of_text:\n",
    "        stemmed_list.append(porter_stemm(text))\n",
    "    return stemmed_list\n",
    "\n",
    "porterStemmingListEn = lambda x:porter_stemm_for_list(x)"
   ]
  },
  {
   "cell_type": "code",
   "execution_count": 15,
   "metadata": {},
   "outputs": [],
   "source": [
    "df.loc[df.language == 'en','requirement_list_cleaned'] = df.loc[df.language == 'en','requirement_list_cleaned'].apply(removeStopforListEn)\n",
    "\n",
    "df.loc[df.language == 'en','requirement_list_cleaned'] = df.loc[df.language == 'en','requirement_list_cleaned'].apply(porterStemmingListEn)"
   ]
  },
  {
   "cell_type": "code",
   "execution_count": 16,
   "metadata": {},
   "outputs": [],
   "source": [
    "from nltk.tokenize import word_tokenize\n",
    "\n",
    "def word_tokenize_from_text_en(text):\n",
    "    return word_tokenize(text)\n",
    "\n",
    "def word_tokenize_from_list_en(list_of_text):\n",
    "    words = []\n",
    "    for text in list_of_text:\n",
    "        words += word_tokenize_from_text_en(text)\n",
    "    return words\n",
    "\n",
    "tokenizeListEn = lambda x:word_tokenize_from_list_en(x)"
   ]
  },
  {
   "cell_type": "code",
   "execution_count": 17,
   "metadata": {},
   "outputs": [],
   "source": [
    "df.loc[df.language == 'en','tokenized_requirement'] = df.loc[df.language == 'en','requirement_list_cleaned'].apply(tokenizeListEn)"
   ]
  },
  {
   "cell_type": "markdown",
   "metadata": {},
   "source": [
    "## Analyze requirement keywords"
   ]
  },
  {
   "cell_type": "code",
   "execution_count": null,
   "metadata": {},
   "outputs": [],
   "source": [
    "df"
   ]
  },
  {
   "cell_type": "code",
   "execution_count": null,
   "metadata": {},
   "outputs": [],
   "source": [
    "import itertools\n",
    "from collections import Counter"
   ]
  },
  {
   "cell_type": "code",
   "execution_count": null,
   "metadata": {},
   "outputs": [],
   "source": [
    "query_column = 'blue_or_white'\n",
    "query_word = 'blue'\n",
    "querydf = df.loc[df[query_column] == query_word]\n",
    "\n",
    "keywords = list(itertools.chain(*querydf.loc[:,'tokenized_requirement']))\n",
    "counts = Counter(keywords)\n",
    "\n"
   ]
  },
  {
   "cell_type": "code",
   "execution_count": null,
   "metadata": {},
   "outputs": [],
   "source": [
    "query_words_degree = ['trung cấp', 'trung học',  \n",
    "'không yêu cầu',\n",
    "                    'chứng chỉ', 'trung học phổ thông','trung cấp - nghề', \n",
    "                    'chứng chỉ chuyên ngành', 'lao động phổ thông', 'chứng chỉ - sơ cấp nghề',\n",
    "                    ]"
   ]
  },
  {
   "cell_type": "code",
   "execution_count": null,
   "metadata": {},
   "outputs": [],
   "source": [
    "keywords = {\n",
    "    'kn1-giaotiep': ['giao tiếp', 'đàm phán', 'thuyết phục', 'thuyết trình', 'thân thiện', 'rõ ràng',\n",
    "                    'trình bày', 'tác phong', 'lắng nghe', 'truyền đạt', 'cởi mở', 'khéo léo',\n",
    "                    'tương tác', 'tiếp thu', 'phản biện', 'hoạt ngôn', 'hòa nhã', 'thương thảo',\n",
    "                    'ứng xử', 'thương thuyết', 'tự nhiên', 'trôi chảy', 'rành mạch',\n",
    "                    'linh hoạt', 'hợp tác', 'ứng biến'],\n",
    "    'kn2-xahoi': ['nhóm', 'đàm phán', 'thuyết phục', 'thuyết trình', 'chăm sóc', 'khách hàng',\n",
    "                    'lãnh đạo', 'trình bày', 'thương lượng', 'phản biện'     ],\n",
    "    'kn3': [],\n",
    "    'kn4': [],\n",
    "    'kn5': [],\n",
    "    'kn6': [],\n",
    "    'kn7': []\n",
    "}"
   ]
  },
  {
   "cell_type": "code",
   "execution_count": null,
   "metadata": {},
   "outputs": [],
   "source": [
    "keywords2 = {\n",
    "    'kn1': ['giao_tiếp', 'đàm_phán', 'thuyết_phục', 'thuyết_trình', 'thân_thiện', 'rõ_ràng', 'trình_bày', \n",
    "                    'tác_phong','lắng_nghe', 'truyền_đạt', 'cởi_mở', 'khéo_léo', 'tương_tác', 'tiếp_thu', \n",
    "                    'phản_biện', 'hoạt_ngôn','hòa_nhã', 'thương_thảo', 'giao_tiếp_ứng_xử', 'thương_thuyết', \n",
    "                    'tự_nhiên','trôi_chảy','rành_mạch', 'giao_tiếp_linh_hoạt', 'giao_tiếp_hợp_tác', \n",
    "                    'giao_tiếp_ứng_biến'\n",
    "                    ],\n",
    "    'kn2': ['làm_việc nhóm', 'đàm_phán', 'thuyết_phục', 'thuyết_trình', 'chăm_sóc', \n",
    "                    'khách_hàng', 'lãnh_đạo', 'trình_bày', 'thương_lượng', 'phản_biện'],\n",
    "    'kn3': ['trung_thực', 'năng_động', 'nhanh_nhẹn', 'nhiệt_tình', 'cẩn_thận', 'tinh_thần trách_nhiệm', \n",
    "            'chủ_động', 'linh_hoạt', 'thái_độ', 'tự_tin', 'hòa_đồng', \n",
    "            'tác_phong chuyên_nghiệp'],\n",
    "    'kn4': ['excel', 'tin_học văn_phòng', 'word', 'vi_tính', 'vi_tính văn_phòng', 'ms office', 'microsoft office', \n",
    "                'microsoft word', 'microsoft excel'],\n",
    "    'kn5': ['phân_tích', 'giải_quyết vấn_đề', 'nhạy_bén', 'tư_duy logic', 'quyết_đoán', 'xử_lý vấn_đề', \n",
    "                'problem solving', 'ứng_biến', 'lập_luận', 'xử_lý_giải_quyết', 'nhìn_nhận', 'vấn_đề', 'đào_sâu'],\n",
    "\n",
    "    'kn6': ['làm_việc', 'độc_lập', 'chịu', 'được', 'áp_lực', 'công_việc', 'lãnh_đạo', \n",
    "                'quản_lý', 'thời_gian', 'kỹ_năng lập_kế_hoạch'],\n",
    "    'kn7': ['ngoại_ngữ','tiếng anh giao_tiếp','tiếng anh giao_tiếp','tiếng anh tốt',\n",
    "                'tiếng anh cơ_bản','tiếng anh thành_thạo','giao_tiếp tiếng anh cơ_bản']\n",
    "}"
   ]
  },
  {
   "cell_type": "code",
   "execution_count": null,
   "metadata": {},
   "outputs": [],
   "source": [
    "def count_keyword_frequency(df,query_column, query_value, path, save=False, ):\n",
    "    counts_df = pd.DataFrame()\n",
    "    for key in list(keywords2.keys()):\n",
    "        keywords = keywords2[key]\n",
    "        querydf = df.loc[df[query_column] == query_value]\n",
    "        querydf = querydf.loc[~df['tokenized_requirement_2'].isnull()]\n",
    "        \n",
    "        words = list(itertools.chain(*querydf.loc[:,'tokenized_requirement_2']))\n",
    "        counts = Counter(words)\n",
    "\n",
    "        counts_df_ = pd.DataFrame.from_dict(counts, orient='index').reset_index()\n",
    "        counts_df_.columns = ['keywords','count']\n",
    "\n",
    "        counts_df_ = counts_df_.loc[counts_df_['keywords'].isin(keywords)]\n",
    "        counts_df_ = counts_df_.sort_values('count',ascending=False).reset_index(drop=True)\n",
    "\n",
    "        counts_df = pd.concat([counts_df,counts_df_],axis=1)\n",
    "        # counts_df.to_excel(f\"counters/{query_column} - {query_value}.xlsx\", engine='xlsxwriter')\n",
    "\n",
    "        if save == True:\n",
    "            writer = pd.ExcelWriter(path, engine='openpyxl', if_sheet_exists='replace', mode='a')\n",
    "            counts_df.to_excel(writer, sheet_name = f\"{query_value}\",index=False)\n",
    "            writer.save()\n",
    "            writer.close()\n",
    "\n",
    "        \n",
    "    return counts_df"
   ]
  },
  {
   "cell_type": "code",
   "execution_count": null,
   "metadata": {},
   "outputs": [],
   "source": [
    "for d in query_words_degree:\n",
    "    count_keyword_frequency(df,'degree',d,path = 'counters/degree.xlsx', save=True)\n",
    "\n"
   ]
  },
  {
   "cell_type": "code",
   "execution_count": null,
   "metadata": {},
   "outputs": [],
   "source": [
    "def cleaner(text):\n",
    "    texts = text.split()\n",
    "    l = []\n",
    "    for t in texts:\n",
    "        l.append(re.sub('_',' ',t))\n",
    "    return l\n",
    "\n",
    "def cleaner_2(text):\n",
    "    texts = text.split()\n",
    "    return texts"
   ]
  },
  {
   "cell_type": "code",
   "execution_count": null,
   "metadata": {},
   "outputs": [],
   "source": [
    "t1 = 'giao_tiếp đàm_phán thuyết_phục thuyết_trình thân_thiện rõ_ràng trình_bày tác_phong lắng_nghe truyền_đạt cởi_mở \\\n",
    "    khéo_léo tương_tác tiếp_thu phản_biện hoạt_ngôn hòa_nhã thương_thảo giao_tiếp_ứng_xử thương_thuyết tự_nhiên \\\n",
    "        trôi_chảy rành_mạch giao_tiếp_linh_hoạt giao_tiếp_hợp_tác giao_tiếp_ứng_biến'\n",
    "\n",
    "t2 = 'làm_việc nhóm đàm_phán thuyết_phục thuyết_trình chăm_sóc khách_hàng lãnh_đạo trình_bày thương_lượng phản_biện'\n",
    "\n",
    "t3 = 'trung_thực năng_động nhanh_nhẹn nhiệt_tình cẩn_thận tinh_thần trách_nhiệm chủ_động linh_hoạt thái_độ tự_tin \\\n",
    "    hòa_đồng tác_phong chuyên_nghiệp'\n",
    "t4 = 'excel tin_học văn_phòng word vi_tính vi_tính văn_phòng ms office microsoft office microsoft word microsoft excel'\n",
    "\n",
    "t5 = 'phân_tích giải_quyết vấn_đề nhạy_bén tư_duy logic quyết_đoán xử_lý vấn_đề problem solving ứng_biến \\\n",
    "    lập_luận xử_lý_giải_quyết nhìn_nhận vấn_đề đào_sâu'\n",
    "\n",
    "\n",
    "t6 = 'phân_tích giải_quyết vấn_đề nhạy_bén tư_duy logic quyết_đoán xử_lý vấn_đề problem solving ứng_biến \\\n",
    "    lập_luận xử_lý_giải_quyết nhìn_nhận vấn_đề đào_sâu'\n",
    "\n",
    "t7 = 'làm_việc độc_lập chịu được áp_lực công_việc lãnh_đạo quản_lý thời_gian kỹ_năng lập_kế_hoạch'\n",
    "\n",
    "t8 = 'ngoại_ngữ tiếng anh giao_tiếp tiếng anh giao_tiếp tiếng anh tốt giao_tiếp tiếng anh tiếng anh cơ_bản \\\n",
    "    tiếng anh thành_thạo giao_tiếp tiếng anh cơ_bản'\n"
   ]
  },
  {
   "cell_type": "code",
   "execution_count": 18,
   "metadata": {},
   "outputs": [
    {
     "data": {
      "text/plain": [
       "Index(['url', 'title', 'salary', 'experiment', 'degree', 'so_luong',\n",
       "       'industry', 'location', 'level', 'jd', 'benefit', 'requirement',\n",
       "       'source', 'language', 'blue_or_white', 'requirement_list',\n",
       "       'requirement_list_cleaned', 'tokenized_requirement',\n",
       "       'tokenized_requirement_2'],\n",
       "      dtype='object')"
      ]
     },
     "execution_count": 18,
     "metadata": {},
     "output_type": "execute_result"
    }
   ],
   "source": [
    "# counts_df.to_excel(\"degree_keywords.xlsx\", engine='xlsxwriter')\n",
    "df.columns"
   ]
  },
  {
   "cell_type": "markdown",
   "metadata": {},
   "source": [
    "# Statistics"
   ]
  },
  {
   "cell_type": "code",
   "execution_count": 49,
   "metadata": {},
   "outputs": [
    {
     "data": {
      "text/plain": [
       "careerBuilder     23922\n",
       "topCV             23603\n",
       "jobsGo            18397\n",
       "sieuthivieclam    13964\n",
       "vietnamworks       7947\n",
       "vieclam24h         1102\n",
       "tuyencongnhan      1082\n",
       "timviecnhanh        980\n",
       "Name: source, dtype: int64"
      ]
     },
     "execution_count": 49,
     "metadata": {},
     "output_type": "execute_result"
    }
   ],
   "source": [
    "df.source.value_counts()\n",
    "# df.loc[df.language=='en'].source.value_counts()\n",
    "# df.shape"
   ]
  },
  {
   "cell_type": "code",
   "execution_count": 55,
   "metadata": {},
   "outputs": [
    {
     "data": {
      "text/plain": [
       "['en', 'en', 'en', 'en', 'en', 'en', 'en', 'en']"
      ]
     },
     "execution_count": 55,
     "metadata": {},
     "output_type": "execute_result"
    }
   ],
   "source": [
    "['en']*8"
   ]
  },
  {
   "cell_type": "code",
   "execution_count": 139,
   "metadata": {},
   "outputs": [
    {
     "data": {
      "application/vnd.plotly.v1+json": {
       "config": {
        "plotlyServerURL": "https://plot.ly"
       },
       "data": [
        {
         "branchvalues": "total",
         "ids": [
          "total",
          "vi",
          "en",
          "vi - vieclam24h",
          "vi - jobsGo",
          "vi - tuyencongnhan",
          "vi - topCV",
          "vi - careerBuilder",
          "vi - timviecnhanh",
          "vi - vietnamworks",
          "vi - sieuthivieclam",
          "en - vieclam24h",
          "en - jobsGo",
          "en - tuyencongnhan",
          "en - topCV",
          "en - careerBuilder",
          "en - timviecnhanh",
          "en - vietnamworks",
          "en - sieuthivieclam"
         ],
         "labels": [
          "total",
          "vi",
          "en",
          "vieclam24h",
          "jobsGo",
          "tuyencongnhan",
          "topCV",
          "careerBuilder",
          "timviecnhanh",
          "vietnamworks",
          "sieuthivieclam",
          "vieclam24h",
          "jobsGo",
          "tuyencongnhan",
          "topCV",
          "careerBuilder",
          "timviecnhanh",
          "vietnamworks",
          "sieuthivieclam"
         ],
         "parents": [
          "",
          "total",
          "total",
          "vi",
          "vi",
          "vi",
          "vi",
          "vi",
          "vi",
          "vi",
          "vi",
          "en",
          "en",
          "en",
          "en",
          "en",
          "en",
          "en",
          "en"
         ],
         "type": "sunburst",
         "values": [
          90997,
          78523,
          12474,
          1093,
          15586,
          1056,
          22308,
          19351,
          976,
          4197,
          13956,
          9,
          2811,
          26,
          1295,
          4571,
          4,
          3750,
          8
         ]
        }
       ],
       "layout": {
        "margin": {
         "b": 0,
         "l": 0,
         "r": 0,
         "t": 0
        },
        "template": {
         "data": {
          "bar": [
           {
            "error_x": {
             "color": "#2a3f5f"
            },
            "error_y": {
             "color": "#2a3f5f"
            },
            "marker": {
             "line": {
              "color": "#E5ECF6",
              "width": 0.5
             },
             "pattern": {
              "fillmode": "overlay",
              "size": 10,
              "solidity": 0.2
             }
            },
            "type": "bar"
           }
          ],
          "barpolar": [
           {
            "marker": {
             "line": {
              "color": "#E5ECF6",
              "width": 0.5
             },
             "pattern": {
              "fillmode": "overlay",
              "size": 10,
              "solidity": 0.2
             }
            },
            "type": "barpolar"
           }
          ],
          "carpet": [
           {
            "aaxis": {
             "endlinecolor": "#2a3f5f",
             "gridcolor": "white",
             "linecolor": "white",
             "minorgridcolor": "white",
             "startlinecolor": "#2a3f5f"
            },
            "baxis": {
             "endlinecolor": "#2a3f5f",
             "gridcolor": "white",
             "linecolor": "white",
             "minorgridcolor": "white",
             "startlinecolor": "#2a3f5f"
            },
            "type": "carpet"
           }
          ],
          "choropleth": [
           {
            "colorbar": {
             "outlinewidth": 0,
             "ticks": ""
            },
            "type": "choropleth"
           }
          ],
          "contour": [
           {
            "colorbar": {
             "outlinewidth": 0,
             "ticks": ""
            },
            "colorscale": [
             [
              0,
              "#0d0887"
             ],
             [
              0.1111111111111111,
              "#46039f"
             ],
             [
              0.2222222222222222,
              "#7201a8"
             ],
             [
              0.3333333333333333,
              "#9c179e"
             ],
             [
              0.4444444444444444,
              "#bd3786"
             ],
             [
              0.5555555555555556,
              "#d8576b"
             ],
             [
              0.6666666666666666,
              "#ed7953"
             ],
             [
              0.7777777777777778,
              "#fb9f3a"
             ],
             [
              0.8888888888888888,
              "#fdca26"
             ],
             [
              1,
              "#f0f921"
             ]
            ],
            "type": "contour"
           }
          ],
          "contourcarpet": [
           {
            "colorbar": {
             "outlinewidth": 0,
             "ticks": ""
            },
            "type": "contourcarpet"
           }
          ],
          "heatmap": [
           {
            "colorbar": {
             "outlinewidth": 0,
             "ticks": ""
            },
            "colorscale": [
             [
              0,
              "#0d0887"
             ],
             [
              0.1111111111111111,
              "#46039f"
             ],
             [
              0.2222222222222222,
              "#7201a8"
             ],
             [
              0.3333333333333333,
              "#9c179e"
             ],
             [
              0.4444444444444444,
              "#bd3786"
             ],
             [
              0.5555555555555556,
              "#d8576b"
             ],
             [
              0.6666666666666666,
              "#ed7953"
             ],
             [
              0.7777777777777778,
              "#fb9f3a"
             ],
             [
              0.8888888888888888,
              "#fdca26"
             ],
             [
              1,
              "#f0f921"
             ]
            ],
            "type": "heatmap"
           }
          ],
          "heatmapgl": [
           {
            "colorbar": {
             "outlinewidth": 0,
             "ticks": ""
            },
            "colorscale": [
             [
              0,
              "#0d0887"
             ],
             [
              0.1111111111111111,
              "#46039f"
             ],
             [
              0.2222222222222222,
              "#7201a8"
             ],
             [
              0.3333333333333333,
              "#9c179e"
             ],
             [
              0.4444444444444444,
              "#bd3786"
             ],
             [
              0.5555555555555556,
              "#d8576b"
             ],
             [
              0.6666666666666666,
              "#ed7953"
             ],
             [
              0.7777777777777778,
              "#fb9f3a"
             ],
             [
              0.8888888888888888,
              "#fdca26"
             ],
             [
              1,
              "#f0f921"
             ]
            ],
            "type": "heatmapgl"
           }
          ],
          "histogram": [
           {
            "marker": {
             "pattern": {
              "fillmode": "overlay",
              "size": 10,
              "solidity": 0.2
             }
            },
            "type": "histogram"
           }
          ],
          "histogram2d": [
           {
            "colorbar": {
             "outlinewidth": 0,
             "ticks": ""
            },
            "colorscale": [
             [
              0,
              "#0d0887"
             ],
             [
              0.1111111111111111,
              "#46039f"
             ],
             [
              0.2222222222222222,
              "#7201a8"
             ],
             [
              0.3333333333333333,
              "#9c179e"
             ],
             [
              0.4444444444444444,
              "#bd3786"
             ],
             [
              0.5555555555555556,
              "#d8576b"
             ],
             [
              0.6666666666666666,
              "#ed7953"
             ],
             [
              0.7777777777777778,
              "#fb9f3a"
             ],
             [
              0.8888888888888888,
              "#fdca26"
             ],
             [
              1,
              "#f0f921"
             ]
            ],
            "type": "histogram2d"
           }
          ],
          "histogram2dcontour": [
           {
            "colorbar": {
             "outlinewidth": 0,
             "ticks": ""
            },
            "colorscale": [
             [
              0,
              "#0d0887"
             ],
             [
              0.1111111111111111,
              "#46039f"
             ],
             [
              0.2222222222222222,
              "#7201a8"
             ],
             [
              0.3333333333333333,
              "#9c179e"
             ],
             [
              0.4444444444444444,
              "#bd3786"
             ],
             [
              0.5555555555555556,
              "#d8576b"
             ],
             [
              0.6666666666666666,
              "#ed7953"
             ],
             [
              0.7777777777777778,
              "#fb9f3a"
             ],
             [
              0.8888888888888888,
              "#fdca26"
             ],
             [
              1,
              "#f0f921"
             ]
            ],
            "type": "histogram2dcontour"
           }
          ],
          "mesh3d": [
           {
            "colorbar": {
             "outlinewidth": 0,
             "ticks": ""
            },
            "type": "mesh3d"
           }
          ],
          "parcoords": [
           {
            "line": {
             "colorbar": {
              "outlinewidth": 0,
              "ticks": ""
             }
            },
            "type": "parcoords"
           }
          ],
          "pie": [
           {
            "automargin": true,
            "type": "pie"
           }
          ],
          "scatter": [
           {
            "marker": {
             "colorbar": {
              "outlinewidth": 0,
              "ticks": ""
             }
            },
            "type": "scatter"
           }
          ],
          "scatter3d": [
           {
            "line": {
             "colorbar": {
              "outlinewidth": 0,
              "ticks": ""
             }
            },
            "marker": {
             "colorbar": {
              "outlinewidth": 0,
              "ticks": ""
             }
            },
            "type": "scatter3d"
           }
          ],
          "scattercarpet": [
           {
            "marker": {
             "colorbar": {
              "outlinewidth": 0,
              "ticks": ""
             }
            },
            "type": "scattercarpet"
           }
          ],
          "scattergeo": [
           {
            "marker": {
             "colorbar": {
              "outlinewidth": 0,
              "ticks": ""
             }
            },
            "type": "scattergeo"
           }
          ],
          "scattergl": [
           {
            "marker": {
             "colorbar": {
              "outlinewidth": 0,
              "ticks": ""
             }
            },
            "type": "scattergl"
           }
          ],
          "scattermapbox": [
           {
            "marker": {
             "colorbar": {
              "outlinewidth": 0,
              "ticks": ""
             }
            },
            "type": "scattermapbox"
           }
          ],
          "scatterpolar": [
           {
            "marker": {
             "colorbar": {
              "outlinewidth": 0,
              "ticks": ""
             }
            },
            "type": "scatterpolar"
           }
          ],
          "scatterpolargl": [
           {
            "marker": {
             "colorbar": {
              "outlinewidth": 0,
              "ticks": ""
             }
            },
            "type": "scatterpolargl"
           }
          ],
          "scatterternary": [
           {
            "marker": {
             "colorbar": {
              "outlinewidth": 0,
              "ticks": ""
             }
            },
            "type": "scatterternary"
           }
          ],
          "surface": [
           {
            "colorbar": {
             "outlinewidth": 0,
             "ticks": ""
            },
            "colorscale": [
             [
              0,
              "#0d0887"
             ],
             [
              0.1111111111111111,
              "#46039f"
             ],
             [
              0.2222222222222222,
              "#7201a8"
             ],
             [
              0.3333333333333333,
              "#9c179e"
             ],
             [
              0.4444444444444444,
              "#bd3786"
             ],
             [
              0.5555555555555556,
              "#d8576b"
             ],
             [
              0.6666666666666666,
              "#ed7953"
             ],
             [
              0.7777777777777778,
              "#fb9f3a"
             ],
             [
              0.8888888888888888,
              "#fdca26"
             ],
             [
              1,
              "#f0f921"
             ]
            ],
            "type": "surface"
           }
          ],
          "table": [
           {
            "cells": {
             "fill": {
              "color": "#EBF0F8"
             },
             "line": {
              "color": "white"
             }
            },
            "header": {
             "fill": {
              "color": "#C8D4E3"
             },
             "line": {
              "color": "white"
             }
            },
            "type": "table"
           }
          ]
         },
         "layout": {
          "annotationdefaults": {
           "arrowcolor": "#2a3f5f",
           "arrowhead": 0,
           "arrowwidth": 1
          },
          "autotypenumbers": "strict",
          "coloraxis": {
           "colorbar": {
            "outlinewidth": 0,
            "ticks": ""
           }
          },
          "colorscale": {
           "diverging": [
            [
             0,
             "#8e0152"
            ],
            [
             0.1,
             "#c51b7d"
            ],
            [
             0.2,
             "#de77ae"
            ],
            [
             0.3,
             "#f1b6da"
            ],
            [
             0.4,
             "#fde0ef"
            ],
            [
             0.5,
             "#f7f7f7"
            ],
            [
             0.6,
             "#e6f5d0"
            ],
            [
             0.7,
             "#b8e186"
            ],
            [
             0.8,
             "#7fbc41"
            ],
            [
             0.9,
             "#4d9221"
            ],
            [
             1,
             "#276419"
            ]
           ],
           "sequential": [
            [
             0,
             "#0d0887"
            ],
            [
             0.1111111111111111,
             "#46039f"
            ],
            [
             0.2222222222222222,
             "#7201a8"
            ],
            [
             0.3333333333333333,
             "#9c179e"
            ],
            [
             0.4444444444444444,
             "#bd3786"
            ],
            [
             0.5555555555555556,
             "#d8576b"
            ],
            [
             0.6666666666666666,
             "#ed7953"
            ],
            [
             0.7777777777777778,
             "#fb9f3a"
            ],
            [
             0.8888888888888888,
             "#fdca26"
            ],
            [
             1,
             "#f0f921"
            ]
           ],
           "sequentialminus": [
            [
             0,
             "#0d0887"
            ],
            [
             0.1111111111111111,
             "#46039f"
            ],
            [
             0.2222222222222222,
             "#7201a8"
            ],
            [
             0.3333333333333333,
             "#9c179e"
            ],
            [
             0.4444444444444444,
             "#bd3786"
            ],
            [
             0.5555555555555556,
             "#d8576b"
            ],
            [
             0.6666666666666666,
             "#ed7953"
            ],
            [
             0.7777777777777778,
             "#fb9f3a"
            ],
            [
             0.8888888888888888,
             "#fdca26"
            ],
            [
             1,
             "#f0f921"
            ]
           ]
          },
          "colorway": [
           "#636efa",
           "#EF553B",
           "#00cc96",
           "#ab63fa",
           "#FFA15A",
           "#19d3f3",
           "#FF6692",
           "#B6E880",
           "#FF97FF",
           "#FECB52"
          ],
          "font": {
           "color": "#2a3f5f"
          },
          "geo": {
           "bgcolor": "white",
           "lakecolor": "white",
           "landcolor": "#E5ECF6",
           "showlakes": true,
           "showland": true,
           "subunitcolor": "white"
          },
          "hoverlabel": {
           "align": "left"
          },
          "hovermode": "closest",
          "mapbox": {
           "style": "light"
          },
          "paper_bgcolor": "white",
          "plot_bgcolor": "#E5ECF6",
          "polar": {
           "angularaxis": {
            "gridcolor": "white",
            "linecolor": "white",
            "ticks": ""
           },
           "bgcolor": "#E5ECF6",
           "radialaxis": {
            "gridcolor": "white",
            "linecolor": "white",
            "ticks": ""
           }
          },
          "scene": {
           "xaxis": {
            "backgroundcolor": "#E5ECF6",
            "gridcolor": "white",
            "gridwidth": 2,
            "linecolor": "white",
            "showbackground": true,
            "ticks": "",
            "zerolinecolor": "white"
           },
           "yaxis": {
            "backgroundcolor": "#E5ECF6",
            "gridcolor": "white",
            "gridwidth": 2,
            "linecolor": "white",
            "showbackground": true,
            "ticks": "",
            "zerolinecolor": "white"
           },
           "zaxis": {
            "backgroundcolor": "#E5ECF6",
            "gridcolor": "white",
            "gridwidth": 2,
            "linecolor": "white",
            "showbackground": true,
            "ticks": "",
            "zerolinecolor": "white"
           }
          },
          "shapedefaults": {
           "line": {
            "color": "#2a3f5f"
           }
          },
          "ternary": {
           "aaxis": {
            "gridcolor": "white",
            "linecolor": "white",
            "ticks": ""
           },
           "baxis": {
            "gridcolor": "white",
            "linecolor": "white",
            "ticks": ""
           },
           "bgcolor": "#E5ECF6",
           "caxis": {
            "gridcolor": "white",
            "linecolor": "white",
            "ticks": ""
           }
          },
          "title": {
           "x": 0.05
          },
          "xaxis": {
           "automargin": true,
           "gridcolor": "white",
           "linecolor": "white",
           "ticks": "",
           "title": {
            "standoff": 15
           },
           "zerolinecolor": "white",
           "zerolinewidth": 2
          },
          "yaxis": {
           "automargin": true,
           "gridcolor": "white",
           "linecolor": "white",
           "ticks": "",
           "title": {
            "standoff": 15
           },
           "zerolinecolor": "white",
           "zerolinewidth": 2
          }
         }
        }
       }
      }
     },
     "metadata": {},
     "output_type": "display_data"
    }
   ],
   "source": [
    "import plotly.graph_objects as go\n",
    "ids = ['total','vi','en'] + list('vi - '+df.source.unique()) + list('en - '+df.source.unique()) \n",
    "labels = ['total','vi','en'] + list(''+df.source.unique()) +list(''+df.source.unique()) \n",
    "parents = ['','total','total'] + ['vi']*8 + ['en']*8\n",
    "\n",
    "values = [df.shape[0]] + [df.loc[df.language=='vi'].shape[0]] + [df.loc[df.language=='en'].shape[0]]\n",
    "\n",
    "for source in df.source.unique():\n",
    "    values.append(df.loc[(df.source==source) & (df.language == 'vi')].shape[0])\n",
    "\n",
    "for source in df.source.unique():\n",
    "    values.append(df.loc[(df.source==source) & (df.language == 'en')].shape[0])\n",
    "\n",
    "fig =go.Figure(go.Sunburst(\n",
    " ids=ids,\n",
    "  labels= labels,\n",
    "  parents=parents,\n",
    "  values = values,\n",
    "  branchvalues=\"total\",\n",
    "))\n",
    "fig.update_layout(margin = dict(t=0, l=0, r=0, b=0))\n",
    "\n",
    "fig.show()"
   ]
  },
  {
   "cell_type": "code",
   "execution_count": 151,
   "metadata": {},
   "outputs": [
    {
     "data": {
      "application/vnd.plotly.v1+json": {
       "config": {
        "plotlyServerURL": "https://plot.ly"
       },
       "data": [
        {
         "branchvalues": "total",
         "domain": {
          "x": [
           0,
           0.45
          ],
          "y": [
           0,
           1
          ]
         },
         "ids": [
          "total",
          "vi",
          "en",
          "vi - vieclam24h",
          "vi - jobsGo",
          "vi - tuyencongnhan",
          "vi - topCV",
          "vi - careerBuilder",
          "vi - timviecnhanh",
          "vi - vietnamworks",
          "vi - sieuthivieclam",
          "en - vieclam24h",
          "en - jobsGo",
          "en - tuyencongnhan",
          "en - topCV",
          "en - careerBuilder",
          "en - timviecnhanh",
          "en - vietnamworks",
          "en - sieuthivieclam"
         ],
         "labels": [
          "Total 90997 jobs",
          "vi",
          "en",
          "vieclam24h",
          "jobsGo",
          "tuyencongnhan",
          "topCV",
          "careerBuilder",
          "timviecnhanh",
          "vietnamworks",
          "sieuthivieclam",
          "vieclam24h",
          "jobsGo",
          "tuyencongnhan",
          "topCV",
          "careerBuilder",
          "timviecnhanh",
          "vietnamworks",
          "sieuthivieclam"
         ],
         "parents": [
          "",
          "total",
          "total",
          "vi",
          "vi",
          "vi",
          "vi",
          "vi",
          "vi",
          "vi",
          "vi",
          "en",
          "en",
          "en",
          "en",
          "en",
          "en",
          "en",
          "en"
         ],
         "type": "sunburst",
         "values": [
          90997,
          78523,
          12474,
          1093,
          15586,
          1056,
          22308,
          19351,
          976,
          4197,
          13956,
          9,
          2811,
          26,
          1295,
          4571,
          4,
          3750,
          8
         ]
        },
        {
         "branchvalues": "total",
         "domain": {
          "x": [
           0.55,
           1
          ],
          "y": [
           0,
           1
          ]
         },
         "ids": [
          "total",
          "vieclam24h",
          "jobsGo",
          "tuyencongnhan",
          "topCV",
          "careerBuilder",
          "timviecnhanh",
          "vietnamworks",
          "sieuthivieclam",
          "vieclam24h - en",
          "jobsGo - en",
          "tuyencongnhan - en",
          "topCV - en",
          "careerBuilder - en",
          "timviecnhanh - en",
          "vietnamworks - en",
          "sieuthivieclam - en",
          "vieclam24h - vi",
          "jobsGo - vi",
          "tuyencongnhan - vi",
          "topCV - vi",
          "careerBuilder - vi",
          "timviecnhanh - vi",
          "vietnamworks - vi",
          "sieuthivieclam - vi"
         ],
         "labels": [
          "Total 90997 jobs",
          "vieclam24h",
          "jobsGo",
          "tuyencongnhan",
          "topCV",
          "careerBuilder",
          "timviecnhanh",
          "vietnamworks",
          "sieuthivieclam",
          "en",
          "en",
          "en",
          "en",
          "en",
          "en",
          "en",
          "en",
          "vi",
          "vi",
          "vi",
          "vi",
          "vi",
          "vi",
          "vi",
          "vi"
         ],
         "parents": [
          "",
          "total",
          "total",
          "total",
          "total",
          "total",
          "total",
          "total",
          "total",
          "vieclam24h",
          "jobsGo",
          "tuyencongnhan",
          "topCV",
          "careerBuilder",
          "timviecnhanh",
          "vietnamworks",
          "sieuthivieclam",
          "vieclam24h",
          "jobsGo",
          "tuyencongnhan",
          "topCV",
          "careerBuilder",
          "timviecnhanh",
          "vietnamworks",
          "sieuthivieclam"
         ],
         "type": "sunburst",
         "values": [
          90997,
          1102,
          18397,
          1082,
          23603,
          23922,
          980,
          7947,
          13964,
          9,
          2811,
          26,
          1295,
          4571,
          4,
          3750,
          8,
          1093,
          15586,
          1056,
          22308,
          19351,
          976,
          4197,
          13956
         ]
        }
       ],
       "layout": {
        "grid": {
         "columns": 2,
         "rows": 1
        },
        "height": 600,
        "margin": {
         "b": 1,
         "l": 30,
         "r": 30,
         "t": 1
        },
        "template": {
         "data": {
          "bar": [
           {
            "error_x": {
             "color": "#2a3f5f"
            },
            "error_y": {
             "color": "#2a3f5f"
            },
            "marker": {
             "line": {
              "color": "#E5ECF6",
              "width": 0.5
             },
             "pattern": {
              "fillmode": "overlay",
              "size": 10,
              "solidity": 0.2
             }
            },
            "type": "bar"
           }
          ],
          "barpolar": [
           {
            "marker": {
             "line": {
              "color": "#E5ECF6",
              "width": 0.5
             },
             "pattern": {
              "fillmode": "overlay",
              "size": 10,
              "solidity": 0.2
             }
            },
            "type": "barpolar"
           }
          ],
          "carpet": [
           {
            "aaxis": {
             "endlinecolor": "#2a3f5f",
             "gridcolor": "white",
             "linecolor": "white",
             "minorgridcolor": "white",
             "startlinecolor": "#2a3f5f"
            },
            "baxis": {
             "endlinecolor": "#2a3f5f",
             "gridcolor": "white",
             "linecolor": "white",
             "minorgridcolor": "white",
             "startlinecolor": "#2a3f5f"
            },
            "type": "carpet"
           }
          ],
          "choropleth": [
           {
            "colorbar": {
             "outlinewidth": 0,
             "ticks": ""
            },
            "type": "choropleth"
           }
          ],
          "contour": [
           {
            "colorbar": {
             "outlinewidth": 0,
             "ticks": ""
            },
            "colorscale": [
             [
              0,
              "#0d0887"
             ],
             [
              0.1111111111111111,
              "#46039f"
             ],
             [
              0.2222222222222222,
              "#7201a8"
             ],
             [
              0.3333333333333333,
              "#9c179e"
             ],
             [
              0.4444444444444444,
              "#bd3786"
             ],
             [
              0.5555555555555556,
              "#d8576b"
             ],
             [
              0.6666666666666666,
              "#ed7953"
             ],
             [
              0.7777777777777778,
              "#fb9f3a"
             ],
             [
              0.8888888888888888,
              "#fdca26"
             ],
             [
              1,
              "#f0f921"
             ]
            ],
            "type": "contour"
           }
          ],
          "contourcarpet": [
           {
            "colorbar": {
             "outlinewidth": 0,
             "ticks": ""
            },
            "type": "contourcarpet"
           }
          ],
          "heatmap": [
           {
            "colorbar": {
             "outlinewidth": 0,
             "ticks": ""
            },
            "colorscale": [
             [
              0,
              "#0d0887"
             ],
             [
              0.1111111111111111,
              "#46039f"
             ],
             [
              0.2222222222222222,
              "#7201a8"
             ],
             [
              0.3333333333333333,
              "#9c179e"
             ],
             [
              0.4444444444444444,
              "#bd3786"
             ],
             [
              0.5555555555555556,
              "#d8576b"
             ],
             [
              0.6666666666666666,
              "#ed7953"
             ],
             [
              0.7777777777777778,
              "#fb9f3a"
             ],
             [
              0.8888888888888888,
              "#fdca26"
             ],
             [
              1,
              "#f0f921"
             ]
            ],
            "type": "heatmap"
           }
          ],
          "heatmapgl": [
           {
            "colorbar": {
             "outlinewidth": 0,
             "ticks": ""
            },
            "colorscale": [
             [
              0,
              "#0d0887"
             ],
             [
              0.1111111111111111,
              "#46039f"
             ],
             [
              0.2222222222222222,
              "#7201a8"
             ],
             [
              0.3333333333333333,
              "#9c179e"
             ],
             [
              0.4444444444444444,
              "#bd3786"
             ],
             [
              0.5555555555555556,
              "#d8576b"
             ],
             [
              0.6666666666666666,
              "#ed7953"
             ],
             [
              0.7777777777777778,
              "#fb9f3a"
             ],
             [
              0.8888888888888888,
              "#fdca26"
             ],
             [
              1,
              "#f0f921"
             ]
            ],
            "type": "heatmapgl"
           }
          ],
          "histogram": [
           {
            "marker": {
             "pattern": {
              "fillmode": "overlay",
              "size": 10,
              "solidity": 0.2
             }
            },
            "type": "histogram"
           }
          ],
          "histogram2d": [
           {
            "colorbar": {
             "outlinewidth": 0,
             "ticks": ""
            },
            "colorscale": [
             [
              0,
              "#0d0887"
             ],
             [
              0.1111111111111111,
              "#46039f"
             ],
             [
              0.2222222222222222,
              "#7201a8"
             ],
             [
              0.3333333333333333,
              "#9c179e"
             ],
             [
              0.4444444444444444,
              "#bd3786"
             ],
             [
              0.5555555555555556,
              "#d8576b"
             ],
             [
              0.6666666666666666,
              "#ed7953"
             ],
             [
              0.7777777777777778,
              "#fb9f3a"
             ],
             [
              0.8888888888888888,
              "#fdca26"
             ],
             [
              1,
              "#f0f921"
             ]
            ],
            "type": "histogram2d"
           }
          ],
          "histogram2dcontour": [
           {
            "colorbar": {
             "outlinewidth": 0,
             "ticks": ""
            },
            "colorscale": [
             [
              0,
              "#0d0887"
             ],
             [
              0.1111111111111111,
              "#46039f"
             ],
             [
              0.2222222222222222,
              "#7201a8"
             ],
             [
              0.3333333333333333,
              "#9c179e"
             ],
             [
              0.4444444444444444,
              "#bd3786"
             ],
             [
              0.5555555555555556,
              "#d8576b"
             ],
             [
              0.6666666666666666,
              "#ed7953"
             ],
             [
              0.7777777777777778,
              "#fb9f3a"
             ],
             [
              0.8888888888888888,
              "#fdca26"
             ],
             [
              1,
              "#f0f921"
             ]
            ],
            "type": "histogram2dcontour"
           }
          ],
          "mesh3d": [
           {
            "colorbar": {
             "outlinewidth": 0,
             "ticks": ""
            },
            "type": "mesh3d"
           }
          ],
          "parcoords": [
           {
            "line": {
             "colorbar": {
              "outlinewidth": 0,
              "ticks": ""
             }
            },
            "type": "parcoords"
           }
          ],
          "pie": [
           {
            "automargin": true,
            "type": "pie"
           }
          ],
          "scatter": [
           {
            "marker": {
             "colorbar": {
              "outlinewidth": 0,
              "ticks": ""
             }
            },
            "type": "scatter"
           }
          ],
          "scatter3d": [
           {
            "line": {
             "colorbar": {
              "outlinewidth": 0,
              "ticks": ""
             }
            },
            "marker": {
             "colorbar": {
              "outlinewidth": 0,
              "ticks": ""
             }
            },
            "type": "scatter3d"
           }
          ],
          "scattercarpet": [
           {
            "marker": {
             "colorbar": {
              "outlinewidth": 0,
              "ticks": ""
             }
            },
            "type": "scattercarpet"
           }
          ],
          "scattergeo": [
           {
            "marker": {
             "colorbar": {
              "outlinewidth": 0,
              "ticks": ""
             }
            },
            "type": "scattergeo"
           }
          ],
          "scattergl": [
           {
            "marker": {
             "colorbar": {
              "outlinewidth": 0,
              "ticks": ""
             }
            },
            "type": "scattergl"
           }
          ],
          "scattermapbox": [
           {
            "marker": {
             "colorbar": {
              "outlinewidth": 0,
              "ticks": ""
             }
            },
            "type": "scattermapbox"
           }
          ],
          "scatterpolar": [
           {
            "marker": {
             "colorbar": {
              "outlinewidth": 0,
              "ticks": ""
             }
            },
            "type": "scatterpolar"
           }
          ],
          "scatterpolargl": [
           {
            "marker": {
             "colorbar": {
              "outlinewidth": 0,
              "ticks": ""
             }
            },
            "type": "scatterpolargl"
           }
          ],
          "scatterternary": [
           {
            "marker": {
             "colorbar": {
              "outlinewidth": 0,
              "ticks": ""
             }
            },
            "type": "scatterternary"
           }
          ],
          "surface": [
           {
            "colorbar": {
             "outlinewidth": 0,
             "ticks": ""
            },
            "colorscale": [
             [
              0,
              "#0d0887"
             ],
             [
              0.1111111111111111,
              "#46039f"
             ],
             [
              0.2222222222222222,
              "#7201a8"
             ],
             [
              0.3333333333333333,
              "#9c179e"
             ],
             [
              0.4444444444444444,
              "#bd3786"
             ],
             [
              0.5555555555555556,
              "#d8576b"
             ],
             [
              0.6666666666666666,
              "#ed7953"
             ],
             [
              0.7777777777777778,
              "#fb9f3a"
             ],
             [
              0.8888888888888888,
              "#fdca26"
             ],
             [
              1,
              "#f0f921"
             ]
            ],
            "type": "surface"
           }
          ],
          "table": [
           {
            "cells": {
             "fill": {
              "color": "#EBF0F8"
             },
             "line": {
              "color": "white"
             }
            },
            "header": {
             "fill": {
              "color": "#C8D4E3"
             },
             "line": {
              "color": "white"
             }
            },
            "type": "table"
           }
          ]
         },
         "layout": {
          "annotationdefaults": {
           "arrowcolor": "#2a3f5f",
           "arrowhead": 0,
           "arrowwidth": 1
          },
          "autotypenumbers": "strict",
          "coloraxis": {
           "colorbar": {
            "outlinewidth": 0,
            "ticks": ""
           }
          },
          "colorscale": {
           "diverging": [
            [
             0,
             "#8e0152"
            ],
            [
             0.1,
             "#c51b7d"
            ],
            [
             0.2,
             "#de77ae"
            ],
            [
             0.3,
             "#f1b6da"
            ],
            [
             0.4,
             "#fde0ef"
            ],
            [
             0.5,
             "#f7f7f7"
            ],
            [
             0.6,
             "#e6f5d0"
            ],
            [
             0.7,
             "#b8e186"
            ],
            [
             0.8,
             "#7fbc41"
            ],
            [
             0.9,
             "#4d9221"
            ],
            [
             1,
             "#276419"
            ]
           ],
           "sequential": [
            [
             0,
             "#0d0887"
            ],
            [
             0.1111111111111111,
             "#46039f"
            ],
            [
             0.2222222222222222,
             "#7201a8"
            ],
            [
             0.3333333333333333,
             "#9c179e"
            ],
            [
             0.4444444444444444,
             "#bd3786"
            ],
            [
             0.5555555555555556,
             "#d8576b"
            ],
            [
             0.6666666666666666,
             "#ed7953"
            ],
            [
             0.7777777777777778,
             "#fb9f3a"
            ],
            [
             0.8888888888888888,
             "#fdca26"
            ],
            [
             1,
             "#f0f921"
            ]
           ],
           "sequentialminus": [
            [
             0,
             "#0d0887"
            ],
            [
             0.1111111111111111,
             "#46039f"
            ],
            [
             0.2222222222222222,
             "#7201a8"
            ],
            [
             0.3333333333333333,
             "#9c179e"
            ],
            [
             0.4444444444444444,
             "#bd3786"
            ],
            [
             0.5555555555555556,
             "#d8576b"
            ],
            [
             0.6666666666666666,
             "#ed7953"
            ],
            [
             0.7777777777777778,
             "#fb9f3a"
            ],
            [
             0.8888888888888888,
             "#fdca26"
            ],
            [
             1,
             "#f0f921"
            ]
           ]
          },
          "colorway": [
           "#636efa",
           "#EF553B",
           "#00cc96",
           "#ab63fa",
           "#FFA15A",
           "#19d3f3",
           "#FF6692",
           "#B6E880",
           "#FF97FF",
           "#FECB52"
          ],
          "font": {
           "color": "#2a3f5f"
          },
          "geo": {
           "bgcolor": "white",
           "lakecolor": "white",
           "landcolor": "#E5ECF6",
           "showlakes": true,
           "showland": true,
           "subunitcolor": "white"
          },
          "hoverlabel": {
           "align": "left"
          },
          "hovermode": "closest",
          "mapbox": {
           "style": "light"
          },
          "paper_bgcolor": "white",
          "plot_bgcolor": "#E5ECF6",
          "polar": {
           "angularaxis": {
            "gridcolor": "white",
            "linecolor": "white",
            "ticks": ""
           },
           "bgcolor": "#E5ECF6",
           "radialaxis": {
            "gridcolor": "white",
            "linecolor": "white",
            "ticks": ""
           }
          },
          "scene": {
           "xaxis": {
            "backgroundcolor": "#E5ECF6",
            "gridcolor": "white",
            "gridwidth": 2,
            "linecolor": "white",
            "showbackground": true,
            "ticks": "",
            "zerolinecolor": "white"
           },
           "yaxis": {
            "backgroundcolor": "#E5ECF6",
            "gridcolor": "white",
            "gridwidth": 2,
            "linecolor": "white",
            "showbackground": true,
            "ticks": "",
            "zerolinecolor": "white"
           },
           "zaxis": {
            "backgroundcolor": "#E5ECF6",
            "gridcolor": "white",
            "gridwidth": 2,
            "linecolor": "white",
            "showbackground": true,
            "ticks": "",
            "zerolinecolor": "white"
           }
          },
          "shapedefaults": {
           "line": {
            "color": "#2a3f5f"
           }
          },
          "ternary": {
           "aaxis": {
            "gridcolor": "white",
            "linecolor": "white",
            "ticks": ""
           },
           "baxis": {
            "gridcolor": "white",
            "linecolor": "white",
            "ticks": ""
           },
           "bgcolor": "#E5ECF6",
           "caxis": {
            "gridcolor": "white",
            "linecolor": "white",
            "ticks": ""
           }
          },
          "title": {
           "x": 0.05
          },
          "xaxis": {
           "automargin": true,
           "gridcolor": "white",
           "linecolor": "white",
           "ticks": "",
           "title": {
            "standoff": 15
           },
           "zerolinecolor": "white",
           "zerolinewidth": 2
          },
          "yaxis": {
           "automargin": true,
           "gridcolor": "white",
           "linecolor": "white",
           "ticks": "",
           "title": {
            "standoff": 15
           },
           "zerolinecolor": "white",
           "zerolinewidth": 2
          }
         }
        },
        "width": 1200
       }
      }
     },
     "metadata": {},
     "output_type": "display_data"
    }
   ],
   "source": [
    "import plotly.graph_objects as go\n",
    "from plotly.subplots import make_subplots\n",
    "\n",
    "fig = make_subplots(1, 2, specs=[[{\"type\": \"domain\"}, {\"type\": \"domain\"}]],)\n",
    "\n",
    "ids = ['total','vi','en'] + list('vi - '+df.source.unique()) + list('en - '+df.source.unique()) \n",
    "labels = [f'Total {df.shape[0]} jobs','vi','en'] + list(''+df.source.unique()) +list(''+df.source.unique()) \n",
    "parents = ['','total','total'] + ['vi']*8 + ['en']*8\n",
    "\n",
    "values = [df.shape[0]] + [df.loc[df.language=='vi'].shape[0]] + [df.loc[df.language=='en'].shape[0]]\n",
    "\n",
    "for source in df.source.unique():\n",
    "    values.append(df.loc[(df.source==source) & (df.language == 'vi')].shape[0])\n",
    "\n",
    "for source in df.source.unique():\n",
    "    values.append(df.loc[(df.source==source) & (df.language == 'en')].shape[0])\n",
    "\n",
    "fig.add_trace(go.Sunburst(ids = ids,\n",
    "                            labels = labels,\n",
    "                            parents=parents,\n",
    "                            values = values,\n",
    "                             branchvalues=\"total\",\n",
    "                            ), 1, 1)\n",
    "ids = ['total' ]+ list(df.source.unique()) + list(df.source.unique()+' - en') + list(df.source.unique()+' - vi') \n",
    "labels = [f'Total {df.shape[0]} jobs' ]+ list(df.source.unique()) + ['en']*8 + ['vi']*8\n",
    "parents = [\"\"] + [\"total\"]*8 + list(df.source.unique()) *2\n",
    "\n",
    "values = [df.shape[0]]\n",
    "for source in df.source.unique():\n",
    "    values.append(df.loc[df.source==source].shape[0])\n",
    "for source in df.source.unique():\n",
    "    values.append(df.loc[(df.source==source) & (df.language == 'en')].shape[0])\n",
    "for source in df.source.unique():  \n",
    "    values.append(df.loc[(df.source==source) & (df.language == 'vi')].shape[0])\n",
    "\n",
    "fig.add_trace(go.Sunburst(ids = ids,\n",
    "                            labels = labels,\n",
    "                            parents=parents,\n",
    "                            values = values,\n",
    "                             branchvalues=\"total\",\n",
    "                            ), 1, 2)\n",
    "\n",
    "\n",
    "\n",
    "fig.update_layout(\n",
    "    grid= dict(columns=2, rows=1),\n",
    "    margin = dict(t=1, l=30, r=30, b=1),\n",
    "    width=1200, height=600\n",
    ")\n",
    "\n",
    "fig.show()"
   ]
  },
  {
   "cell_type": "code",
   "execution_count": 157,
   "metadata": {},
   "outputs": [
    {
     "data": {
      "application/vnd.plotly.v1+json": {
       "config": {
        "plotlyServerURL": "https://plot.ly"
       },
       "data": [
        {
         "branchvalues": "total",
         "domain": {
          "x": [
           0,
           0.45
          ],
          "y": [
           0,
           1
          ]
         },
         "ids": [
          "total",
          "blue",
          "white",
          "blue - vieclam24h",
          "blue - jobsGo",
          "blue - tuyencongnhan",
          "blue - topCV",
          "blue - careerBuilder",
          "blue - timviecnhanh",
          "blue - vietnamworks",
          "blue - sieuthivieclam",
          "white - vieclam24h",
          "white - jobsGo",
          "white - tuyencongnhan",
          "white - topCV",
          "white - careerBuilder",
          "white - timviecnhanh",
          "white - vietnamworks",
          "white - sieuthivieclam"
         ],
         "labels": [
          "Total 90997 jobs",
          "thợ",
          "thầy",
          "vieclam24h",
          "jobsGo",
          "tuyencongnhan",
          "topCV",
          "careerBuilder",
          "timviecnhanh",
          "vietnamworks",
          "sieuthivieclam",
          "vieclam24h",
          "jobsGo",
          "tuyencongnhan",
          "topCV",
          "careerBuilder",
          "timviecnhanh",
          "vietnamworks",
          "sieuthivieclam"
         ],
         "parents": [
          "",
          "total",
          "total",
          "blue",
          "blue",
          "blue",
          "blue",
          "blue",
          "blue",
          "blue",
          "blue",
          "white",
          "white",
          "white",
          "white",
          "white",
          "white",
          "white",
          "white"
         ],
         "type": "sunburst",
         "values": [
          90997,
          17875,
          73122,
          490,
          3676,
          1082,
          0,
          0,
          537,
          0,
          12090,
          612,
          14721,
          0,
          23603,
          23922,
          443,
          7947,
          1874
         ]
        },
        {
         "branchvalues": "total",
         "domain": {
          "x": [
           0.55,
           1
          ],
          "y": [
           0,
           1
          ]
         },
         "ids": [
          "total",
          "vieclam24h",
          "jobsGo",
          "tuyencongnhan",
          "topCV",
          "careerBuilder",
          "timviecnhanh",
          "vietnamworks",
          "sieuthivieclam",
          "vieclam24h - en",
          "jobsGo - en",
          "tuyencongnhan - en",
          "topCV - en",
          "careerBuilder - en",
          "timviecnhanh - en",
          "vietnamworks - en",
          "sieuthivieclam - en",
          "vieclam24h - vi",
          "jobsGo - vi",
          "tuyencongnhan - vi",
          "topCV - vi",
          "careerBuilder - vi",
          "timviecnhanh - vi",
          "vietnamworks - vi",
          "sieuthivieclam - vi"
         ],
         "labels": [
          "Total 90997 jobs",
          "vieclam24h",
          "jobsGo",
          "tuyencongnhan",
          "topCV",
          "careerBuilder",
          "timviecnhanh",
          "vietnamworks",
          "sieuthivieclam",
          "thợ",
          "thợ",
          "thợ",
          "thợ",
          "thợ",
          "thợ",
          "thợ",
          "thợ",
          "thầy",
          "thầy",
          "thầy",
          "thầy",
          "thầy",
          "thầy",
          "thầy",
          "thầy"
         ],
         "parents": [
          "",
          "total",
          "total",
          "total",
          "total",
          "total",
          "total",
          "total",
          "total",
          "vieclam24h",
          "jobsGo",
          "tuyencongnhan",
          "topCV",
          "careerBuilder",
          "timviecnhanh",
          "vietnamworks",
          "sieuthivieclam",
          "vieclam24h",
          "jobsGo",
          "tuyencongnhan",
          "topCV",
          "careerBuilder",
          "timviecnhanh",
          "vietnamworks",
          "sieuthivieclam"
         ],
         "type": "sunburst",
         "values": [
          90997,
          1102,
          18397,
          1082,
          23603,
          23922,
          980,
          7947,
          13964,
          490,
          3676,
          1082,
          0,
          0,
          537,
          0,
          12090,
          612,
          14721,
          0,
          23603,
          23922,
          443,
          7947,
          1874
         ]
        }
       ],
       "layout": {
        "grid": {
         "columns": 2,
         "rows": 1
        },
        "height": 600,
        "margin": {
         "b": 1,
         "l": 30,
         "r": 30,
         "t": 1
        },
        "template": {
         "data": {
          "bar": [
           {
            "error_x": {
             "color": "#2a3f5f"
            },
            "error_y": {
             "color": "#2a3f5f"
            },
            "marker": {
             "line": {
              "color": "#E5ECF6",
              "width": 0.5
             },
             "pattern": {
              "fillmode": "overlay",
              "size": 10,
              "solidity": 0.2
             }
            },
            "type": "bar"
           }
          ],
          "barpolar": [
           {
            "marker": {
             "line": {
              "color": "#E5ECF6",
              "width": 0.5
             },
             "pattern": {
              "fillmode": "overlay",
              "size": 10,
              "solidity": 0.2
             }
            },
            "type": "barpolar"
           }
          ],
          "carpet": [
           {
            "aaxis": {
             "endlinecolor": "#2a3f5f",
             "gridcolor": "white",
             "linecolor": "white",
             "minorgridcolor": "white",
             "startlinecolor": "#2a3f5f"
            },
            "baxis": {
             "endlinecolor": "#2a3f5f",
             "gridcolor": "white",
             "linecolor": "white",
             "minorgridcolor": "white",
             "startlinecolor": "#2a3f5f"
            },
            "type": "carpet"
           }
          ],
          "choropleth": [
           {
            "colorbar": {
             "outlinewidth": 0,
             "ticks": ""
            },
            "type": "choropleth"
           }
          ],
          "contour": [
           {
            "colorbar": {
             "outlinewidth": 0,
             "ticks": ""
            },
            "colorscale": [
             [
              0,
              "#0d0887"
             ],
             [
              0.1111111111111111,
              "#46039f"
             ],
             [
              0.2222222222222222,
              "#7201a8"
             ],
             [
              0.3333333333333333,
              "#9c179e"
             ],
             [
              0.4444444444444444,
              "#bd3786"
             ],
             [
              0.5555555555555556,
              "#d8576b"
             ],
             [
              0.6666666666666666,
              "#ed7953"
             ],
             [
              0.7777777777777778,
              "#fb9f3a"
             ],
             [
              0.8888888888888888,
              "#fdca26"
             ],
             [
              1,
              "#f0f921"
             ]
            ],
            "type": "contour"
           }
          ],
          "contourcarpet": [
           {
            "colorbar": {
             "outlinewidth": 0,
             "ticks": ""
            },
            "type": "contourcarpet"
           }
          ],
          "heatmap": [
           {
            "colorbar": {
             "outlinewidth": 0,
             "ticks": ""
            },
            "colorscale": [
             [
              0,
              "#0d0887"
             ],
             [
              0.1111111111111111,
              "#46039f"
             ],
             [
              0.2222222222222222,
              "#7201a8"
             ],
             [
              0.3333333333333333,
              "#9c179e"
             ],
             [
              0.4444444444444444,
              "#bd3786"
             ],
             [
              0.5555555555555556,
              "#d8576b"
             ],
             [
              0.6666666666666666,
              "#ed7953"
             ],
             [
              0.7777777777777778,
              "#fb9f3a"
             ],
             [
              0.8888888888888888,
              "#fdca26"
             ],
             [
              1,
              "#f0f921"
             ]
            ],
            "type": "heatmap"
           }
          ],
          "heatmapgl": [
           {
            "colorbar": {
             "outlinewidth": 0,
             "ticks": ""
            },
            "colorscale": [
             [
              0,
              "#0d0887"
             ],
             [
              0.1111111111111111,
              "#46039f"
             ],
             [
              0.2222222222222222,
              "#7201a8"
             ],
             [
              0.3333333333333333,
              "#9c179e"
             ],
             [
              0.4444444444444444,
              "#bd3786"
             ],
             [
              0.5555555555555556,
              "#d8576b"
             ],
             [
              0.6666666666666666,
              "#ed7953"
             ],
             [
              0.7777777777777778,
              "#fb9f3a"
             ],
             [
              0.8888888888888888,
              "#fdca26"
             ],
             [
              1,
              "#f0f921"
             ]
            ],
            "type": "heatmapgl"
           }
          ],
          "histogram": [
           {
            "marker": {
             "pattern": {
              "fillmode": "overlay",
              "size": 10,
              "solidity": 0.2
             }
            },
            "type": "histogram"
           }
          ],
          "histogram2d": [
           {
            "colorbar": {
             "outlinewidth": 0,
             "ticks": ""
            },
            "colorscale": [
             [
              0,
              "#0d0887"
             ],
             [
              0.1111111111111111,
              "#46039f"
             ],
             [
              0.2222222222222222,
              "#7201a8"
             ],
             [
              0.3333333333333333,
              "#9c179e"
             ],
             [
              0.4444444444444444,
              "#bd3786"
             ],
             [
              0.5555555555555556,
              "#d8576b"
             ],
             [
              0.6666666666666666,
              "#ed7953"
             ],
             [
              0.7777777777777778,
              "#fb9f3a"
             ],
             [
              0.8888888888888888,
              "#fdca26"
             ],
             [
              1,
              "#f0f921"
             ]
            ],
            "type": "histogram2d"
           }
          ],
          "histogram2dcontour": [
           {
            "colorbar": {
             "outlinewidth": 0,
             "ticks": ""
            },
            "colorscale": [
             [
              0,
              "#0d0887"
             ],
             [
              0.1111111111111111,
              "#46039f"
             ],
             [
              0.2222222222222222,
              "#7201a8"
             ],
             [
              0.3333333333333333,
              "#9c179e"
             ],
             [
              0.4444444444444444,
              "#bd3786"
             ],
             [
              0.5555555555555556,
              "#d8576b"
             ],
             [
              0.6666666666666666,
              "#ed7953"
             ],
             [
              0.7777777777777778,
              "#fb9f3a"
             ],
             [
              0.8888888888888888,
              "#fdca26"
             ],
             [
              1,
              "#f0f921"
             ]
            ],
            "type": "histogram2dcontour"
           }
          ],
          "mesh3d": [
           {
            "colorbar": {
             "outlinewidth": 0,
             "ticks": ""
            },
            "type": "mesh3d"
           }
          ],
          "parcoords": [
           {
            "line": {
             "colorbar": {
              "outlinewidth": 0,
              "ticks": ""
             }
            },
            "type": "parcoords"
           }
          ],
          "pie": [
           {
            "automargin": true,
            "type": "pie"
           }
          ],
          "scatter": [
           {
            "marker": {
             "colorbar": {
              "outlinewidth": 0,
              "ticks": ""
             }
            },
            "type": "scatter"
           }
          ],
          "scatter3d": [
           {
            "line": {
             "colorbar": {
              "outlinewidth": 0,
              "ticks": ""
             }
            },
            "marker": {
             "colorbar": {
              "outlinewidth": 0,
              "ticks": ""
             }
            },
            "type": "scatter3d"
           }
          ],
          "scattercarpet": [
           {
            "marker": {
             "colorbar": {
              "outlinewidth": 0,
              "ticks": ""
             }
            },
            "type": "scattercarpet"
           }
          ],
          "scattergeo": [
           {
            "marker": {
             "colorbar": {
              "outlinewidth": 0,
              "ticks": ""
             }
            },
            "type": "scattergeo"
           }
          ],
          "scattergl": [
           {
            "marker": {
             "colorbar": {
              "outlinewidth": 0,
              "ticks": ""
             }
            },
            "type": "scattergl"
           }
          ],
          "scattermapbox": [
           {
            "marker": {
             "colorbar": {
              "outlinewidth": 0,
              "ticks": ""
             }
            },
            "type": "scattermapbox"
           }
          ],
          "scatterpolar": [
           {
            "marker": {
             "colorbar": {
              "outlinewidth": 0,
              "ticks": ""
             }
            },
            "type": "scatterpolar"
           }
          ],
          "scatterpolargl": [
           {
            "marker": {
             "colorbar": {
              "outlinewidth": 0,
              "ticks": ""
             }
            },
            "type": "scatterpolargl"
           }
          ],
          "scatterternary": [
           {
            "marker": {
             "colorbar": {
              "outlinewidth": 0,
              "ticks": ""
             }
            },
            "type": "scatterternary"
           }
          ],
          "surface": [
           {
            "colorbar": {
             "outlinewidth": 0,
             "ticks": ""
            },
            "colorscale": [
             [
              0,
              "#0d0887"
             ],
             [
              0.1111111111111111,
              "#46039f"
             ],
             [
              0.2222222222222222,
              "#7201a8"
             ],
             [
              0.3333333333333333,
              "#9c179e"
             ],
             [
              0.4444444444444444,
              "#bd3786"
             ],
             [
              0.5555555555555556,
              "#d8576b"
             ],
             [
              0.6666666666666666,
              "#ed7953"
             ],
             [
              0.7777777777777778,
              "#fb9f3a"
             ],
             [
              0.8888888888888888,
              "#fdca26"
             ],
             [
              1,
              "#f0f921"
             ]
            ],
            "type": "surface"
           }
          ],
          "table": [
           {
            "cells": {
             "fill": {
              "color": "#EBF0F8"
             },
             "line": {
              "color": "white"
             }
            },
            "header": {
             "fill": {
              "color": "#C8D4E3"
             },
             "line": {
              "color": "white"
             }
            },
            "type": "table"
           }
          ]
         },
         "layout": {
          "annotationdefaults": {
           "arrowcolor": "#2a3f5f",
           "arrowhead": 0,
           "arrowwidth": 1
          },
          "autotypenumbers": "strict",
          "coloraxis": {
           "colorbar": {
            "outlinewidth": 0,
            "ticks": ""
           }
          },
          "colorscale": {
           "diverging": [
            [
             0,
             "#8e0152"
            ],
            [
             0.1,
             "#c51b7d"
            ],
            [
             0.2,
             "#de77ae"
            ],
            [
             0.3,
             "#f1b6da"
            ],
            [
             0.4,
             "#fde0ef"
            ],
            [
             0.5,
             "#f7f7f7"
            ],
            [
             0.6,
             "#e6f5d0"
            ],
            [
             0.7,
             "#b8e186"
            ],
            [
             0.8,
             "#7fbc41"
            ],
            [
             0.9,
             "#4d9221"
            ],
            [
             1,
             "#276419"
            ]
           ],
           "sequential": [
            [
             0,
             "#0d0887"
            ],
            [
             0.1111111111111111,
             "#46039f"
            ],
            [
             0.2222222222222222,
             "#7201a8"
            ],
            [
             0.3333333333333333,
             "#9c179e"
            ],
            [
             0.4444444444444444,
             "#bd3786"
            ],
            [
             0.5555555555555556,
             "#d8576b"
            ],
            [
             0.6666666666666666,
             "#ed7953"
            ],
            [
             0.7777777777777778,
             "#fb9f3a"
            ],
            [
             0.8888888888888888,
             "#fdca26"
            ],
            [
             1,
             "#f0f921"
            ]
           ],
           "sequentialminus": [
            [
             0,
             "#0d0887"
            ],
            [
             0.1111111111111111,
             "#46039f"
            ],
            [
             0.2222222222222222,
             "#7201a8"
            ],
            [
             0.3333333333333333,
             "#9c179e"
            ],
            [
             0.4444444444444444,
             "#bd3786"
            ],
            [
             0.5555555555555556,
             "#d8576b"
            ],
            [
             0.6666666666666666,
             "#ed7953"
            ],
            [
             0.7777777777777778,
             "#fb9f3a"
            ],
            [
             0.8888888888888888,
             "#fdca26"
            ],
            [
             1,
             "#f0f921"
            ]
           ]
          },
          "colorway": [
           "#636efa",
           "#EF553B",
           "#00cc96",
           "#ab63fa",
           "#FFA15A",
           "#19d3f3",
           "#FF6692",
           "#B6E880",
           "#FF97FF",
           "#FECB52"
          ],
          "font": {
           "color": "#2a3f5f"
          },
          "geo": {
           "bgcolor": "white",
           "lakecolor": "white",
           "landcolor": "#E5ECF6",
           "showlakes": true,
           "showland": true,
           "subunitcolor": "white"
          },
          "hoverlabel": {
           "align": "left"
          },
          "hovermode": "closest",
          "mapbox": {
           "style": "light"
          },
          "paper_bgcolor": "white",
          "plot_bgcolor": "#E5ECF6",
          "polar": {
           "angularaxis": {
            "gridcolor": "white",
            "linecolor": "white",
            "ticks": ""
           },
           "bgcolor": "#E5ECF6",
           "radialaxis": {
            "gridcolor": "white",
            "linecolor": "white",
            "ticks": ""
           }
          },
          "scene": {
           "xaxis": {
            "backgroundcolor": "#E5ECF6",
            "gridcolor": "white",
            "gridwidth": 2,
            "linecolor": "white",
            "showbackground": true,
            "ticks": "",
            "zerolinecolor": "white"
           },
           "yaxis": {
            "backgroundcolor": "#E5ECF6",
            "gridcolor": "white",
            "gridwidth": 2,
            "linecolor": "white",
            "showbackground": true,
            "ticks": "",
            "zerolinecolor": "white"
           },
           "zaxis": {
            "backgroundcolor": "#E5ECF6",
            "gridcolor": "white",
            "gridwidth": 2,
            "linecolor": "white",
            "showbackground": true,
            "ticks": "",
            "zerolinecolor": "white"
           }
          },
          "shapedefaults": {
           "line": {
            "color": "#2a3f5f"
           }
          },
          "ternary": {
           "aaxis": {
            "gridcolor": "white",
            "linecolor": "white",
            "ticks": ""
           },
           "baxis": {
            "gridcolor": "white",
            "linecolor": "white",
            "ticks": ""
           },
           "bgcolor": "#E5ECF6",
           "caxis": {
            "gridcolor": "white",
            "linecolor": "white",
            "ticks": ""
           }
          },
          "title": {
           "x": 0.05
          },
          "xaxis": {
           "automargin": true,
           "gridcolor": "white",
           "linecolor": "white",
           "ticks": "",
           "title": {
            "standoff": 15
           },
           "zerolinecolor": "white",
           "zerolinewidth": 2
          },
          "yaxis": {
           "automargin": true,
           "gridcolor": "white",
           "linecolor": "white",
           "ticks": "",
           "title": {
            "standoff": 15
           },
           "zerolinecolor": "white",
           "zerolinewidth": 2
          }
         }
        },
        "width": 1200
       }
      }
     },
     "metadata": {},
     "output_type": "display_data"
    }
   ],
   "source": [
    "import plotly.graph_objects as go\n",
    "from plotly.subplots import make_subplots\n",
    "\n",
    "fig = make_subplots(1, 2, specs=[[{\"type\": \"domain\"}, {\"type\": \"domain\"}]],\n",
    "                     )\n",
    "\n",
    "ids = ['total','blue','white'] + list('blue - '+df.source.unique()) + list('white - '+df.source.unique()) \n",
    "labels = [f'Total {df.shape[0]} jobs','thợ','thầy'] + list(''+df.source.unique()) +list(''+df.source.unique()) \n",
    "parents = ['','total','total'] + ['blue']*8 + ['white']*8\n",
    "\n",
    "values = [df.shape[0]] + [df.loc[df.blue_or_white=='blue'].shape[0]] + [df.loc[df.blue_or_white=='white'].shape[0]]\n",
    "\n",
    "for source in df.source.unique():\n",
    "    values.append(df.loc[(df.source==source) & (df.blue_or_white == 'blue')].shape[0])\n",
    "\n",
    "for source in df.source.unique():\n",
    "    values.append(df.loc[(df.source==source) & (df.blue_or_white == 'white')].shape[0])\n",
    "\n",
    "fig.add_trace(go.Sunburst(ids = ids,\n",
    "                            labels = labels,\n",
    "                            parents=parents,\n",
    "                            values = values,\n",
    "                             branchvalues=\"total\",\n",
    "                            ), 1, 1)\n",
    "ids = ['total' ]+ list(df.source.unique()) + list(df.source.unique()+' - en') + list(df.source.unique()+' - vi') \n",
    "labels = [f'Total {df.shape[0]} jobs' ]+ list(df.source.unique()) + ['thợ']*8 + ['thầy']*8\n",
    "parents = [\"\"] + [\"total\"]*8 + list(df.source.unique()) *2\n",
    "\n",
    "values = [df.shape[0]]\n",
    "for source in df.source.unique():\n",
    "    values.append(df.loc[df.source==source].shape[0])\n",
    "for source in df.source.unique():\n",
    "    values.append(df.loc[(df.source==source) & (df.blue_or_white == 'blue')].shape[0])\n",
    "for source in df.source.unique():  \n",
    "    values.append(df.loc[(df.source==source) & (df.blue_or_white == 'white')].shape[0])\n",
    "\n",
    "fig.add_trace(go.Sunburst(ids = ids,\n",
    "                            labels = labels,\n",
    "                            parents=parents,\n",
    "                            values = values,\n",
    "                             branchvalues=\"total\",\n",
    "                            ), 1, 2)\n",
    "\n",
    "\n",
    "\n",
    "fig.update_layout(\n",
    "    grid= dict(columns=2, rows=1),\n",
    "    margin = dict(t=1, l=30, r=30, b=1),\n",
    "    width=1200, height=600,\n",
    ")\n",
    "# fig.set_tit\n",
    "fig.show()"
   ]
  },
  {
   "cell_type": "code",
   "execution_count": null,
   "metadata": {},
   "outputs": [],
   "source": [
    "import datetime\n",
    "date_object = datetime.date.today()\n",
    "df.to_csv(f'aggregated-{date_object}.csv', index=False)"
   ]
  }
 ],
 "metadata": {
  "interpreter": {
   "hash": "62c7911008f581440d9d286d9125473e755305b7df66323a10d1fb2a51e451f8"
  },
  "kernelspec": {
   "display_name": "Python 3.9.7 64-bit ('te': conda)",
   "name": "python3"
  },
  "language_info": {
   "codemirror_mode": {
    "name": "ipython",
    "version": 3
   },
   "file_extension": ".py",
   "mimetype": "text/x-python",
   "name": "python",
   "nbconvert_exporter": "python",
   "pygments_lexer": "ipython3",
   "version": "3.8.12"
  },
  "orig_nbformat": 4
 },
 "nbformat": 4,
 "nbformat_minor": 2
}
